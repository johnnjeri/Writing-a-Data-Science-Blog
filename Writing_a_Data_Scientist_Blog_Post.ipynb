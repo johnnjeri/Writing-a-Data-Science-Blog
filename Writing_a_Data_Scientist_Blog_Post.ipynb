{
 "cells": [
  {
   "cell_type": "markdown",
   "metadata": {},
   "source": [
    "## Project Objectives"
   ]
  },
  {
   "cell_type": "markdown",
   "metadata": {},
   "source": [
    "Air BnB has become a popular sourse of short-term stays for modern travellers. Pricing and quality service are critically crucial in an individual’s decision-making process of whether to go with an AirBnB listing. Additionally, these elements are also crucial for hosts in their process of maximizing returns. Having an opportunity to observe the Seattle Airbnb dataset and identify some of the factors that affect listing prices and host service delivery is intriguing.\n",
    "\n",
    "The data is inform of 3 datasets namely:\n",
    "\n",
    "*listings.csv* - has all the listings in Seattle including full descriptions and average review score\n",
    "\n",
    "*calendar.csv* - contains listing id and the price and availability for that day\n",
    "\n",
    "*reviews.csv* - has all the reviews for these listings including unique id for each reviewer and detailed comments\n",
    "\n",
    "The objectives of this project is to understand various patterns related to pricing and quality of hosting service and their relationship to various categorical variables. To achieve this objective, I will explore the following related questions:\n",
    "\n",
    "     1. Can the response time be used as a measure of quality based on the corresponding review scores?-This can be used by future clients who want to have a quick check on the quality of service for various hosts.\n",
    "    \n",
    "    2. Do superhosts tend to charge more that the non-superhosts? -This can help prospective clients to select which type of host they would like to contact. Additionally, if there is a clear distinction in terms of pricing, it could help predict the pricing\n",
    "    \n",
    "    3. What property type are more people interested in and does it affect the pricing?-This can help prospective host to estimate the probability of demand for their proterty"
   ]
  },
  {
   "cell_type": "markdown",
   "metadata": {},
   "source": [
    "### Project Plan and Stages"
   ]
  },
  {
   "cell_type": "markdown",
   "metadata": {},
   "source": [
    "**Libraries**: The first stage of the project will be importing the necessary python libraries to enhance loading the data, cleaning the data and visualize the data.\n",
    "\n",
    "**Understand the Data**: After loading the data, I will perform basic exploratory analysis for the data to have a better understanding and also shape my analysis methodology. Additionally, I will assess the data quality to enhance the quality of my analysis.\n",
    "\n",
    "**Feature Engineering**: This step entails data cleaing, feature engineering that involves creating new feature sneeded for analysis and integrating data through merging.\n",
    "\n",
    "**Analysis of the Business Questions**: This section will involve analyzing the business questions to get the insights\n",
    "\n",
    "**Conclusion of Analysis**: This part involves analyzing the results from the 3 business questions"
   ]
  },
  {
   "cell_type": "markdown",
   "metadata": {},
   "source": [
    "\n",
    "\n",
    "   \n"
   ]
  },
  {
   "cell_type": "markdown",
   "metadata": {},
   "source": [
    "## Libraries"
   ]
  },
  {
   "cell_type": "code",
   "execution_count": 33,
   "metadata": {
    "ExecuteTime": {
     "end_time": "2020-06-17T01:25:33.079856Z",
     "start_time": "2020-06-17T01:25:33.065508Z"
    }
   },
   "outputs": [],
   "source": [
    "#Import libraries\n",
    "import pandas as pd\n",
    "import numpy as np\n",
    "import matplotlib.pyplot as plt\n",
    "%matplotlib inline\n",
    "pd.set_option('display.max_columns', None)\n",
    "import warnings\n",
    "warnings.filterwarnings('ignore')\n",
    "import seaborn as sns\n",
    "pd.options.display.float_format = '{:,.2f}'.format\n",
    "from re import sub\n",
    "from decimal import Decimal"
   ]
  },
  {
   "cell_type": "markdown",
   "metadata": {},
   "source": [
    "## Load the data"
   ]
  },
  {
   "cell_type": "code",
   "execution_count": 4,
   "metadata": {
    "ExecuteTime": {
     "end_time": "2020-06-17T00:17:26.111389Z",
     "start_time": "2020-06-17T00:17:24.978413Z"
    }
   },
   "outputs": [],
   "source": [
    "#Load the data\n",
    "listing_df = pd.read_csv('listings.csv', dtype=str)\n",
    "calendar_df = pd.read_csv('calendar.csv', dtype=str)\n",
    "reviews_df = pd.read_csv('reviews.csv', dtype=str)"
   ]
  },
  {
   "cell_type": "markdown",
   "metadata": {},
   "source": [
    "## Data Understanding"
   ]
  },
  {
   "cell_type": "markdown",
   "metadata": {},
   "source": [
    "### Listing Data"
   ]
  },
  {
   "cell_type": "code",
   "execution_count": 5,
   "metadata": {
    "ExecuteTime": {
     "end_time": "2020-06-17T00:17:29.048214Z",
     "start_time": "2020-06-17T00:17:28.971820Z"
    }
   },
   "outputs": [
    {
     "name": "stdout",
     "output_type": "stream",
     "text": [
      "The listing dataset has 3818 columns and 92 rows\n"
     ]
    },
    {
     "data": {
      "text/html": [
       "<div>\n",
       "<style scoped>\n",
       "    .dataframe tbody tr th:only-of-type {\n",
       "        vertical-align: middle;\n",
       "    }\n",
       "\n",
       "    .dataframe tbody tr th {\n",
       "        vertical-align: top;\n",
       "    }\n",
       "\n",
       "    .dataframe thead th {\n",
       "        text-align: right;\n",
       "    }\n",
       "</style>\n",
       "<table border=\"1\" class=\"dataframe\">\n",
       "  <thead>\n",
       "    <tr style=\"text-align: right;\">\n",
       "      <th></th>\n",
       "      <th>id</th>\n",
       "      <th>listing_url</th>\n",
       "      <th>scrape_id</th>\n",
       "      <th>last_scraped</th>\n",
       "      <th>name</th>\n",
       "      <th>summary</th>\n",
       "      <th>space</th>\n",
       "      <th>description</th>\n",
       "      <th>experiences_offered</th>\n",
       "      <th>neighborhood_overview</th>\n",
       "      <th>notes</th>\n",
       "      <th>transit</th>\n",
       "      <th>thumbnail_url</th>\n",
       "      <th>medium_url</th>\n",
       "      <th>picture_url</th>\n",
       "      <th>xl_picture_url</th>\n",
       "      <th>host_id</th>\n",
       "      <th>host_url</th>\n",
       "      <th>host_name</th>\n",
       "      <th>host_since</th>\n",
       "      <th>host_location</th>\n",
       "      <th>host_about</th>\n",
       "      <th>host_response_time</th>\n",
       "      <th>host_response_rate</th>\n",
       "      <th>host_acceptance_rate</th>\n",
       "      <th>host_is_superhost</th>\n",
       "      <th>host_thumbnail_url</th>\n",
       "      <th>host_picture_url</th>\n",
       "      <th>host_neighbourhood</th>\n",
       "      <th>host_listings_count</th>\n",
       "      <th>host_total_listings_count</th>\n",
       "      <th>host_verifications</th>\n",
       "      <th>host_has_profile_pic</th>\n",
       "      <th>host_identity_verified</th>\n",
       "      <th>street</th>\n",
       "      <th>neighbourhood</th>\n",
       "      <th>neighbourhood_cleansed</th>\n",
       "      <th>neighbourhood_group_cleansed</th>\n",
       "      <th>city</th>\n",
       "      <th>state</th>\n",
       "      <th>zipcode</th>\n",
       "      <th>market</th>\n",
       "      <th>smart_location</th>\n",
       "      <th>country_code</th>\n",
       "      <th>country</th>\n",
       "      <th>latitude</th>\n",
       "      <th>longitude</th>\n",
       "      <th>is_location_exact</th>\n",
       "      <th>property_type</th>\n",
       "      <th>room_type</th>\n",
       "      <th>accommodates</th>\n",
       "      <th>bathrooms</th>\n",
       "      <th>bedrooms</th>\n",
       "      <th>beds</th>\n",
       "      <th>bed_type</th>\n",
       "      <th>amenities</th>\n",
       "      <th>square_feet</th>\n",
       "      <th>price</th>\n",
       "      <th>weekly_price</th>\n",
       "      <th>monthly_price</th>\n",
       "      <th>security_deposit</th>\n",
       "      <th>cleaning_fee</th>\n",
       "      <th>guests_included</th>\n",
       "      <th>extra_people</th>\n",
       "      <th>minimum_nights</th>\n",
       "      <th>maximum_nights</th>\n",
       "      <th>calendar_updated</th>\n",
       "      <th>has_availability</th>\n",
       "      <th>availability_30</th>\n",
       "      <th>availability_60</th>\n",
       "      <th>availability_90</th>\n",
       "      <th>availability_365</th>\n",
       "      <th>calendar_last_scraped</th>\n",
       "      <th>number_of_reviews</th>\n",
       "      <th>first_review</th>\n",
       "      <th>last_review</th>\n",
       "      <th>review_scores_rating</th>\n",
       "      <th>review_scores_accuracy</th>\n",
       "      <th>review_scores_cleanliness</th>\n",
       "      <th>review_scores_checkin</th>\n",
       "      <th>review_scores_communication</th>\n",
       "      <th>review_scores_location</th>\n",
       "      <th>review_scores_value</th>\n",
       "      <th>requires_license</th>\n",
       "      <th>license</th>\n",
       "      <th>jurisdiction_names</th>\n",
       "      <th>instant_bookable</th>\n",
       "      <th>cancellation_policy</th>\n",
       "      <th>require_guest_profile_picture</th>\n",
       "      <th>require_guest_phone_verification</th>\n",
       "      <th>calculated_host_listings_count</th>\n",
       "      <th>reviews_per_month</th>\n",
       "    </tr>\n",
       "  </thead>\n",
       "  <tbody>\n",
       "    <tr>\n",
       "      <th>0</th>\n",
       "      <td>241032</td>\n",
       "      <td>https://www.airbnb.com/rooms/241032</td>\n",
       "      <td>20160104002432</td>\n",
       "      <td>2016-01-04</td>\n",
       "      <td>Stylish Queen Anne Apartment</td>\n",
       "      <td>NaN</td>\n",
       "      <td>Make your self at home in this charming one-be...</td>\n",
       "      <td>Make your self at home in this charming one-be...</td>\n",
       "      <td>none</td>\n",
       "      <td>NaN</td>\n",
       "      <td>NaN</td>\n",
       "      <td>NaN</td>\n",
       "      <td>NaN</td>\n",
       "      <td>NaN</td>\n",
       "      <td>https://a1.muscache.com/ac/pictures/67560560/c...</td>\n",
       "      <td>NaN</td>\n",
       "      <td>956883</td>\n",
       "      <td>https://www.airbnb.com/users/show/956883</td>\n",
       "      <td>Maija</td>\n",
       "      <td>2011-08-11</td>\n",
       "      <td>Seattle, Washington, United States</td>\n",
       "      <td>I am an artist, interior designer, and run a s...</td>\n",
       "      <td>within a few hours</td>\n",
       "      <td>96%</td>\n",
       "      <td>100%</td>\n",
       "      <td>f</td>\n",
       "      <td>https://a0.muscache.com/ac/users/956883/profil...</td>\n",
       "      <td>https://a0.muscache.com/ac/users/956883/profil...</td>\n",
       "      <td>Queen Anne</td>\n",
       "      <td>3</td>\n",
       "      <td>3</td>\n",
       "      <td>['email', 'phone', 'reviews', 'kba']</td>\n",
       "      <td>t</td>\n",
       "      <td>t</td>\n",
       "      <td>Gilman Dr W, Seattle, WA 98119, United States</td>\n",
       "      <td>Queen Anne</td>\n",
       "      <td>West Queen Anne</td>\n",
       "      <td>Queen Anne</td>\n",
       "      <td>Seattle</td>\n",
       "      <td>WA</td>\n",
       "      <td>98119</td>\n",
       "      <td>Seattle</td>\n",
       "      <td>Seattle, WA</td>\n",
       "      <td>US</td>\n",
       "      <td>United States</td>\n",
       "      <td>47.636289038357184</td>\n",
       "      <td>-122.37102519997765</td>\n",
       "      <td>t</td>\n",
       "      <td>Apartment</td>\n",
       "      <td>Entire home/apt</td>\n",
       "      <td>4</td>\n",
       "      <td>1.0</td>\n",
       "      <td>1</td>\n",
       "      <td>1</td>\n",
       "      <td>Real Bed</td>\n",
       "      <td>{TV,\"Cable TV\",Internet,\"Wireless Internet\",\"A...</td>\n",
       "      <td>NaN</td>\n",
       "      <td>$85.00</td>\n",
       "      <td>NaN</td>\n",
       "      <td>NaN</td>\n",
       "      <td>NaN</td>\n",
       "      <td>NaN</td>\n",
       "      <td>2</td>\n",
       "      <td>$5.00</td>\n",
       "      <td>1</td>\n",
       "      <td>365</td>\n",
       "      <td>4 weeks ago</td>\n",
       "      <td>t</td>\n",
       "      <td>14</td>\n",
       "      <td>41</td>\n",
       "      <td>71</td>\n",
       "      <td>346</td>\n",
       "      <td>2016-01-04</td>\n",
       "      <td>207</td>\n",
       "      <td>2011-11-01</td>\n",
       "      <td>2016-01-02</td>\n",
       "      <td>95</td>\n",
       "      <td>10</td>\n",
       "      <td>10</td>\n",
       "      <td>10</td>\n",
       "      <td>10</td>\n",
       "      <td>9</td>\n",
       "      <td>10</td>\n",
       "      <td>f</td>\n",
       "      <td>NaN</td>\n",
       "      <td>WASHINGTON</td>\n",
       "      <td>f</td>\n",
       "      <td>moderate</td>\n",
       "      <td>f</td>\n",
       "      <td>f</td>\n",
       "      <td>2</td>\n",
       "      <td>4.07</td>\n",
       "    </tr>\n",
       "    <tr>\n",
       "      <th>1</th>\n",
       "      <td>953595</td>\n",
       "      <td>https://www.airbnb.com/rooms/953595</td>\n",
       "      <td>20160104002432</td>\n",
       "      <td>2016-01-04</td>\n",
       "      <td>Bright &amp; Airy Queen Anne Apartment</td>\n",
       "      <td>Chemically sensitive? We've removed the irrita...</td>\n",
       "      <td>Beautiful, hypoallergenic apartment in an extr...</td>\n",
       "      <td>Chemically sensitive? We've removed the irrita...</td>\n",
       "      <td>none</td>\n",
       "      <td>Queen Anne is a wonderful, truly functional vi...</td>\n",
       "      <td>What's up with the free pillows?  Our home was...</td>\n",
       "      <td>Convenient bus stops are just down the block, ...</td>\n",
       "      <td>https://a0.muscache.com/ac/pictures/14409893/f...</td>\n",
       "      <td>https://a0.muscache.com/im/pictures/14409893/f...</td>\n",
       "      <td>https://a0.muscache.com/ac/pictures/14409893/f...</td>\n",
       "      <td>https://a0.muscache.com/ac/pictures/14409893/f...</td>\n",
       "      <td>5177328</td>\n",
       "      <td>https://www.airbnb.com/users/show/5177328</td>\n",
       "      <td>Andrea</td>\n",
       "      <td>2013-02-21</td>\n",
       "      <td>Seattle, Washington, United States</td>\n",
       "      <td>Living east coast/left coast/overseas.  Time i...</td>\n",
       "      <td>within an hour</td>\n",
       "      <td>98%</td>\n",
       "      <td>100%</td>\n",
       "      <td>t</td>\n",
       "      <td>https://a0.muscache.com/ac/users/5177328/profi...</td>\n",
       "      <td>https://a0.muscache.com/ac/users/5177328/profi...</td>\n",
       "      <td>Queen Anne</td>\n",
       "      <td>6</td>\n",
       "      <td>6</td>\n",
       "      <td>['email', 'phone', 'facebook', 'linkedin', 're...</td>\n",
       "      <td>t</td>\n",
       "      <td>t</td>\n",
       "      <td>7th Avenue West, Seattle, WA 98119, United States</td>\n",
       "      <td>Queen Anne</td>\n",
       "      <td>West Queen Anne</td>\n",
       "      <td>Queen Anne</td>\n",
       "      <td>Seattle</td>\n",
       "      <td>WA</td>\n",
       "      <td>98119</td>\n",
       "      <td>Seattle</td>\n",
       "      <td>Seattle, WA</td>\n",
       "      <td>US</td>\n",
       "      <td>United States</td>\n",
       "      <td>47.63912312136253</td>\n",
       "      <td>-122.36566646439582</td>\n",
       "      <td>t</td>\n",
       "      <td>Apartment</td>\n",
       "      <td>Entire home/apt</td>\n",
       "      <td>4</td>\n",
       "      <td>1.0</td>\n",
       "      <td>1</td>\n",
       "      <td>1</td>\n",
       "      <td>Real Bed</td>\n",
       "      <td>{TV,Internet,\"Wireless Internet\",Kitchen,\"Free...</td>\n",
       "      <td>NaN</td>\n",
       "      <td>$150.00</td>\n",
       "      <td>$1,000.00</td>\n",
       "      <td>$3,000.00</td>\n",
       "      <td>$100.00</td>\n",
       "      <td>$40.00</td>\n",
       "      <td>1</td>\n",
       "      <td>$0.00</td>\n",
       "      <td>2</td>\n",
       "      <td>90</td>\n",
       "      <td>today</td>\n",
       "      <td>t</td>\n",
       "      <td>13</td>\n",
       "      <td>13</td>\n",
       "      <td>16</td>\n",
       "      <td>291</td>\n",
       "      <td>2016-01-04</td>\n",
       "      <td>43</td>\n",
       "      <td>2013-08-19</td>\n",
       "      <td>2015-12-29</td>\n",
       "      <td>96</td>\n",
       "      <td>10</td>\n",
       "      <td>10</td>\n",
       "      <td>10</td>\n",
       "      <td>10</td>\n",
       "      <td>10</td>\n",
       "      <td>10</td>\n",
       "      <td>f</td>\n",
       "      <td>NaN</td>\n",
       "      <td>WASHINGTON</td>\n",
       "      <td>f</td>\n",
       "      <td>strict</td>\n",
       "      <td>t</td>\n",
       "      <td>t</td>\n",
       "      <td>6</td>\n",
       "      <td>1.48</td>\n",
       "    </tr>\n",
       "  </tbody>\n",
       "</table>\n",
       "</div>"
      ],
      "text/plain": [
       "       id                          listing_url       scrape_id last_scraped  \\\n",
       "0  241032  https://www.airbnb.com/rooms/241032  20160104002432   2016-01-04   \n",
       "1  953595  https://www.airbnb.com/rooms/953595  20160104002432   2016-01-04   \n",
       "\n",
       "                                 name  \\\n",
       "0        Stylish Queen Anne Apartment   \n",
       "1  Bright & Airy Queen Anne Apartment   \n",
       "\n",
       "                                             summary  \\\n",
       "0                                                NaN   \n",
       "1  Chemically sensitive? We've removed the irrita...   \n",
       "\n",
       "                                               space  \\\n",
       "0  Make your self at home in this charming one-be...   \n",
       "1  Beautiful, hypoallergenic apartment in an extr...   \n",
       "\n",
       "                                         description experiences_offered  \\\n",
       "0  Make your self at home in this charming one-be...                none   \n",
       "1  Chemically sensitive? We've removed the irrita...                none   \n",
       "\n",
       "                               neighborhood_overview  \\\n",
       "0                                                NaN   \n",
       "1  Queen Anne is a wonderful, truly functional vi...   \n",
       "\n",
       "                                               notes  \\\n",
       "0                                                NaN   \n",
       "1  What's up with the free pillows?  Our home was...   \n",
       "\n",
       "                                             transit  \\\n",
       "0                                                NaN   \n",
       "1  Convenient bus stops are just down the block, ...   \n",
       "\n",
       "                                       thumbnail_url  \\\n",
       "0                                                NaN   \n",
       "1  https://a0.muscache.com/ac/pictures/14409893/f...   \n",
       "\n",
       "                                          medium_url  \\\n",
       "0                                                NaN   \n",
       "1  https://a0.muscache.com/im/pictures/14409893/f...   \n",
       "\n",
       "                                         picture_url  \\\n",
       "0  https://a1.muscache.com/ac/pictures/67560560/c...   \n",
       "1  https://a0.muscache.com/ac/pictures/14409893/f...   \n",
       "\n",
       "                                      xl_picture_url  host_id  \\\n",
       "0                                                NaN   956883   \n",
       "1  https://a0.muscache.com/ac/pictures/14409893/f...  5177328   \n",
       "\n",
       "                                    host_url host_name  host_since  \\\n",
       "0   https://www.airbnb.com/users/show/956883     Maija  2011-08-11   \n",
       "1  https://www.airbnb.com/users/show/5177328    Andrea  2013-02-21   \n",
       "\n",
       "                        host_location  \\\n",
       "0  Seattle, Washington, United States   \n",
       "1  Seattle, Washington, United States   \n",
       "\n",
       "                                          host_about  host_response_time  \\\n",
       "0  I am an artist, interior designer, and run a s...  within a few hours   \n",
       "1  Living east coast/left coast/overseas.  Time i...      within an hour   \n",
       "\n",
       "  host_response_rate host_acceptance_rate host_is_superhost  \\\n",
       "0                96%                 100%                 f   \n",
       "1                98%                 100%                 t   \n",
       "\n",
       "                                  host_thumbnail_url  \\\n",
       "0  https://a0.muscache.com/ac/users/956883/profil...   \n",
       "1  https://a0.muscache.com/ac/users/5177328/profi...   \n",
       "\n",
       "                                    host_picture_url host_neighbourhood  \\\n",
       "0  https://a0.muscache.com/ac/users/956883/profil...         Queen Anne   \n",
       "1  https://a0.muscache.com/ac/users/5177328/profi...         Queen Anne   \n",
       "\n",
       "  host_listings_count host_total_listings_count  \\\n",
       "0                   3                         3   \n",
       "1                   6                         6   \n",
       "\n",
       "                                  host_verifications host_has_profile_pic  \\\n",
       "0               ['email', 'phone', 'reviews', 'kba']                    t   \n",
       "1  ['email', 'phone', 'facebook', 'linkedin', 're...                    t   \n",
       "\n",
       "  host_identity_verified                                             street  \\\n",
       "0                      t      Gilman Dr W, Seattle, WA 98119, United States   \n",
       "1                      t  7th Avenue West, Seattle, WA 98119, United States   \n",
       "\n",
       "  neighbourhood neighbourhood_cleansed neighbourhood_group_cleansed     city  \\\n",
       "0    Queen Anne        West Queen Anne                   Queen Anne  Seattle   \n",
       "1    Queen Anne        West Queen Anne                   Queen Anne  Seattle   \n",
       "\n",
       "  state zipcode   market smart_location country_code        country  \\\n",
       "0    WA   98119  Seattle    Seattle, WA           US  United States   \n",
       "1    WA   98119  Seattle    Seattle, WA           US  United States   \n",
       "\n",
       "             latitude            longitude is_location_exact property_type  \\\n",
       "0  47.636289038357184  -122.37102519997765                 t     Apartment   \n",
       "1   47.63912312136253  -122.36566646439582                 t     Apartment   \n",
       "\n",
       "         room_type accommodates bathrooms bedrooms beds  bed_type  \\\n",
       "0  Entire home/apt            4       1.0        1    1  Real Bed   \n",
       "1  Entire home/apt            4       1.0        1    1  Real Bed   \n",
       "\n",
       "                                           amenities square_feet    price  \\\n",
       "0  {TV,\"Cable TV\",Internet,\"Wireless Internet\",\"A...         NaN   $85.00   \n",
       "1  {TV,Internet,\"Wireless Internet\",Kitchen,\"Free...         NaN  $150.00   \n",
       "\n",
       "  weekly_price monthly_price security_deposit cleaning_fee guests_included  \\\n",
       "0          NaN           NaN              NaN          NaN               2   \n",
       "1    $1,000.00     $3,000.00          $100.00       $40.00               1   \n",
       "\n",
       "  extra_people minimum_nights maximum_nights calendar_updated  \\\n",
       "0        $5.00              1            365      4 weeks ago   \n",
       "1        $0.00              2             90            today   \n",
       "\n",
       "  has_availability availability_30 availability_60 availability_90  \\\n",
       "0                t              14              41              71   \n",
       "1                t              13              13              16   \n",
       "\n",
       "  availability_365 calendar_last_scraped number_of_reviews first_review  \\\n",
       "0              346            2016-01-04               207   2011-11-01   \n",
       "1              291            2016-01-04                43   2013-08-19   \n",
       "\n",
       "  last_review review_scores_rating review_scores_accuracy  \\\n",
       "0  2016-01-02                   95                     10   \n",
       "1  2015-12-29                   96                     10   \n",
       "\n",
       "  review_scores_cleanliness review_scores_checkin review_scores_communication  \\\n",
       "0                        10                    10                          10   \n",
       "1                        10                    10                          10   \n",
       "\n",
       "  review_scores_location review_scores_value requires_license license  \\\n",
       "0                      9                  10                f     NaN   \n",
       "1                     10                  10                f     NaN   \n",
       "\n",
       "  jurisdiction_names instant_bookable cancellation_policy  \\\n",
       "0         WASHINGTON                f            moderate   \n",
       "1         WASHINGTON                f              strict   \n",
       "\n",
       "  require_guest_profile_picture require_guest_phone_verification  \\\n",
       "0                             f                                f   \n",
       "1                             t                                t   \n",
       "\n",
       "  calculated_host_listings_count reviews_per_month  \n",
       "0                              2              4.07  \n",
       "1                              6              1.48  "
      ]
     },
     "execution_count": 5,
     "metadata": {},
     "output_type": "execute_result"
    }
   ],
   "source": [
    "print(f\"The listing dataset has {listing_df.shape[0]} columns and {listing_df.shape[1]} rows\")\n",
    "listing_df.head(2)"
   ]
  },
  {
   "cell_type": "markdown",
   "metadata": {},
   "source": [
    "Since the business questions will not involve all the 92 columns, I selected the following columns for exploration."
   ]
  },
  {
   "cell_type": "code",
   "execution_count": 14,
   "metadata": {
    "ExecuteTime": {
     "end_time": "2020-06-17T00:48:07.674571Z",
     "start_time": "2020-06-17T00:48:07.665048Z"
    }
   },
   "outputs": [
    {
     "data": {
      "text/plain": [
       "(3818, 17)"
      ]
     },
     "execution_count": 14,
     "metadata": {},
     "output_type": "execute_result"
    }
   ],
   "source": [
    "#Subset to the columns needed to answer the questions\n",
    "new_df = listing_df[['id','host_response_time', 'host_response_rate', \n",
    "                    'price', 'guests_included', 'extra_people', 'minimum_nights',\n",
    "                    'number_of_reviews','review_scores_rating', 'review_scores_cleanliness', 'review_scores_checkin',\n",
    "                    'review_scores_communication', 'review_scores_location', 'review_scores_value', 'reviews_per_month',\n",
    "                    'host_is_superhost', 'property_type']]\n",
    "new_df.shape"
   ]
  },
  {
   "cell_type": "code",
   "execution_count": 15,
   "metadata": {
    "ExecuteTime": {
     "end_time": "2020-06-17T00:48:10.143369Z",
     "start_time": "2020-06-17T00:48:10.137423Z"
    }
   },
   "outputs": [
    {
     "data": {
      "text/plain": [
       "3818"
      ]
     },
     "execution_count": 15,
     "metadata": {},
     "output_type": "execute_result"
    }
   ],
   "source": [
    "#There are 3818 listings meaning all listing ids are unique\n",
    "new_df['id'].nunique()"
   ]
  },
  {
   "cell_type": "code",
   "execution_count": 16,
   "metadata": {
    "ExecuteTime": {
     "end_time": "2020-06-17T00:48:23.556210Z",
     "start_time": "2020-06-17T00:48:23.189328Z"
    }
   },
   "outputs": [
    {
     "data": {
      "image/png": "[encoded data removed]",
      "text/plain": [
       "<Figure size 432x288 with 1 Axes>"
      ]
     },
     "metadata": {
      "needs_background": "light"
     },
     "output_type": "display_data"
    },
    {
     "data": {
      "image/png": "[encoded data removed]",
      "text/plain": [
       "<Figure size 432x288 with 1 Axes>"
      ]
     },
     "metadata": {
      "needs_background": "light"
     },
     "output_type": "display_data"
    },
    {
     "data": {
      "image/png": "[encoded data removed]",
      "text/plain": [
       "<Figure size 432x288 with 1 Axes>"
      ]
     },
     "metadata": {
      "needs_background": "light"
     },
     "output_type": "display_data"
    }
   ],
   "source": [
    "#Get the value_counts of categorical columns and plot them\n",
    "cat_cols = ['host_response_time', 'host_is_superhost', 'property_type']\n",
    "for col in cat_cols:\n",
    "    df = pd.DataFrame(new_df[col].value_counts())\n",
    "    df.plot.barh()"
   ]
  },
  {
   "cell_type": "markdown",
   "metadata": {},
   "source": [
    "In the above column, the most popular response rate was within an hour, the most popular hosts are the ones that were not superhosts and the most common property type was a house"
   ]
  },
  {
   "cell_type": "markdown",
   "metadata": {},
   "source": [
    "### Review Data"
   ]
  },
  {
   "cell_type": "code",
   "execution_count": 18,
   "metadata": {
    "ExecuteTime": {
     "end_time": "2020-06-17T00:50:07.773541Z",
     "start_time": "2020-06-17T00:50:07.762505Z"
    }
   },
   "outputs": [
    {
     "name": "stdout",
     "output_type": "stream",
     "text": [
      "The reviews dataset has 84849 columns and 6 rows\n"
     ]
    },
    {
     "data": {
      "text/html": [
       "<div>\n",
       "<style scoped>\n",
       "    .dataframe tbody tr th:only-of-type {\n",
       "        vertical-align: middle;\n",
       "    }\n",
       "\n",
       "    .dataframe tbody tr th {\n",
       "        vertical-align: top;\n",
       "    }\n",
       "\n",
       "    .dataframe thead th {\n",
       "        text-align: right;\n",
       "    }\n",
       "</style>\n",
       "<table border=\"1\" class=\"dataframe\">\n",
       "  <thead>\n",
       "    <tr style=\"text-align: right;\">\n",
       "      <th></th>\n",
       "      <th>listing_id</th>\n",
       "      <th>id</th>\n",
       "      <th>date</th>\n",
       "      <th>reviewer_id</th>\n",
       "      <th>reviewer_name</th>\n",
       "      <th>comments</th>\n",
       "    </tr>\n",
       "  </thead>\n",
       "  <tbody>\n",
       "    <tr>\n",
       "      <th>0</th>\n",
       "      <td>7202016</td>\n",
       "      <td>38917982</td>\n",
       "      <td>2015-07-19</td>\n",
       "      <td>28943674</td>\n",
       "      <td>Bianca</td>\n",
       "      <td>Cute and cozy place. Perfect location to every...</td>\n",
       "    </tr>\n",
       "    <tr>\n",
       "      <th>1</th>\n",
       "      <td>7202016</td>\n",
       "      <td>39087409</td>\n",
       "      <td>2015-07-20</td>\n",
       "      <td>32440555</td>\n",
       "      <td>Frank</td>\n",
       "      <td>Kelly has a great room in a very central locat...</td>\n",
       "    </tr>\n",
       "  </tbody>\n",
       "</table>\n",
       "</div>"
      ],
      "text/plain": [
       "  listing_id        id        date reviewer_id reviewer_name  \\\n",
       "0    7202016  38917982  2015-07-19    28943674        Bianca   \n",
       "1    7202016  39087409  2015-07-20    32440555         Frank   \n",
       "\n",
       "                                            comments  \n",
       "0  Cute and cozy place. Perfect location to every...  \n",
       "1  Kelly has a great room in a very central locat...  "
      ]
     },
     "execution_count": 18,
     "metadata": {},
     "output_type": "execute_result"
    }
   ],
   "source": [
    "#Get the number of columns and rows in the reviews data\n",
    "print(f\"The reviews dataset has {reviews_df.shape[0]} columns and {reviews_df.shape[1]} rows\")\n",
    "reviews_df.head(2)"
   ]
  },
  {
   "cell_type": "code",
   "execution_count": 21,
   "metadata": {
    "ExecuteTime": {
     "end_time": "2020-06-17T00:50:49.404207Z",
     "start_time": "2020-06-17T00:50:49.350731Z"
    }
   },
   "outputs": [
    {
     "data": {
      "text/plain": [
       "count                   84849\n",
       "unique                   1930\n",
       "top       2015-09-21 00:00:00\n",
       "freq                      580\n",
       "first     2009-06-07 00:00:00\n",
       "last      2016-01-03 00:00:00\n",
       "Name: date, dtype: object"
      ]
     },
     "execution_count": 21,
     "metadata": {},
     "output_type": "execute_result"
    }
   ],
   "source": [
    "#Get the range of reviews dates\n",
    "pd.to_datetime(reviews_df['date']).describe()"
   ]
  },
  {
   "cell_type": "markdown",
   "metadata": {},
   "source": [
    "As shown above, the reviews were from 2009-06-07 to 2016-01-03"
   ]
  },
  {
   "cell_type": "markdown",
   "metadata": {},
   "source": [
    "### Calendar Data"
   ]
  },
  {
   "cell_type": "code",
   "execution_count": 22,
   "metadata": {
    "ExecuteTime": {
     "end_time": "2020-06-17T00:53:42.013174Z",
     "start_time": "2020-06-17T00:53:42.003203Z"
    }
   },
   "outputs": [
    {
     "name": "stdout",
     "output_type": "stream",
     "text": [
      "The calendar dataset has 1393570 columns and 4 rows\n"
     ]
    },
    {
     "data": {
      "text/html": [
       "<div>\n",
       "<style scoped>\n",
       "    .dataframe tbody tr th:only-of-type {\n",
       "        vertical-align: middle;\n",
       "    }\n",
       "\n",
       "    .dataframe tbody tr th {\n",
       "        vertical-align: top;\n",
       "    }\n",
       "\n",
       "    .dataframe thead th {\n",
       "        text-align: right;\n",
       "    }\n",
       "</style>\n",
       "<table border=\"1\" class=\"dataframe\">\n",
       "  <thead>\n",
       "    <tr style=\"text-align: right;\">\n",
       "      <th></th>\n",
       "      <th>listing_id</th>\n",
       "      <th>date</th>\n",
       "      <th>available</th>\n",
       "      <th>price</th>\n",
       "    </tr>\n",
       "  </thead>\n",
       "  <tbody>\n",
       "    <tr>\n",
       "      <th>0</th>\n",
       "      <td>241032</td>\n",
       "      <td>2016-01-04</td>\n",
       "      <td>t</td>\n",
       "      <td>$85.00</td>\n",
       "    </tr>\n",
       "    <tr>\n",
       "      <th>1</th>\n",
       "      <td>241032</td>\n",
       "      <td>2016-01-05</td>\n",
       "      <td>t</td>\n",
       "      <td>$85.00</td>\n",
       "    </tr>\n",
       "  </tbody>\n",
       "</table>\n",
       "</div>"
      ],
      "text/plain": [
       "  listing_id        date available   price\n",
       "0     241032  2016-01-04         t  $85.00\n",
       "1     241032  2016-01-05         t  $85.00"
      ]
     },
     "execution_count": 22,
     "metadata": {},
     "output_type": "execute_result"
    }
   ],
   "source": [
    "#Check unique listings\n",
    "print(f\"The calendar dataset has {calendar_df.shape[0]} columns and {calendar_df.shape[1]} rows\")\n",
    "calendar_df.head(2)"
   ]
  },
  {
   "cell_type": "markdown",
   "metadata": {},
   "source": [
    "## Feature Engineering and Data Cleaning"
   ]
  },
  {
   "cell_type": "markdown",
   "metadata": {},
   "source": [
    "In this section I will get crucial elements needed for the analysis as follows:\n",
    "\n",
    "    1. Get the number of reviewers per listing from the reviews data - This will be used to get the popularity of the listings and associated property types\n",
    "    \n",
    "    2. Get the median price per listing. This will involve some data cleaning to remove the dollar sign from the prices and converting it to float using re and Decimal libraries. Additionally, it will involve removing nuull entries in the price column because those listings are not available.\n",
    "    \n",
    "    3. Merging the above 2 dataframes and them merging them to the listing dataframe that contains the columns chose in the earlier stage\n",
    "    \n",
    "    4. Cleaning up the data such as removing dollar sign using re, chaning necessary float columns to float"
   ]
  },
  {
   "cell_type": "markdown",
   "metadata": {},
   "source": [
    "### Getting number of reviewers per listing"
   ]
  },
  {
   "cell_type": "code",
   "execution_count": 39,
   "metadata": {
    "ExecuteTime": {
     "end_time": "2020-06-17T01:34:44.767310Z",
     "start_time": "2020-06-17T01:34:44.725050Z"
    }
   },
   "outputs": [
    {
     "data": {
      "text/html": [
       "<div>\n",
       "<style scoped>\n",
       "    .dataframe tbody tr th:only-of-type {\n",
       "        vertical-align: middle;\n",
       "    }\n",
       "\n",
       "    .dataframe tbody tr th {\n",
       "        vertical-align: top;\n",
       "    }\n",
       "\n",
       "    .dataframe thead th {\n",
       "        text-align: right;\n",
       "    }\n",
       "</style>\n",
       "<table border=\"1\" class=\"dataframe\">\n",
       "  <thead>\n",
       "    <tr style=\"text-align: right;\">\n",
       "      <th></th>\n",
       "      <th>reviewers_count</th>\n",
       "    </tr>\n",
       "    <tr>\n",
       "      <th>listing_id</th>\n",
       "      <th></th>\n",
       "    </tr>\n",
       "  </thead>\n",
       "  <tbody>\n",
       "    <tr>\n",
       "      <th>1000883</th>\n",
       "      <td>18</td>\n",
       "    </tr>\n",
       "    <tr>\n",
       "      <th>10012724</th>\n",
       "      <td>2</td>\n",
       "    </tr>\n",
       "  </tbody>\n",
       "</table>\n",
       "</div>"
      ],
      "text/plain": [
       "            reviewers_count\n",
       "listing_id                 \n",
       "1000883                  18\n",
       "10012724                  2"
      ]
     },
     "execution_count": 39,
     "metadata": {},
     "output_type": "execute_result"
    }
   ],
   "source": [
    "#Get number of reviewers per listing\n",
    "reviewers_count_df = pd.DataFrame(reviews_df.groupby('listing_id')['reviewer_id'].count())\n",
    "\n",
    "reviewers_count_df.rename(columns={\"reviewer_id\": \"reviewers_count\"}, inplace=True)\n",
    "\n",
    "reviewers_count_df.head(2)"
   ]
  },
  {
   "cell_type": "code",
   "execution_count": 37,
   "metadata": {
    "ExecuteTime": {
     "end_time": "2020-06-17T01:33:51.756711Z",
     "start_time": "2020-06-17T01:33:51.728129Z"
    }
   },
   "outputs": [
    {
     "data": {
      "text/html": [
       "<div>\n",
       "<style scoped>\n",
       "    .dataframe tbody tr th:only-of-type {\n",
       "        vertical-align: middle;\n",
       "    }\n",
       "\n",
       "    .dataframe tbody tr th {\n",
       "        vertical-align: top;\n",
       "    }\n",
       "\n",
       "    .dataframe thead th {\n",
       "        text-align: right;\n",
       "    }\n",
       "</style>\n",
       "<table border=\"1\" class=\"dataframe\">\n",
       "  <thead>\n",
       "    <tr style=\"text-align: right;\">\n",
       "      <th></th>\n",
       "      <th>reviewers_Count</th>\n",
       "    </tr>\n",
       "  </thead>\n",
       "  <tbody>\n",
       "    <tr>\n",
       "      <th>count</th>\n",
       "      <td>3,191.00</td>\n",
       "    </tr>\n",
       "    <tr>\n",
       "      <th>mean</th>\n",
       "      <td>26.59</td>\n",
       "    </tr>\n",
       "    <tr>\n",
       "      <th>std</th>\n",
       "      <td>39.84</td>\n",
       "    </tr>\n",
       "    <tr>\n",
       "      <th>min</th>\n",
       "      <td>1.00</td>\n",
       "    </tr>\n",
       "    <tr>\n",
       "      <th>25%</th>\n",
       "      <td>4.00</td>\n",
       "    </tr>\n",
       "    <tr>\n",
       "      <th>50%</th>\n",
       "      <td>13.00</td>\n",
       "    </tr>\n",
       "    <tr>\n",
       "      <th>75%</th>\n",
       "      <td>31.00</td>\n",
       "    </tr>\n",
       "    <tr>\n",
       "      <th>max</th>\n",
       "      <td>474.00</td>\n",
       "    </tr>\n",
       "  </tbody>\n",
       "</table>\n",
       "</div>"
      ],
      "text/plain": [
       "       reviewers_Count\n",
       "count         3,191.00\n",
       "mean             26.59\n",
       "std              39.84\n",
       "min               1.00\n",
       "25%               4.00\n",
       "50%              13.00\n",
       "75%              31.00\n",
       "max             474.00"
      ]
     },
     "execution_count": 37,
     "metadata": {},
     "output_type": "execute_result"
    }
   ],
   "source": [
    "reviewers_count_df.describe()"
   ]
  },
  {
   "cell_type": "markdown",
   "metadata": {},
   "source": [
    "Using the describe method above, it shows that a the minimum number of revierws per listing is 1 while the maximum is 474"
   ]
  },
  {
   "cell_type": "markdown",
   "metadata": {},
   "source": [
    "### Get median price per listing from the calendar data"
   ]
  },
  {
   "cell_type": "code",
   "execution_count": 34,
   "metadata": {
    "ExecuteTime": {
     "end_time": "2020-06-17T01:25:51.310825Z",
     "start_time": "2020-06-17T01:25:46.372872Z"
    }
   },
   "outputs": [
    {
     "name": "stdout",
     "output_type": "stream",
     "text": [
      "Calendar Dataset rows before removing unavilable prices: 1393570,Dataset after removing unavilable prices:  934542\n"
     ]
    },
    {
     "data": {
      "text/html": [
       "<div>\n",
       "<style scoped>\n",
       "    .dataframe tbody tr th:only-of-type {\n",
       "        vertical-align: middle;\n",
       "    }\n",
       "\n",
       "    .dataframe tbody tr th {\n",
       "        vertical-align: top;\n",
       "    }\n",
       "\n",
       "    .dataframe thead th {\n",
       "        text-align: right;\n",
       "    }\n",
       "</style>\n",
       "<table border=\"1\" class=\"dataframe\">\n",
       "  <thead>\n",
       "    <tr style=\"text-align: right;\">\n",
       "      <th></th>\n",
       "      <th>listing_id</th>\n",
       "      <th>date</th>\n",
       "      <th>available</th>\n",
       "      <th>price</th>\n",
       "      <th>price_float</th>\n",
       "    </tr>\n",
       "  </thead>\n",
       "  <tbody>\n",
       "    <tr>\n",
       "      <th>0</th>\n",
       "      <td>241032</td>\n",
       "      <td>2016-01-04</td>\n",
       "      <td>t</td>\n",
       "      <td>$85.00</td>\n",
       "      <td>85.00</td>\n",
       "    </tr>\n",
       "    <tr>\n",
       "      <th>1</th>\n",
       "      <td>241032</td>\n",
       "      <td>2016-01-05</td>\n",
       "      <td>t</td>\n",
       "      <td>$85.00</td>\n",
       "      <td>85.00</td>\n",
       "    </tr>\n",
       "  </tbody>\n",
       "</table>\n",
       "</div>"
      ],
      "text/plain": [
       "  listing_id        date available   price  price_float\n",
       "0     241032  2016-01-04         t  $85.00        85.00\n",
       "1     241032  2016-01-05         t  $85.00        85.00"
      ]
     },
     "execution_count": 34,
     "metadata": {},
     "output_type": "execute_result"
    }
   ],
   "source": [
    "#Choose only the available listings because unavialable listings have null entries in the price feature\n",
    "available_listings = calendar_df[calendar_df['available']== 't']\n",
    "\n",
    "#removong the $ sign and Changing currency to float\n",
    "available_listings['price_float'] = available_listings['price'].apply(lambda x: float(Decimal(sub(r'[^\\d.]', '', x))))\n",
    "\n",
    "print(f\"Calendar Dataset rows before removing unavilable prices: {calendar_df.shape[0]},Dataset after removing unavilable prices:  {available_listings.shape[0]}\")\n",
    "\n",
    "available_listings.head(2)"
   ]
  },
  {
   "cell_type": "code",
   "execution_count": 35,
   "metadata": {
    "ExecuteTime": {
     "end_time": "2020-06-17T01:29:39.050030Z",
     "start_time": "2020-06-17T01:29:38.813683Z"
    }
   },
   "outputs": [
    {
     "name": "stdout",
     "output_type": "stream",
     "text": [
      "(3723, 1)\n"
     ]
    },
    {
     "data": {
      "text/html": [
       "<div>\n",
       "<style scoped>\n",
       "    .dataframe tbody tr th:only-of-type {\n",
       "        vertical-align: middle;\n",
       "    }\n",
       "\n",
       "    .dataframe tbody tr th {\n",
       "        vertical-align: top;\n",
       "    }\n",
       "\n",
       "    .dataframe thead th {\n",
       "        text-align: right;\n",
       "    }\n",
       "</style>\n",
       "<table border=\"1\" class=\"dataframe\">\n",
       "  <thead>\n",
       "    <tr style=\"text-align: right;\">\n",
       "      <th></th>\n",
       "      <th>median</th>\n",
       "    </tr>\n",
       "    <tr>\n",
       "      <th>listing_id</th>\n",
       "      <th></th>\n",
       "    </tr>\n",
       "  </thead>\n",
       "  <tbody>\n",
       "    <tr>\n",
       "      <th>10000273</th>\n",
       "      <td>175.00</td>\n",
       "    </tr>\n",
       "    <tr>\n",
       "      <th>1000883</th>\n",
       "      <td>100.00</td>\n",
       "    </tr>\n",
       "  </tbody>\n",
       "</table>\n",
       "</div>"
      ],
      "text/plain": [
       "            median\n",
       "listing_id        \n",
       "10000273    175.00\n",
       "1000883     100.00"
      ]
     },
     "execution_count": 35,
     "metadata": {},
     "output_type": "execute_result"
    }
   ],
   "source": [
    "#Get the mean and median price for every listing id\n",
    "mean_median_df = available_listings.groupby('listing_id').agg({'price_float': ['median']})\n",
    "\n",
    "#Flatten the hierarchical columns\n",
    "mean_median_df.columns = mean_median_df.columns.get_level_values(1)\n",
    "\n",
    "print(mean_median_df.shape)\n",
    "\n",
    "mean_median_df.head(2)"
   ]
  },
  {
   "cell_type": "markdown",
   "metadata": {},
   "source": [
    "### Merging median price dataframe with reviewers count per listing dataframe"
   ]
  },
  {
   "cell_type": "code",
   "execution_count": 40,
   "metadata": {
    "ExecuteTime": {
     "end_time": "2020-06-17T01:34:55.194656Z",
     "start_time": "2020-06-17T01:34:55.160303Z"
    }
   },
   "outputs": [
    {
     "name": "stdout",
     "output_type": "stream",
     "text": [
      "(3121, 2)\n"
     ]
    },
    {
     "data": {
      "text/html": [
       "<div>\n",
       "<style scoped>\n",
       "    .dataframe tbody tr th:only-of-type {\n",
       "        vertical-align: middle;\n",
       "    }\n",
       "\n",
       "    .dataframe tbody tr th {\n",
       "        vertical-align: top;\n",
       "    }\n",
       "\n",
       "    .dataframe thead th {\n",
       "        text-align: right;\n",
       "    }\n",
       "</style>\n",
       "<table border=\"1\" class=\"dataframe\">\n",
       "  <thead>\n",
       "    <tr style=\"text-align: right;\">\n",
       "      <th></th>\n",
       "      <th>reviewers_count</th>\n",
       "      <th>median_price</th>\n",
       "    </tr>\n",
       "    <tr>\n",
       "      <th>listing_id</th>\n",
       "      <th></th>\n",
       "      <th></th>\n",
       "    </tr>\n",
       "  </thead>\n",
       "  <tbody>\n",
       "    <tr>\n",
       "      <th>1000883</th>\n",
       "      <td>18</td>\n",
       "      <td>100.00</td>\n",
       "    </tr>\n",
       "    <tr>\n",
       "      <th>10012724</th>\n",
       "      <td>2</td>\n",
       "      <td>25.00</td>\n",
       "    </tr>\n",
       "  </tbody>\n",
       "</table>\n",
       "</div>"
      ],
      "text/plain": [
       "            reviewers_count  median_price\n",
       "listing_id                               \n",
       "1000883                  18        100.00\n",
       "10012724                  2         25.00"
      ]
     },
     "execution_count": 40,
     "metadata": {},
     "output_type": "execute_result"
    }
   ],
   "source": [
    "#Merge reviewers count and median price dataframes\n",
    "merged_df = reviewers_count_df.merge(mean_median_df, left_index=True, right_index=True)\n",
    "\n",
    "#Rename the median column\n",
    "merged_df.rename(columns = {'median': 'median_price'}, inplace=True)\n",
    "print(merged_df.shape)\n",
    "merged_df.head(2)"
   ]
  },
  {
   "cell_type": "markdown",
   "metadata": {},
   "source": [
    "### Merging the above dataframe to the listing dataframe"
   ]
  },
  {
   "cell_type": "code",
   "execution_count": 41,
   "metadata": {
    "ExecuteTime": {
     "end_time": "2020-06-17T01:40:12.469894Z",
     "start_time": "2020-06-17T01:40:12.394529Z"
    }
   },
   "outputs": [
    {
     "data": {
      "text/html": [
       "<div>\n",
       "<style scoped>\n",
       "    .dataframe tbody tr th:only-of-type {\n",
       "        vertical-align: middle;\n",
       "    }\n",
       "\n",
       "    .dataframe tbody tr th {\n",
       "        vertical-align: top;\n",
       "    }\n",
       "\n",
       "    .dataframe thead th {\n",
       "        text-align: right;\n",
       "    }\n",
       "</style>\n",
       "<table border=\"1\" class=\"dataframe\">\n",
       "  <thead>\n",
       "    <tr style=\"text-align: right;\">\n",
       "      <th></th>\n",
       "      <th>reviewers_count</th>\n",
       "      <th>median_price</th>\n",
       "      <th>host_response_time</th>\n",
       "      <th>host_response_rate</th>\n",
       "      <th>price</th>\n",
       "      <th>guests_included</th>\n",
       "      <th>extra_people</th>\n",
       "      <th>minimum_nights</th>\n",
       "      <th>number_of_reviews</th>\n",
       "      <th>review_scores_rating</th>\n",
       "      <th>review_scores_cleanliness</th>\n",
       "      <th>review_scores_checkin</th>\n",
       "      <th>review_scores_communication</th>\n",
       "      <th>review_scores_location</th>\n",
       "      <th>review_scores_value</th>\n",
       "      <th>reviews_per_month</th>\n",
       "      <th>host_is_superhost</th>\n",
       "      <th>property_type</th>\n",
       "    </tr>\n",
       "  </thead>\n",
       "  <tbody>\n",
       "    <tr>\n",
       "      <th>1000883</th>\n",
       "      <td>18</td>\n",
       "      <td>100.00</td>\n",
       "      <td>within a few hours</td>\n",
       "      <td>86%</td>\n",
       "      <td>$100.00</td>\n",
       "      <td>3</td>\n",
       "      <td>$0.00</td>\n",
       "      <td>2</td>\n",
       "      <td>18</td>\n",
       "      <td>99</td>\n",
       "      <td>10</td>\n",
       "      <td>10</td>\n",
       "      <td>10</td>\n",
       "      <td>10</td>\n",
       "      <td>10</td>\n",
       "      <td>0.59</td>\n",
       "      <td>f</td>\n",
       "      <td>House</td>\n",
       "    </tr>\n",
       "    <tr>\n",
       "      <th>10012724</th>\n",
       "      <td>2</td>\n",
       "      <td>25.00</td>\n",
       "      <td>within an hour</td>\n",
       "      <td>100%</td>\n",
       "      <td>$25.00</td>\n",
       "      <td>1</td>\n",
       "      <td>$0.00</td>\n",
       "      <td>1</td>\n",
       "      <td>2</td>\n",
       "      <td>100</td>\n",
       "      <td>10</td>\n",
       "      <td>10</td>\n",
       "      <td>10</td>\n",
       "      <td>10</td>\n",
       "      <td>10</td>\n",
       "      <td>2</td>\n",
       "      <td>f</td>\n",
       "      <td>Apartment</td>\n",
       "    </tr>\n",
       "  </tbody>\n",
       "</table>\n",
       "</div>"
      ],
      "text/plain": [
       "          reviewers_count  median_price  host_response_time  \\\n",
       "1000883                18        100.00  within a few hours   \n",
       "10012724                2         25.00      within an hour   \n",
       "\n",
       "         host_response_rate    price guests_included extra_people  \\\n",
       "1000883                 86%  $100.00               3        $0.00   \n",
       "10012724               100%   $25.00               1        $0.00   \n",
       "\n",
       "         minimum_nights number_of_reviews review_scores_rating  \\\n",
       "1000883               2                18                   99   \n",
       "10012724              1                 2                  100   \n",
       "\n",
       "         review_scores_cleanliness review_scores_checkin  \\\n",
       "1000883                         10                    10   \n",
       "10012724                        10                    10   \n",
       "\n",
       "         review_scores_communication review_scores_location  \\\n",
       "1000883                           10                     10   \n",
       "10012724                          10                     10   \n",
       "\n",
       "         review_scores_value reviews_per_month host_is_superhost property_type  \n",
       "1000883                   10              0.59                 f         House  \n",
       "10012724                  10                 2                 f     Apartment  "
      ]
     },
     "execution_count": 41,
     "metadata": {},
     "output_type": "execute_result"
    }
   ],
   "source": [
    "#Merge listing dataframe with the median price and reviewer count dataframe\n",
    "new_df.set_index('id', inplace=True)\n",
    "new_df_final = merged_df.merge(new_df, right_index=True, left_index=True)\n",
    "new_df_final.head(2)"
   ]
  },
  {
   "cell_type": "code",
   "execution_count": 42,
   "metadata": {
    "ExecuteTime": {
     "end_time": "2020-06-17T01:40:29.200250Z",
     "start_time": "2020-06-17T01:40:29.184275Z"
    }
   },
   "outputs": [
    {
     "data": {
      "text/plain": [
       "reviewers_count                  0\n",
       "median_price                     0\n",
       "host_response_time             290\n",
       "host_response_rate             290\n",
       "price                            0\n",
       "guests_included                  0\n",
       "extra_people                     0\n",
       "minimum_nights                   0\n",
       "number_of_reviews                0\n",
       "review_scores_rating            20\n",
       "review_scores_cleanliness       26\n",
       "review_scores_checkin           31\n",
       "review_scores_communication     24\n",
       "review_scores_location          28\n",
       "review_scores_value             29\n",
       "reviews_per_month                0\n",
       "host_is_superhost                0\n",
       "property_type                    0\n",
       "dtype: int64"
      ]
     },
     "execution_count": 42,
     "metadata": {},
     "output_type": "execute_result"
    }
   ],
   "source": [
    "new_df_final.isna().sum()"
   ]
  },
  {
   "cell_type": "markdown",
   "metadata": {},
   "source": [
    "### Remove nulls based on the response time attribute since it will be important for analysis"
   ]
  },
  {
   "cell_type": "code",
   "execution_count": 43,
   "metadata": {
    "ExecuteTime": {
     "end_time": "2020-06-17T01:46:52.473271Z",
     "start_time": "2020-06-17T01:46:52.449112Z"
    }
   },
   "outputs": [
    {
     "data": {
      "text/plain": [
       "(2831, 18)"
      ]
     },
     "execution_count": 43,
     "metadata": {},
     "output_type": "execute_result"
    }
   ],
   "source": [
    "#remove nulls\n",
    "last_df = new_df_final.dropna(subset=['host_response_time'])\n",
    "last_df.shape"
   ]
  },
  {
   "cell_type": "markdown",
   "metadata": {},
   "source": [
    "### Cleaning up the columns"
   ]
  },
  {
   "cell_type": "code",
   "execution_count": 44,
   "metadata": {
    "ExecuteTime": {
     "end_time": "2020-06-17T01:52:57.916793Z",
     "start_time": "2020-06-17T01:52:57.859633Z"
    }
   },
   "outputs": [
    {
     "data": {
      "text/html": [
       "<div>\n",
       "<style scoped>\n",
       "    .dataframe tbody tr th:only-of-type {\n",
       "        vertical-align: middle;\n",
       "    }\n",
       "\n",
       "    .dataframe tbody tr th {\n",
       "        vertical-align: top;\n",
       "    }\n",
       "\n",
       "    .dataframe thead th {\n",
       "        text-align: right;\n",
       "    }\n",
       "</style>\n",
       "<table border=\"1\" class=\"dataframe\">\n",
       "  <thead>\n",
       "    <tr style=\"text-align: right;\">\n",
       "      <th></th>\n",
       "      <th>reviewers_count</th>\n",
       "      <th>median_price</th>\n",
       "      <th>host_response_time</th>\n",
       "      <th>host_response_rate</th>\n",
       "      <th>price</th>\n",
       "      <th>guests_included</th>\n",
       "      <th>extra_people</th>\n",
       "      <th>minimum_nights</th>\n",
       "      <th>number_of_reviews</th>\n",
       "      <th>review_scores_rating</th>\n",
       "      <th>review_scores_cleanliness</th>\n",
       "      <th>review_scores_checkin</th>\n",
       "      <th>review_scores_communication</th>\n",
       "      <th>review_scores_location</th>\n",
       "      <th>review_scores_value</th>\n",
       "      <th>reviews_per_month</th>\n",
       "      <th>host_is_superhost</th>\n",
       "      <th>property_type</th>\n",
       "    </tr>\n",
       "  </thead>\n",
       "  <tbody>\n",
       "    <tr>\n",
       "      <th>1000883</th>\n",
       "      <td>18</td>\n",
       "      <td>100.00</td>\n",
       "      <td>within a few hours</td>\n",
       "      <td>86%</td>\n",
       "      <td>$100.00</td>\n",
       "      <td>3</td>\n",
       "      <td>$0.00</td>\n",
       "      <td>2</td>\n",
       "      <td>18</td>\n",
       "      <td>99</td>\n",
       "      <td>10</td>\n",
       "      <td>10</td>\n",
       "      <td>10</td>\n",
       "      <td>10</td>\n",
       "      <td>10</td>\n",
       "      <td>0.59</td>\n",
       "      <td>f</td>\n",
       "      <td>House</td>\n",
       "    </tr>\n",
       "    <tr>\n",
       "      <th>10012724</th>\n",
       "      <td>2</td>\n",
       "      <td>25.00</td>\n",
       "      <td>within an hour</td>\n",
       "      <td>100%</td>\n",
       "      <td>$25.00</td>\n",
       "      <td>1</td>\n",
       "      <td>$0.00</td>\n",
       "      <td>1</td>\n",
       "      <td>2</td>\n",
       "      <td>100</td>\n",
       "      <td>10</td>\n",
       "      <td>10</td>\n",
       "      <td>10</td>\n",
       "      <td>10</td>\n",
       "      <td>10</td>\n",
       "      <td>2</td>\n",
       "      <td>f</td>\n",
       "      <td>Apartment</td>\n",
       "    </tr>\n",
       "    <tr>\n",
       "      <th>10020221</th>\n",
       "      <td>1</td>\n",
       "      <td>55.00</td>\n",
       "      <td>within an hour</td>\n",
       "      <td>100%</td>\n",
       "      <td>$55.00</td>\n",
       "      <td>1</td>\n",
       "      <td>$0.00</td>\n",
       "      <td>1</td>\n",
       "      <td>1</td>\n",
       "      <td>100</td>\n",
       "      <td>10</td>\n",
       "      <td>10</td>\n",
       "      <td>10</td>\n",
       "      <td>10</td>\n",
       "      <td>10</td>\n",
       "      <td>1</td>\n",
       "      <td>f</td>\n",
       "      <td>House</td>\n",
       "    </tr>\n",
       "    <tr>\n",
       "      <th>1002835</th>\n",
       "      <td>6</td>\n",
       "      <td>135.00</td>\n",
       "      <td>within a day</td>\n",
       "      <td>70%</td>\n",
       "      <td>$135.00</td>\n",
       "      <td>4</td>\n",
       "      <td>$20.00</td>\n",
       "      <td>2</td>\n",
       "      <td>6</td>\n",
       "      <td>80</td>\n",
       "      <td>8</td>\n",
       "      <td>7</td>\n",
       "      <td>8</td>\n",
       "      <td>10</td>\n",
       "      <td>8</td>\n",
       "      <td>0.31</td>\n",
       "      <td>f</td>\n",
       "      <td>Apartment</td>\n",
       "    </tr>\n",
       "    <tr>\n",
       "      <th>1003890</th>\n",
       "      <td>72</td>\n",
       "      <td>99.00</td>\n",
       "      <td>within an hour</td>\n",
       "      <td>100%</td>\n",
       "      <td>$99.00</td>\n",
       "      <td>3</td>\n",
       "      <td>$25.00</td>\n",
       "      <td>2</td>\n",
       "      <td>72</td>\n",
       "      <td>93</td>\n",
       "      <td>10</td>\n",
       "      <td>10</td>\n",
       "      <td>10</td>\n",
       "      <td>9</td>\n",
       "      <td>9</td>\n",
       "      <td>2.20</td>\n",
       "      <td>f</td>\n",
       "      <td>House</td>\n",
       "    </tr>\n",
       "  </tbody>\n",
       "</table>\n",
       "</div>"
      ],
      "text/plain": [
       "          reviewers_count  median_price  host_response_time  \\\n",
       "1000883                18        100.00  within a few hours   \n",
       "10012724                2         25.00      within an hour   \n",
       "10020221                1         55.00      within an hour   \n",
       "1002835                 6        135.00        within a day   \n",
       "1003890                72         99.00      within an hour   \n",
       "\n",
       "         host_response_rate    price guests_included extra_people  \\\n",
       "1000883                 86%  $100.00               3        $0.00   \n",
       "10012724               100%   $25.00               1        $0.00   \n",
       "10020221               100%   $55.00               1        $0.00   \n",
       "1002835                 70%  $135.00               4       $20.00   \n",
       "1003890                100%   $99.00               3       $25.00   \n",
       "\n",
       "         minimum_nights number_of_reviews review_scores_rating  \\\n",
       "1000883               2                18                   99   \n",
       "10012724              1                 2                  100   \n",
       "10020221              1                 1                  100   \n",
       "1002835               2                 6                   80   \n",
       "1003890               2                72                   93   \n",
       "\n",
       "         review_scores_cleanliness review_scores_checkin  \\\n",
       "1000883                         10                    10   \n",
       "10012724                        10                    10   \n",
       "10020221                        10                    10   \n",
       "1002835                          8                     7   \n",
       "1003890                         10                    10   \n",
       "\n",
       "         review_scores_communication review_scores_location  \\\n",
       "1000883                           10                     10   \n",
       "10012724                          10                     10   \n",
       "10020221                          10                     10   \n",
       "1002835                            8                     10   \n",
       "1003890                           10                      9   \n",
       "\n",
       "         review_scores_value reviews_per_month host_is_superhost property_type  \n",
       "1000883                   10              0.59                 f         House  \n",
       "10012724                  10                 2                 f     Apartment  \n",
       "10020221                  10                 1                 f         House  \n",
       "1002835                    8              0.31                 f     Apartment  \n",
       "1003890                    9              2.20                 f         House  "
      ]
     },
     "execution_count": 44,
     "metadata": {},
     "output_type": "execute_result"
    }
   ],
   "source": [
    "last_df.head()"
   ]
  },
  {
   "cell_type": "code",
   "execution_count": 45,
   "metadata": {
    "ExecuteTime": {
     "end_time": "2020-06-17T01:54:34.060112Z",
     "start_time": "2020-06-17T01:54:33.964937Z"
    }
   },
   "outputs": [
    {
     "data": {
      "text/html": [
       "<div>\n",
       "<style scoped>\n",
       "    .dataframe tbody tr th:only-of-type {\n",
       "        vertical-align: middle;\n",
       "    }\n",
       "\n",
       "    .dataframe tbody tr th {\n",
       "        vertical-align: top;\n",
       "    }\n",
       "\n",
       "    .dataframe thead th {\n",
       "        text-align: right;\n",
       "    }\n",
       "</style>\n",
       "<table border=\"1\" class=\"dataframe\">\n",
       "  <thead>\n",
       "    <tr style=\"text-align: right;\">\n",
       "      <th></th>\n",
       "      <th>reviewers_count</th>\n",
       "      <th>median_price</th>\n",
       "      <th>host_response_time</th>\n",
       "      <th>host_response_rate</th>\n",
       "      <th>price</th>\n",
       "      <th>guests_included</th>\n",
       "      <th>extra_people</th>\n",
       "      <th>minimum_nights</th>\n",
       "      <th>number_of_reviews</th>\n",
       "      <th>review_scores_rating</th>\n",
       "      <th>review_scores_cleanliness</th>\n",
       "      <th>review_scores_checkin</th>\n",
       "      <th>review_scores_communication</th>\n",
       "      <th>review_scores_location</th>\n",
       "      <th>review_scores_value</th>\n",
       "      <th>reviews_per_month</th>\n",
       "      <th>host_is_superhost</th>\n",
       "      <th>property_type</th>\n",
       "    </tr>\n",
       "  </thead>\n",
       "  <tbody>\n",
       "    <tr>\n",
       "      <th>1000883</th>\n",
       "      <td>18.00</td>\n",
       "      <td>100.00</td>\n",
       "      <td>within a few hours</td>\n",
       "      <td>86.00</td>\n",
       "      <td>100.00</td>\n",
       "      <td>3.00</td>\n",
       "      <td>0.00</td>\n",
       "      <td>2.00</td>\n",
       "      <td>18.00</td>\n",
       "      <td>99.00</td>\n",
       "      <td>10.00</td>\n",
       "      <td>10.00</td>\n",
       "      <td>10.00</td>\n",
       "      <td>10.00</td>\n",
       "      <td>10.00</td>\n",
       "      <td>0.59</td>\n",
       "      <td>f</td>\n",
       "      <td>House</td>\n",
       "    </tr>\n",
       "    <tr>\n",
       "      <th>10012724</th>\n",
       "      <td>2.00</td>\n",
       "      <td>25.00</td>\n",
       "      <td>within an hour</td>\n",
       "      <td>100.00</td>\n",
       "      <td>25.00</td>\n",
       "      <td>1.00</td>\n",
       "      <td>0.00</td>\n",
       "      <td>1.00</td>\n",
       "      <td>2.00</td>\n",
       "      <td>100.00</td>\n",
       "      <td>10.00</td>\n",
       "      <td>10.00</td>\n",
       "      <td>10.00</td>\n",
       "      <td>10.00</td>\n",
       "      <td>10.00</td>\n",
       "      <td>2.00</td>\n",
       "      <td>f</td>\n",
       "      <td>Apartment</td>\n",
       "    </tr>\n",
       "  </tbody>\n",
       "</table>\n",
       "</div>"
      ],
      "text/plain": [
       "          reviewers_count  median_price  host_response_time  \\\n",
       "1000883             18.00        100.00  within a few hours   \n",
       "10012724             2.00         25.00      within an hour   \n",
       "\n",
       "          host_response_rate  price  guests_included  extra_people  \\\n",
       "1000883                86.00 100.00             3.00          0.00   \n",
       "10012724              100.00  25.00             1.00          0.00   \n",
       "\n",
       "          minimum_nights  number_of_reviews  review_scores_rating  \\\n",
       "1000883             2.00              18.00                 99.00   \n",
       "10012724            1.00               2.00                100.00   \n",
       "\n",
       "          review_scores_cleanliness  review_scores_checkin  \\\n",
       "1000883                       10.00                  10.00   \n",
       "10012724                      10.00                  10.00   \n",
       "\n",
       "          review_scores_communication  review_scores_location  \\\n",
       "1000883                         10.00                   10.00   \n",
       "10012724                        10.00                   10.00   \n",
       "\n",
       "          review_scores_value  reviews_per_month host_is_superhost  \\\n",
       "1000883                 10.00               0.59                 f   \n",
       "10012724                10.00               2.00                 f   \n",
       "\n",
       "         property_type  \n",
       "1000883          House  \n",
       "10012724     Apartment  "
      ]
     },
     "execution_count": 45,
     "metadata": {},
     "output_type": "execute_result"
    }
   ],
   "source": [
    "#Cleaning up the number columns: Remove percentage sign\n",
    "#host_response_rate\n",
    "last_df['host_response_rate'] = last_df['host_response_rate']. apply(lambda x: float(x.rstrip(\"%\")))\n",
    "\n",
    "#Remove $ sign and convert to float\n",
    "for col in ['price', 'extra_people']:\n",
    "    last_df[col] = last_df[col].apply(lambda x: float(Decimal(sub(r'[^\\d.]', '', x))))\n",
    "\n",
    "    \n",
    "#Change columns to float\n",
    "list_float = [col for col in last_df.columns if col not in ['host_response_time', 'cancellation_policy', \n",
    "                                                                  'host_is_superhost', 'property_type']]\n",
    "for column in list_float:\n",
    "    last_df[column] = last_df[column].astype(float)\n",
    "last_df.head(2)"
   ]
  },
  {
   "cell_type": "markdown",
   "metadata": {},
   "source": [
    "Retain only listings that had more than 5 reviewers to ensure statistical significance"
   ]
  },
  {
   "cell_type": "code",
   "execution_count": 92,
   "metadata": {
    "ExecuteTime": {
     "end_time": "2020-06-17T02:29:23.137889Z",
     "start_time": "2020-06-17T02:29:23.126047Z"
    }
   },
   "outputs": [],
   "source": [
    "#subset the dataframe\n",
    "last_df = last_df[last_df['reviewers_count'] > 5]"
   ]
  },
  {
   "cell_type": "markdown",
   "metadata": {},
   "source": [
    "## Business Questions"
   ]
  },
  {
   "cell_type": "markdown",
   "metadata": {},
   "source": [
    "### Business Question 1: Can the response time be used as a measure of quality based on the corresponding review scores?"
   ]
  },
  {
   "cell_type": "code",
   "execution_count": 93,
   "metadata": {
    "ExecuteTime": {
     "end_time": "2020-06-17T02:29:29.574876Z",
     "start_time": "2020-06-17T02:29:29.562793Z"
    }
   },
   "outputs": [],
   "source": [
    "#Columsn needed for the question\n",
    "cols = ['review_scores_rating',\n",
    "        'review_scores_cleanliness', 'review_scores_checkin', \n",
    "        'review_scores_communication', 'review_scores_location',\n",
    "        'review_scores_value']"
   ]
  },
  {
   "cell_type": "markdown",
   "metadata": {
    "ExecuteTime": {
     "end_time": "2020-06-09T01:54:07.668633Z",
     "start_time": "2020-06-09T01:54:07.509808Z"
    }
   },
   "source": [
    "Reviews Score Rating"
   ]
  },
  {
   "cell_type": "code",
   "execution_count": 94,
   "metadata": {
    "ExecuteTime": {
     "end_time": "2020-06-17T02:29:32.152762Z",
     "start_time": "2020-06-17T02:29:32.142121Z"
    }
   },
   "outputs": [
    {
     "data": {
      "text/plain": [
       "1.0"
      ]
     },
     "execution_count": 94,
     "metadata": {},
     "output_type": "execute_result"
    }
   ],
   "source": [
    "last_df['review_scores_rating'].max()"
   ]
  },
  {
   "cell_type": "code",
   "execution_count": 95,
   "metadata": {
    "ExecuteTime": {
     "end_time": "2020-06-17T02:29:36.281729Z",
     "start_time": "2020-06-17T02:29:35.111572Z"
    }
   },
   "outputs": [
    {
     "data": {
      "text/html": [
       "<div>\n",
       "<style scoped>\n",
       "    .dataframe tbody tr th:only-of-type {\n",
       "        vertical-align: middle;\n",
       "    }\n",
       "\n",
       "    .dataframe tbody tr th {\n",
       "        vertical-align: top;\n",
       "    }\n",
       "\n",
       "    .dataframe thead th {\n",
       "        text-align: right;\n",
       "    }\n",
       "</style>\n",
       "<table border=\"1\" class=\"dataframe\">\n",
       "  <thead>\n",
       "    <tr style=\"text-align: right;\">\n",
       "      <th></th>\n",
       "      <th>reviewers_count</th>\n",
       "      <th>median_price</th>\n",
       "      <th>host_response_time</th>\n",
       "      <th>host_response_rate</th>\n",
       "      <th>price</th>\n",
       "      <th>guests_included</th>\n",
       "      <th>extra_people</th>\n",
       "      <th>minimum_nights</th>\n",
       "      <th>number_of_reviews</th>\n",
       "      <th>review_scores_rating</th>\n",
       "      <th>review_scores_cleanliness</th>\n",
       "      <th>review_scores_checkin</th>\n",
       "      <th>review_scores_communication</th>\n",
       "      <th>review_scores_location</th>\n",
       "      <th>review_scores_value</th>\n",
       "      <th>reviews_per_month</th>\n",
       "      <th>host_is_superhost</th>\n",
       "      <th>property_type</th>\n",
       "      <th>Average_rating</th>\n",
       "      <th>win_median_price</th>\n",
       "      <th>price_category</th>\n",
       "    </tr>\n",
       "  </thead>\n",
       "  <tbody>\n",
       "    <tr>\n",
       "      <th>1000883</th>\n",
       "      <td>18.00</td>\n",
       "      <td>100.00</td>\n",
       "      <td>within a few hours</td>\n",
       "      <td>86.00</td>\n",
       "      <td>100.00</td>\n",
       "      <td>3.00</td>\n",
       "      <td>0.00</td>\n",
       "      <td>2.00</td>\n",
       "      <td>18.00</td>\n",
       "      <td>0.99</td>\n",
       "      <td>1.00</td>\n",
       "      <td>1.00</td>\n",
       "      <td>1.00</td>\n",
       "      <td>1.00</td>\n",
       "      <td>1.00</td>\n",
       "      <td>0.59</td>\n",
       "      <td>f</td>\n",
       "      <td>House</td>\n",
       "      <td>1.00</td>\n",
       "      <td>100.00</td>\n",
       "      <td>100 to 120 Dollars</td>\n",
       "    </tr>\n",
       "    <tr>\n",
       "      <th>1002835</th>\n",
       "      <td>6.00</td>\n",
       "      <td>135.00</td>\n",
       "      <td>within a day</td>\n",
       "      <td>70.00</td>\n",
       "      <td>135.00</td>\n",
       "      <td>4.00</td>\n",
       "      <td>20.00</td>\n",
       "      <td>2.00</td>\n",
       "      <td>6.00</td>\n",
       "      <td>0.80</td>\n",
       "      <td>0.80</td>\n",
       "      <td>0.70</td>\n",
       "      <td>0.80</td>\n",
       "      <td>1.00</td>\n",
       "      <td>0.80</td>\n",
       "      <td>0.31</td>\n",
       "      <td>f</td>\n",
       "      <td>Apartment</td>\n",
       "      <td>0.82</td>\n",
       "      <td>135.00</td>\n",
       "      <td>120 to 140 Dollars</td>\n",
       "    </tr>\n",
       "    <tr>\n",
       "      <th>1003890</th>\n",
       "      <td>72.00</td>\n",
       "      <td>99.00</td>\n",
       "      <td>within an hour</td>\n",
       "      <td>100.00</td>\n",
       "      <td>99.00</td>\n",
       "      <td>3.00</td>\n",
       "      <td>25.00</td>\n",
       "      <td>2.00</td>\n",
       "      <td>72.00</td>\n",
       "      <td>0.93</td>\n",
       "      <td>1.00</td>\n",
       "      <td>1.00</td>\n",
       "      <td>1.00</td>\n",
       "      <td>0.90</td>\n",
       "      <td>0.90</td>\n",
       "      <td>2.20</td>\n",
       "      <td>f</td>\n",
       "      <td>House</td>\n",
       "      <td>0.96</td>\n",
       "      <td>99.00</td>\n",
       "      <td>80 to 100 Dollars</td>\n",
       "    </tr>\n",
       "    <tr>\n",
       "      <th>1009838</th>\n",
       "      <td>56.00</td>\n",
       "      <td>85.00</td>\n",
       "      <td>within a few hours</td>\n",
       "      <td>100.00</td>\n",
       "      <td>85.00</td>\n",
       "      <td>1.00</td>\n",
       "      <td>15.00</td>\n",
       "      <td>2.00</td>\n",
       "      <td>56.00</td>\n",
       "      <td>0.90</td>\n",
       "      <td>0.90</td>\n",
       "      <td>1.00</td>\n",
       "      <td>1.00</td>\n",
       "      <td>0.90</td>\n",
       "      <td>0.90</td>\n",
       "      <td>1.80</td>\n",
       "      <td>f</td>\n",
       "      <td>House</td>\n",
       "      <td>0.93</td>\n",
       "      <td>85.00</td>\n",
       "      <td>80 to 100 Dollars</td>\n",
       "    </tr>\n",
       "    <tr>\n",
       "      <th>1018204</th>\n",
       "      <td>79.00</td>\n",
       "      <td>69.00</td>\n",
       "      <td>within an hour</td>\n",
       "      <td>100.00</td>\n",
       "      <td>56.00</td>\n",
       "      <td>1.00</td>\n",
       "      <td>5.00</td>\n",
       "      <td>1.00</td>\n",
       "      <td>79.00</td>\n",
       "      <td>0.84</td>\n",
       "      <td>0.90</td>\n",
       "      <td>0.90</td>\n",
       "      <td>0.90</td>\n",
       "      <td>0.90</td>\n",
       "      <td>0.90</td>\n",
       "      <td>2.41</td>\n",
       "      <td>f</td>\n",
       "      <td>Cabin</td>\n",
       "      <td>0.89</td>\n",
       "      <td>69.00</td>\n",
       "      <td>60 to 80 Dollars</td>\n",
       "    </tr>\n",
       "  </tbody>\n",
       "</table>\n",
       "</div>"
      ],
      "text/plain": [
       "         reviewers_count  median_price  host_response_time  \\\n",
       "1000883            18.00        100.00  within a few hours   \n",
       "1002835             6.00        135.00        within a day   \n",
       "1003890            72.00         99.00      within an hour   \n",
       "1009838            56.00         85.00  within a few hours   \n",
       "1018204            79.00         69.00      within an hour   \n",
       "\n",
       "         host_response_rate  price  guests_included  extra_people  \\\n",
       "1000883               86.00 100.00             3.00          0.00   \n",
       "1002835               70.00 135.00             4.00         20.00   \n",
       "1003890              100.00  99.00             3.00         25.00   \n",
       "1009838              100.00  85.00             1.00         15.00   \n",
       "1018204              100.00  56.00             1.00          5.00   \n",
       "\n",
       "         minimum_nights  number_of_reviews  review_scores_rating  \\\n",
       "1000883            2.00              18.00                  0.99   \n",
       "1002835            2.00               6.00                  0.80   \n",
       "1003890            2.00              72.00                  0.93   \n",
       "1009838            2.00              56.00                  0.90   \n",
       "1018204            1.00              79.00                  0.84   \n",
       "\n",
       "         review_scores_cleanliness  review_scores_checkin  \\\n",
       "1000883                       1.00                   1.00   \n",
       "1002835                       0.80                   0.70   \n",
       "1003890                       1.00                   1.00   \n",
       "1009838                       0.90                   1.00   \n",
       "1018204                       0.90                   0.90   \n",
       "\n",
       "         review_scores_communication  review_scores_location  \\\n",
       "1000883                         1.00                    1.00   \n",
       "1002835                         0.80                    1.00   \n",
       "1003890                         1.00                    0.90   \n",
       "1009838                         1.00                    0.90   \n",
       "1018204                         0.90                    0.90   \n",
       "\n",
       "         review_scores_value  reviews_per_month host_is_superhost  \\\n",
       "1000883                 1.00               0.59                 f   \n",
       "1002835                 0.80               0.31                 f   \n",
       "1003890                 0.90               2.20                 f   \n",
       "1009838                 0.90               1.80                 f   \n",
       "1018204                 0.90               2.41                 f   \n",
       "\n",
       "        property_type  Average_rating  win_median_price      price_category  \n",
       "1000883         House            1.00            100.00  100 to 120 Dollars  \n",
       "1002835     Apartment            0.82            135.00  120 to 140 Dollars  \n",
       "1003890         House            0.96             99.00   80 to 100 Dollars  \n",
       "1009838         House            0.93             85.00   80 to 100 Dollars  \n",
       "1018204         Cabin            0.89             69.00    60 to 80 Dollars  "
      ]
     },
     "execution_count": 95,
     "metadata": {},
     "output_type": "execute_result"
    }
   ],
   "source": [
    "#Normalize  columns and get average\n",
    "for col in cols:\n",
    "    last_df[col] = last_df[col].apply(lambda x: x/last_df[col].max())\n",
    "    \n",
    "#Get average of the columns above\n",
    "last_df['Average_rating'] = last_df[cols].mean(axis=1)\n",
    "last_df.head()"
   ]
  },
  {
   "cell_type": "code",
   "execution_count": 96,
   "metadata": {
    "ExecuteTime": {
     "end_time": "2020-06-17T02:29:42.996915Z",
     "start_time": "2020-06-17T02:29:42.978522Z"
    }
   },
   "outputs": [
    {
     "data": {
      "text/html": [
       "<div>\n",
       "<style scoped>\n",
       "    .dataframe tbody tr th:only-of-type {\n",
       "        vertical-align: middle;\n",
       "    }\n",
       "\n",
       "    .dataframe tbody tr th {\n",
       "        vertical-align: top;\n",
       "    }\n",
       "\n",
       "    .dataframe thead th {\n",
       "        text-align: right;\n",
       "    }\n",
       "</style>\n",
       "<table border=\"1\" class=\"dataframe\">\n",
       "  <thead>\n",
       "    <tr style=\"text-align: right;\">\n",
       "      <th></th>\n",
       "      <th>Average_rating</th>\n",
       "    </tr>\n",
       "    <tr>\n",
       "      <th>host_response_time</th>\n",
       "      <th></th>\n",
       "    </tr>\n",
       "  </thead>\n",
       "  <tbody>\n",
       "    <tr>\n",
       "      <th>a few days or more</th>\n",
       "      <td>0.93</td>\n",
       "    </tr>\n",
       "    <tr>\n",
       "      <th>within a day</th>\n",
       "      <td>0.96</td>\n",
       "    </tr>\n",
       "    <tr>\n",
       "      <th>within a few hours</th>\n",
       "      <td>0.97</td>\n",
       "    </tr>\n",
       "    <tr>\n",
       "      <th>within an hour</th>\n",
       "      <td>0.98</td>\n",
       "    </tr>\n",
       "  </tbody>\n",
       "</table>\n",
       "</div>"
      ],
      "text/plain": [
       "                    Average_rating\n",
       "host_response_time                \n",
       "a few days or more            0.93\n",
       "within a day                  0.96\n",
       "within a few hours            0.97\n",
       "within an hour                0.98"
      ]
     },
     "execution_count": 96,
     "metadata": {},
     "output_type": "execute_result"
    }
   ],
   "source": [
    "#Get the median rating for every response category\n",
    "df_relationships = pd.DataFrame(last_df.groupby('host_response_time')['Average_rating'].median())\n",
    "df_relationships"
   ]
  },
  {
   "cell_type": "code",
   "execution_count": 97,
   "metadata": {
    "ExecuteTime": {
     "end_time": "2020-06-17T02:29:51.144181Z",
     "start_time": "2020-06-17T02:29:50.777411Z"
    }
   },
   "outputs": [
    {
     "data": {
      "image/png": "[encoded data removed]",
      "text/plain": [
       "<Figure size 720x432 with 1 Axes>"
      ]
     },
     "metadata": {
      "needs_background": "light"
     },
     "output_type": "display_data"
    }
   ],
   "source": [
    "\n",
    "data = df_relationships\n",
    "\n",
    "frequencies = df_relationships['Average_rating']\n",
    "\n",
    "#Creating a series for the data and making the index labels\n",
    "freq_series = pd.Series(frequencies)\n",
    "\n",
    "x_labels = data.index\n",
    "\n",
    "#Plot the figure\n",
    "# Plot the figure.\n",
    "plt.subplots(figsize=(10, 6))\n",
    "ax = freq_series.plot(kind='bar', legend=False, color = ['#17618C', '#62B5E5'])\n",
    "ax.set_title('Average Review Scores per Response Time Category',fontsize=12, y=1.08)\n",
    "ax.set_xlabel('')\n",
    "ax.set_ylabel('Average Review Scores', fontsize=12)\n",
    "ax.set_xticklabels(x_labels, fontsize=10, rotation=90)\n",
    "\n",
    "#ax.set_yticklabels(freq_series, fontsize=16, rotation=0)\n",
    "# Despine\n",
    "ax.spines['right'].set_visible(False)\n",
    "ax.spines['top'].set_visible(False)\n",
    "\n",
    "#Putting commas to thousands figures on the y axis\n",
    "ax.get_yaxis().set_major_formatter(plt.FuncFormatter(lambda x, loc: \"{:,}\".format(int(x))))\n",
    "#Set y limits\n",
    "\n",
    "#ax.set_ylim(0, 6500)\n",
    "\n",
    "def add_value_labels(ax, spacing=5):\n",
    "\n",
    "    \"\"\"Add labels to the end of each bar in a bar chart.\n",
    "    Arguments:\n",
    "        ax (matplotlib.axes.Axes): The matplotlib object containing the axes\n",
    "            of the plot to annotate.\n",
    "        spacing (int): The distance between the labels and the bars.\n",
    "    \"\"\"\n",
    "    # For each bar: Place a label\n",
    "    for patch_bar in ax.patches:\n",
    "        patch_bar.set_color('#62B5E5')\n",
    "\n",
    "        # Get X and Y placement of label from patch_bar.\n",
    "        y_value = patch_bar.get_height()\n",
    "        x_value = patch_bar.get_x() + patch_bar.get_width() / 2\n",
    "\n",
    "        # Number of points between bar and label. Change to your liking.\n",
    "        space = spacing\n",
    "\n",
    "        # Vertical alignment for positive values\n",
    "        va = 'bottom'\n",
    "\n",
    "        # If value of bar is negative: Place label below bar\n",
    "        if y_value < 0:\n",
    "            # Invert space to place label below\n",
    "            space *= -1\n",
    "            # Vertically align label at top\n",
    "            va = 'top'\n",
    "        # Use Y value as label and format number with no decimals\n",
    "        label = y_value\n",
    "        #label = y_value.set_major_formatter(plt.FuncFormatter(lambda x, loc: \"{:,}\".format(int(x))))\n",
    "        \n",
    "        # Create annotation\n",
    "        ax.annotate(\n",
    "            str(round(label, 4)),                      # Use `label` as label\n",
    "            (x_value, y_value),         # Place label at end of the bar\n",
    "            xytext=(1.4, space),          # Vertically shift label by `space`\n",
    "            textcoords=\"offset points\", # Interpret `xytext` as offset in points\n",
    "            ha='center',                # Horizontally center label\n",
    "            va=va,\n",
    "            color ='black', rotation=0, fontsize=10) # Vertically align label differently for\n",
    "                                        # positive and negative values.\n",
    "\n",
    "# Call the function above.\n",
    "add_value_labels(ax)\n",
    "plt.tight_layout()"
   ]
  },
  {
   "cell_type": "code",
   "execution_count": 26,
   "metadata": {
    "ExecuteTime": {
     "end_time": "2020-06-15T23:34:01.381029Z",
     "start_time": "2020-06-15T23:34:01.378036Z"
    }
   },
   "outputs": [],
   "source": [
    "# # regex plot\n",
    "# plt.figure(figsize=(13,7))\n",
    "# sns.regplot(x=more_than_5_rev['host_response_rate'], y=more_than_5_rev['Average_rating']);"
   ]
  },
  {
   "cell_type": "markdown",
   "metadata": {},
   "source": [
    "### Business Question 2: Do superhosts tend to charge more that the non-superhosts?"
   ]
  },
  {
   "cell_type": "code",
   "execution_count": 98,
   "metadata": {
    "ExecuteTime": {
     "end_time": "2020-06-17T02:30:15.219563Z",
     "start_time": "2020-06-17T02:30:15.179818Z"
    }
   },
   "outputs": [
    {
     "data": {
      "text/html": [
       "<div>\n",
       "<style scoped>\n",
       "    .dataframe tbody tr th:only-of-type {\n",
       "        vertical-align: middle;\n",
       "    }\n",
       "\n",
       "    .dataframe tbody tr th {\n",
       "        vertical-align: top;\n",
       "    }\n",
       "\n",
       "    .dataframe thead th {\n",
       "        text-align: right;\n",
       "    }\n",
       "</style>\n",
       "<table border=\"1\" class=\"dataframe\">\n",
       "  <thead>\n",
       "    <tr style=\"text-align: right;\">\n",
       "      <th></th>\n",
       "      <th>reviewers_count</th>\n",
       "      <th>median_price</th>\n",
       "      <th>host_response_time</th>\n",
       "      <th>host_response_rate</th>\n",
       "      <th>price</th>\n",
       "      <th>guests_included</th>\n",
       "      <th>extra_people</th>\n",
       "      <th>minimum_nights</th>\n",
       "      <th>number_of_reviews</th>\n",
       "      <th>review_scores_rating</th>\n",
       "      <th>review_scores_cleanliness</th>\n",
       "      <th>review_scores_checkin</th>\n",
       "      <th>review_scores_communication</th>\n",
       "      <th>review_scores_location</th>\n",
       "      <th>review_scores_value</th>\n",
       "      <th>reviews_per_month</th>\n",
       "      <th>host_is_superhost</th>\n",
       "      <th>property_type</th>\n",
       "      <th>Average_rating</th>\n",
       "      <th>win_median_price</th>\n",
       "      <th>price_category</th>\n",
       "    </tr>\n",
       "  </thead>\n",
       "  <tbody>\n",
       "    <tr>\n",
       "      <th>1000883</th>\n",
       "      <td>18.00</td>\n",
       "      <td>100.00</td>\n",
       "      <td>within a few hours</td>\n",
       "      <td>86.00</td>\n",
       "      <td>100.00</td>\n",
       "      <td>3.00</td>\n",
       "      <td>0.00</td>\n",
       "      <td>2.00</td>\n",
       "      <td>18.00</td>\n",
       "      <td>0.99</td>\n",
       "      <td>1.00</td>\n",
       "      <td>1.00</td>\n",
       "      <td>1.00</td>\n",
       "      <td>1.00</td>\n",
       "      <td>1.00</td>\n",
       "      <td>0.59</td>\n",
       "      <td>f</td>\n",
       "      <td>House</td>\n",
       "      <td>1.00</td>\n",
       "      <td>100.00</td>\n",
       "      <td>100 to 120 Dollars</td>\n",
       "    </tr>\n",
       "    <tr>\n",
       "      <th>1002835</th>\n",
       "      <td>6.00</td>\n",
       "      <td>135.00</td>\n",
       "      <td>within a day</td>\n",
       "      <td>70.00</td>\n",
       "      <td>135.00</td>\n",
       "      <td>4.00</td>\n",
       "      <td>20.00</td>\n",
       "      <td>2.00</td>\n",
       "      <td>6.00</td>\n",
       "      <td>0.80</td>\n",
       "      <td>0.80</td>\n",
       "      <td>0.70</td>\n",
       "      <td>0.80</td>\n",
       "      <td>1.00</td>\n",
       "      <td>0.80</td>\n",
       "      <td>0.31</td>\n",
       "      <td>f</td>\n",
       "      <td>Apartment</td>\n",
       "      <td>0.82</td>\n",
       "      <td>135.00</td>\n",
       "      <td>120 to 140 Dollars</td>\n",
       "    </tr>\n",
       "  </tbody>\n",
       "</table>\n",
       "</div>"
      ],
      "text/plain": [
       "         reviewers_count  median_price  host_response_time  \\\n",
       "1000883            18.00        100.00  within a few hours   \n",
       "1002835             6.00        135.00        within a day   \n",
       "\n",
       "         host_response_rate  price  guests_included  extra_people  \\\n",
       "1000883               86.00 100.00             3.00          0.00   \n",
       "1002835               70.00 135.00             4.00         20.00   \n",
       "\n",
       "         minimum_nights  number_of_reviews  review_scores_rating  \\\n",
       "1000883            2.00              18.00                  0.99   \n",
       "1002835            2.00               6.00                  0.80   \n",
       "\n",
       "         review_scores_cleanliness  review_scores_checkin  \\\n",
       "1000883                       1.00                   1.00   \n",
       "1002835                       0.80                   0.70   \n",
       "\n",
       "         review_scores_communication  review_scores_location  \\\n",
       "1000883                         1.00                    1.00   \n",
       "1002835                         0.80                    1.00   \n",
       "\n",
       "         review_scores_value  reviews_per_month host_is_superhost  \\\n",
       "1000883                 1.00               0.59                 f   \n",
       "1002835                 0.80               0.31                 f   \n",
       "\n",
       "        property_type  Average_rating  win_median_price      price_category  \n",
       "1000883         House            1.00            100.00  100 to 120 Dollars  \n",
       "1002835     Apartment            0.82            135.00  120 to 140 Dollars  "
      ]
     },
     "execution_count": 98,
     "metadata": {},
     "output_type": "execute_result"
    }
   ],
   "source": [
    "last_df.head(2)"
   ]
  },
  {
   "cell_type": "code",
   "execution_count": 99,
   "metadata": {
    "ExecuteTime": {
     "end_time": "2020-06-17T02:30:17.996160Z",
     "start_time": "2020-06-17T02:30:17.981894Z"
    }
   },
   "outputs": [
    {
     "data": {
      "text/plain": [
       "f    1407\n",
       "t     644\n",
       "Name: host_is_superhost, dtype: int64"
      ]
     },
     "execution_count": 99,
     "metadata": {},
     "output_type": "execute_result"
    }
   ],
   "source": [
    "last_df['host_is_superhost'].value_counts()"
   ]
  },
  {
   "cell_type": "code",
   "execution_count": 100,
   "metadata": {
    "ExecuteTime": {
     "end_time": "2020-06-17T02:30:23.109194Z",
     "start_time": "2020-06-17T02:30:23.096321Z"
    }
   },
   "outputs": [],
   "source": [
    "#subset the 2 dataframes based on superhosts\n",
    "superhost_t_df = last_df[last_df['host_is_superhost'] == 't']\n",
    "superhost_f_df = last_df[last_df['host_is_superhost'] == 'f']"
   ]
  },
  {
   "cell_type": "code",
   "execution_count": 101,
   "metadata": {
    "ExecuteTime": {
     "end_time": "2020-06-17T02:30:25.424585Z",
     "start_time": "2020-06-17T02:30:25.412422Z"
    }
   },
   "outputs": [
    {
     "name": "stdout",
     "output_type": "stream",
     "text": [
      "Median for superhosts: 105.0\n",
      "Mean for superhosts: 131.7996894409938\n",
      "Median for non-superhosts: 100.0\n",
      "Mean for non-superhosts: 124.04513148542999\n"
     ]
    }
   ],
   "source": [
    "#Median prices for both dataframes\n",
    "print(f\"Median for superhosts: {superhost_t_df['median_price'].median()}\")\n",
    "print(f\"Mean for superhosts: {superhost_t_df['median_price'].mean()}\")\n",
    "print(f\"Median for non-superhosts: {superhost_f_df['median_price'].median()}\")\n",
    "print(f\"Mean for non-superhosts: {superhost_f_df['median_price'].mean()}\")"
   ]
  },
  {
   "cell_type": "markdown",
   "metadata": {},
   "source": [
    "Functions to compare different price categories for superhosts and non-superhosts"
   ]
  },
  {
   "cell_type": "code",
   "execution_count": 102,
   "metadata": {
    "ExecuteTime": {
     "end_time": "2020-06-17T02:30:30.990073Z",
     "start_time": "2020-06-17T02:30:30.978654Z"
    }
   },
   "outputs": [],
   "source": [
    "def get_normalized_val_counts(df, col):\n",
    "    '''\n",
    "    INPUTS\n",
    "        df-a dataframe\n",
    "        col- a column that we want to calculate the value_counts\n",
    "    OUTPUT\n",
    "        a dataframe of value_counts of col\n",
    "    '''\n",
    "    \n",
    "    #Get the value counts of the col and edit the column names\n",
    "    val_count_df = pd.DataFrame(df[col].value_counts(dropna=False).reset_index())\n",
    "    val_count_df.rename(columns={'index': col, col: 'count'}, inplace=True)\n",
    "    val_count_df.set_index(col, inplace=True)\n",
    "    props_val_count = val_count_df/val_count_df.sum()\n",
    "    \n",
    "    return props_val_count"
   ]
  },
  {
   "cell_type": "code",
   "execution_count": 103,
   "metadata": {
    "ExecuteTime": {
     "end_time": "2020-06-17T02:30:37.281239Z",
     "start_time": "2020-06-17T02:30:37.265431Z"
    }
   },
   "outputs": [],
   "source": [
    "#Get listings for superhosts and non-superhosts\n",
    "superhosts_list = superhost_t_df.index.tolist()\n",
    "non_superhosts_list =superhost_f_df.index.unique().tolist()\n",
    "\n",
    "#\n",
    "dict_bin_cols = {'host_is_superhost': superhosts_list}\n",
    "\n",
    "def choose_col_cat(bin_col, cat_col):\n",
    "    '''\n",
    "    INPUT:\n",
    "        bin_col-a binary column that will be used to disect other categorical variables\n",
    "        cat_col - a categorical column that you want to disect\n",
    "        \n",
    "    OUTPUT: A bar presentation of valuecounts percentages of dataframes separated by the bin_col values\n",
    "    '''\n",
    "    \n",
    "    #Separate the dataframes where one bin col is present or absent\n",
    "    element_present = last_df[last_df.index.isin(dict_bin_cols[bin_col])]\n",
    "    element_absent = last_df[~last_df.index.isin(dict_bin_cols[bin_col])]\n",
    "    \n",
    "    #Create the percentages\n",
    "    element_true_perc = get_normalized_val_counts(element_present, cat_col)\n",
    "    element_false_perc = get_normalized_val_counts(element_absent, cat_col)\n",
    "    \n",
    "    #merge the 2 dataframes for comparison\n",
    "    comp_df = pd.merge(element_true_perc, element_false_perc, left_index = True, right_index=True)\n",
    "    comp_df.columns = [bin_col + '_True', bin_col + '_False']\n",
    "    comp_df['Diff_Vals'] = comp_df[bin_col + '_True'] - comp_df[bin_col + '_False']\n",
    "    #return comp_df.style.bar(subset=['Diff_Vals'], align='mid', color = ['#d65f5f', '#5fba7d'])\n",
    "    return comp_df"
   ]
  },
  {
   "cell_type": "code",
   "execution_count": 104,
   "metadata": {
    "ExecuteTime": {
     "end_time": "2020-06-17T02:30:39.628979Z",
     "start_time": "2020-06-17T02:30:39.607557Z"
    }
   },
   "outputs": [],
   "source": [
    "last_df['win_median_price'] = last_df['median_price']\n",
    "last_df.loc[last_df['win_median_price']>200 , 'win_median_price'] = 201\n",
    "\n",
    "#Create median prices category\n",
    "bins = [i for i in range(0,240,20)]\n",
    "\n",
    "names = [str(i) + \" to \" + str(bins[ind+1]) + ' Dollars' for i,ind in zip(bins, list(range(len(bins)))) if ind <10] + [\"More than 200 Dollars\"]\n",
    "\n",
    "d = dict(enumerate(names, 1))\n",
    "\n",
    "last_df['price_category'] = np.vectorize(d.get)(np.digitize(last_df['win_median_price'], bins))"
   ]
  },
  {
   "cell_type": "code",
   "execution_count": 105,
   "metadata": {
    "ExecuteTime": {
     "end_time": "2020-06-17T02:30:47.833773Z",
     "start_time": "2020-06-17T02:30:47.745351Z"
    }
   },
   "outputs": [
    {
     "data": {
      "text/html": [
       "<style  type=\"text/css\" >\n",
       "    #T_8d994952_b042_11ea_b192_b46bfc7d2dd1row0_col2 {\n",
       "            width:  10em;\n",
       "             height:  80%;\n",
       "            background:  linear-gradient(90deg, transparent 30.0%, #d65f5f 30.0%, #d65f5f 60.0%, transparent 60.0%);\n",
       "        }    #T_8d994952_b042_11ea_b192_b46bfc7d2dd1row1_col2 {\n",
       "            width:  10em;\n",
       "             height:  80%;\n",
       "            background:  linear-gradient(90deg,#d65f5f 60.0%, transparent 60.0%);\n",
       "        }    #T_8d994952_b042_11ea_b192_b46bfc7d2dd1row2_col2 {\n",
       "            width:  10em;\n",
       "             height:  80%;\n",
       "            background:  linear-gradient(90deg, transparent 60.0%, #5fba7d 60.0%, #5fba7d 80.0%, transparent 80.0%);\n",
       "        }    #T_8d994952_b042_11ea_b192_b46bfc7d2dd1row3_col2 {\n",
       "            width:  10em;\n",
       "             height:  80%;\n",
       "            background:  linear-gradient(90deg, transparent 60.0%, #5fba7d 60.0%, #5fba7d 100.0%, transparent 100.0%);\n",
       "        }    #T_8d994952_b042_11ea_b192_b46bfc7d2dd1row4_col2 {\n",
       "            width:  10em;\n",
       "             height:  80%;\n",
       "            background:  linear-gradient(90deg, transparent 60.0%, #5fba7d 60.0%, #5fba7d 70.0%, transparent 70.0%);\n",
       "        }    #T_8d994952_b042_11ea_b192_b46bfc7d2dd1row5_col2 {\n",
       "            width:  10em;\n",
       "             height:  80%;\n",
       "            background:  linear-gradient(90deg, transparent 60.0%, #5fba7d 60.0%, #5fba7d 70.0%, transparent 70.0%);\n",
       "        }    #T_8d994952_b042_11ea_b192_b46bfc7d2dd1row6_col2 {\n",
       "            width:  10em;\n",
       "             height:  80%;\n",
       "        }    #T_8d994952_b042_11ea_b192_b46bfc7d2dd1row7_col2 {\n",
       "            width:  10em;\n",
       "             height:  80%;\n",
       "            background:  linear-gradient(90deg, transparent 60.0%, #5fba7d 60.0%, #5fba7d 70.0%, transparent 70.0%);\n",
       "        }    #T_8d994952_b042_11ea_b192_b46bfc7d2dd1row8_col2 {\n",
       "            width:  10em;\n",
       "             height:  80%;\n",
       "            background:  linear-gradient(90deg, transparent 50.0%, #d65f5f 50.0%, #d65f5f 60.0%, transparent 60.0%);\n",
       "        }    #T_8d994952_b042_11ea_b192_b46bfc7d2dd1row9_col2 {\n",
       "            width:  10em;\n",
       "             height:  80%;\n",
       "        }</style><table id=\"T_8d994952_b042_11ea_b192_b46bfc7d2dd1\" ><thead>    <tr>        <th class=\"blank level0\" ></th>        <th class=\"col_heading level0 col0\" >Superhost \n",
       "(Percentage)</th>        <th class=\"col_heading level0 col1\" >Non-Superhosts \n",
       "(Percentage)</th>        <th class=\"col_heading level0 col2\" >Proportional Difference</th>    </tr>    <tr>        <th class=\"index_name level0\" >price_category</th>        <th class=\"blank\" ></th>        <th class=\"blank\" ></th>        <th class=\"blank\" ></th>    </tr></thead><tbody>\n",
       "                <tr>\n",
       "                        <th id=\"T_8d994952_b042_11ea_b192_b46bfc7d2dd1level0_row0\" class=\"row_heading level0 row0\" >20 to 40 Dollars</th>\n",
       "                        <td id=\"T_8d994952_b042_11ea_b192_b46bfc7d2dd1row0_col0\" class=\"data row0 col0\" >0</td>\n",
       "                        <td id=\"T_8d994952_b042_11ea_b192_b46bfc7d2dd1row0_col1\" class=\"data row0 col1\" >4</td>\n",
       "                        <td id=\"T_8d994952_b042_11ea_b192_b46bfc7d2dd1row0_col2\" class=\"data row0 col2\" >-3</td>\n",
       "            </tr>\n",
       "            <tr>\n",
       "                        <th id=\"T_8d994952_b042_11ea_b192_b46bfc7d2dd1level0_row1\" class=\"row_heading level0 row1\" >40 to 60 Dollars</th>\n",
       "                        <td id=\"T_8d994952_b042_11ea_b192_b46bfc7d2dd1row1_col0\" class=\"data row1 col0\" >6</td>\n",
       "                        <td id=\"T_8d994952_b042_11ea_b192_b46bfc7d2dd1row1_col1\" class=\"data row1 col1\" >12</td>\n",
       "                        <td id=\"T_8d994952_b042_11ea_b192_b46bfc7d2dd1row1_col2\" class=\"data row1 col2\" >-6</td>\n",
       "            </tr>\n",
       "            <tr>\n",
       "                        <th id=\"T_8d994952_b042_11ea_b192_b46bfc7d2dd1level0_row2\" class=\"row_heading level0 row2\" >60 to 80 Dollars</th>\n",
       "                        <td id=\"T_8d994952_b042_11ea_b192_b46bfc7d2dd1row2_col0\" class=\"data row2 col0\" >17</td>\n",
       "                        <td id=\"T_8d994952_b042_11ea_b192_b46bfc7d2dd1row2_col1\" class=\"data row2 col1\" >15</td>\n",
       "                        <td id=\"T_8d994952_b042_11ea_b192_b46bfc7d2dd1row2_col2\" class=\"data row2 col2\" >2</td>\n",
       "            </tr>\n",
       "            <tr>\n",
       "                        <th id=\"T_8d994952_b042_11ea_b192_b46bfc7d2dd1level0_row3\" class=\"row_heading level0 row3\" >80 to 100 Dollars</th>\n",
       "                        <td id=\"T_8d994952_b042_11ea_b192_b46bfc7d2dd1row3_col0\" class=\"data row3 col0\" >22</td>\n",
       "                        <td id=\"T_8d994952_b042_11ea_b192_b46bfc7d2dd1row3_col1\" class=\"data row3 col1\" >18</td>\n",
       "                        <td id=\"T_8d994952_b042_11ea_b192_b46bfc7d2dd1row3_col2\" class=\"data row3 col2\" >4</td>\n",
       "            </tr>\n",
       "            <tr>\n",
       "                        <th id=\"T_8d994952_b042_11ea_b192_b46bfc7d2dd1level0_row4\" class=\"row_heading level0 row4\" >100 to 120 Dollars</th>\n",
       "                        <td id=\"T_8d994952_b042_11ea_b192_b46bfc7d2dd1row4_col0\" class=\"data row4 col0\" >12</td>\n",
       "                        <td id=\"T_8d994952_b042_11ea_b192_b46bfc7d2dd1row4_col1\" class=\"data row4 col1\" >11</td>\n",
       "                        <td id=\"T_8d994952_b042_11ea_b192_b46bfc7d2dd1row4_col2\" class=\"data row4 col2\" >1</td>\n",
       "            </tr>\n",
       "            <tr>\n",
       "                        <th id=\"T_8d994952_b042_11ea_b192_b46bfc7d2dd1level0_row5\" class=\"row_heading level0 row5\" >120 to 140 Dollars</th>\n",
       "                        <td id=\"T_8d994952_b042_11ea_b192_b46bfc7d2dd1row5_col0\" class=\"data row5 col0\" >11</td>\n",
       "                        <td id=\"T_8d994952_b042_11ea_b192_b46bfc7d2dd1row5_col1\" class=\"data row5 col1\" >10</td>\n",
       "                        <td id=\"T_8d994952_b042_11ea_b192_b46bfc7d2dd1row5_col2\" class=\"data row5 col2\" >1</td>\n",
       "            </tr>\n",
       "            <tr>\n",
       "                        <th id=\"T_8d994952_b042_11ea_b192_b46bfc7d2dd1level0_row6\" class=\"row_heading level0 row6\" >140 to 160 Dollars</th>\n",
       "                        <td id=\"T_8d994952_b042_11ea_b192_b46bfc7d2dd1row6_col0\" class=\"data row6 col0\" >9</td>\n",
       "                        <td id=\"T_8d994952_b042_11ea_b192_b46bfc7d2dd1row6_col1\" class=\"data row6 col1\" >8</td>\n",
       "                        <td id=\"T_8d994952_b042_11ea_b192_b46bfc7d2dd1row6_col2\" class=\"data row6 col2\" >0</td>\n",
       "            </tr>\n",
       "            <tr>\n",
       "                        <th id=\"T_8d994952_b042_11ea_b192_b46bfc7d2dd1level0_row7\" class=\"row_heading level0 row7\" >160 to 180 Dollars</th>\n",
       "                        <td id=\"T_8d994952_b042_11ea_b192_b46bfc7d2dd1row7_col0\" class=\"data row7 col0\" >5</td>\n",
       "                        <td id=\"T_8d994952_b042_11ea_b192_b46bfc7d2dd1row7_col1\" class=\"data row7 col1\" >5</td>\n",
       "                        <td id=\"T_8d994952_b042_11ea_b192_b46bfc7d2dd1row7_col2\" class=\"data row7 col2\" >1</td>\n",
       "            </tr>\n",
       "            <tr>\n",
       "                        <th id=\"T_8d994952_b042_11ea_b192_b46bfc7d2dd1level0_row8\" class=\"row_heading level0 row8\" >180 to 200 Dollars</th>\n",
       "                        <td id=\"T_8d994952_b042_11ea_b192_b46bfc7d2dd1row8_col0\" class=\"data row8 col0\" >3</td>\n",
       "                        <td id=\"T_8d994952_b042_11ea_b192_b46bfc7d2dd1row8_col1\" class=\"data row8 col1\" >4</td>\n",
       "                        <td id=\"T_8d994952_b042_11ea_b192_b46bfc7d2dd1row8_col2\" class=\"data row8 col2\" >-1</td>\n",
       "            </tr>\n",
       "            <tr>\n",
       "                        <th id=\"T_8d994952_b042_11ea_b192_b46bfc7d2dd1level0_row9\" class=\"row_heading level0 row9\" >More than 200 Dollars</th>\n",
       "                        <td id=\"T_8d994952_b042_11ea_b192_b46bfc7d2dd1row9_col0\" class=\"data row9 col0\" >13</td>\n",
       "                        <td id=\"T_8d994952_b042_11ea_b192_b46bfc7d2dd1row9_col1\" class=\"data row9 col1\" >13</td>\n",
       "                        <td id=\"T_8d994952_b042_11ea_b192_b46bfc7d2dd1row9_col2\" class=\"data row9 col2\" >0</td>\n",
       "            </tr>\n",
       "    </tbody></table>"
      ],
      "text/plain": [
       "<pandas.io.formats.style.Styler at 0x214006a61c8>"
      ]
     },
     "execution_count": 105,
     "metadata": {},
     "output_type": "execute_result"
    }
   ],
   "source": [
    "price_df = choose_col_cat('host_is_superhost', 'price_category')\n",
    "price_df['sort'] = price_df.index\n",
    "price_df['sort'] = price_df['sort'].apply(lambda x: x.split(\" \")[0])\n",
    "price_df['sort'] = price_df['sort'].str.replace(\"More\", str(200))\n",
    "price_df['sort'] = price_df['sort'].astype(int)\n",
    "price_df = price_df.sort_values(by =['sort'], ascending=[True])\n",
    "price_df = price_df.drop('sort', axis=1)\n",
    "\n",
    "price_df = price_df.rename(columns = {'host_is_superhost_True': 'Superhost \\n(Percentage)', \n",
    "                                      'host_is_superhost_False': 'Non-Superhosts \\n(Percentage)',\n",
    "                                      'Diff_Vals': \"Proportional Difference\"})\n",
    "for col in ['Superhost \\n(Percentage)', 'Non-Superhosts \\n(Percentage)', 'Proportional Difference']:\n",
    "    price_df[col] = price_df[col].apply(lambda x: int(round((x*100),0)))\n",
    "    #price_df[col] = price_df[col]\n",
    "price_df.style.bar(subset=['Proportional Difference'], align='mid', color = ['#d65f5f', '#5fba7d'])"
   ]
  },
  {
   "cell_type": "markdown",
   "metadata": {},
   "source": [
    "Based on the above, there could be a scant evidence that superhosts tend to charge slightly higher price than non-superhosts"
   ]
  },
  {
   "cell_type": "markdown",
   "metadata": {},
   "source": [
    "### Business Question 3: What property type are more people interested in and does it affect the pricing?"
   ]
  },
  {
   "cell_type": "code",
   "execution_count": 82,
   "metadata": {
    "ExecuteTime": {
     "end_time": "2020-06-17T02:23:26.463308Z",
     "start_time": "2020-06-17T02:23:26.430916Z"
    }
   },
   "outputs": [
    {
     "data": {
      "text/html": [
       "<div>\n",
       "<style scoped>\n",
       "    .dataframe tbody tr th:only-of-type {\n",
       "        vertical-align: middle;\n",
       "    }\n",
       "\n",
       "    .dataframe tbody tr th {\n",
       "        vertical-align: top;\n",
       "    }\n",
       "\n",
       "    .dataframe thead th {\n",
       "        text-align: right;\n",
       "    }\n",
       "</style>\n",
       "<table border=\"1\" class=\"dataframe\">\n",
       "  <thead>\n",
       "    <tr style=\"text-align: right;\">\n",
       "      <th></th>\n",
       "      <th>reviewers_count</th>\n",
       "      <th>median_price</th>\n",
       "      <th>host_response_time</th>\n",
       "      <th>host_response_rate</th>\n",
       "      <th>price</th>\n",
       "      <th>guests_included</th>\n",
       "      <th>extra_people</th>\n",
       "      <th>minimum_nights</th>\n",
       "      <th>number_of_reviews</th>\n",
       "      <th>review_scores_rating</th>\n",
       "      <th>review_scores_cleanliness</th>\n",
       "      <th>review_scores_checkin</th>\n",
       "      <th>review_scores_communication</th>\n",
       "      <th>review_scores_location</th>\n",
       "      <th>review_scores_value</th>\n",
       "      <th>reviews_per_month</th>\n",
       "      <th>host_is_superhost</th>\n",
       "      <th>property_type</th>\n",
       "      <th>Average_rating</th>\n",
       "      <th>win_median_price</th>\n",
       "      <th>price_category</th>\n",
       "    </tr>\n",
       "  </thead>\n",
       "  <tbody>\n",
       "    <tr>\n",
       "      <th>1000883</th>\n",
       "      <td>18.00</td>\n",
       "      <td>100.00</td>\n",
       "      <td>within a few hours</td>\n",
       "      <td>86.00</td>\n",
       "      <td>100.00</td>\n",
       "      <td>3.00</td>\n",
       "      <td>0.00</td>\n",
       "      <td>2.00</td>\n",
       "      <td>18.00</td>\n",
       "      <td>0.99</td>\n",
       "      <td>1.00</td>\n",
       "      <td>1.00</td>\n",
       "      <td>1.00</td>\n",
       "      <td>1.00</td>\n",
       "      <td>1.00</td>\n",
       "      <td>0.59</td>\n",
       "      <td>f</td>\n",
       "      <td>House</td>\n",
       "      <td>1.00</td>\n",
       "      <td>100.00</td>\n",
       "      <td>100 to 120 Dollars</td>\n",
       "    </tr>\n",
       "    <tr>\n",
       "      <th>10012724</th>\n",
       "      <td>2.00</td>\n",
       "      <td>25.00</td>\n",
       "      <td>within an hour</td>\n",
       "      <td>100.00</td>\n",
       "      <td>25.00</td>\n",
       "      <td>1.00</td>\n",
       "      <td>0.00</td>\n",
       "      <td>1.00</td>\n",
       "      <td>2.00</td>\n",
       "      <td>1.00</td>\n",
       "      <td>1.00</td>\n",
       "      <td>1.00</td>\n",
       "      <td>1.00</td>\n",
       "      <td>1.00</td>\n",
       "      <td>1.00</td>\n",
       "      <td>2.00</td>\n",
       "      <td>f</td>\n",
       "      <td>Apartment</td>\n",
       "      <td>1.00</td>\n",
       "      <td>25.00</td>\n",
       "      <td>20 to 40 Dollars</td>\n",
       "    </tr>\n",
       "  </tbody>\n",
       "</table>\n",
       "</div>"
      ],
      "text/plain": [
       "          reviewers_count  median_price  host_response_time  \\\n",
       "1000883             18.00        100.00  within a few hours   \n",
       "10012724             2.00         25.00      within an hour   \n",
       "\n",
       "          host_response_rate  price  guests_included  extra_people  \\\n",
       "1000883                86.00 100.00             3.00          0.00   \n",
       "10012724              100.00  25.00             1.00          0.00   \n",
       "\n",
       "          minimum_nights  number_of_reviews  review_scores_rating  \\\n",
       "1000883             2.00              18.00                  0.99   \n",
       "10012724            1.00               2.00                  1.00   \n",
       "\n",
       "          review_scores_cleanliness  review_scores_checkin  \\\n",
       "1000883                        1.00                   1.00   \n",
       "10012724                       1.00                   1.00   \n",
       "\n",
       "          review_scores_communication  review_scores_location  \\\n",
       "1000883                          1.00                    1.00   \n",
       "10012724                         1.00                    1.00   \n",
       "\n",
       "          review_scores_value  reviews_per_month host_is_superhost  \\\n",
       "1000883                  1.00               0.59                 f   \n",
       "10012724                 1.00               2.00                 f   \n",
       "\n",
       "         property_type  Average_rating  win_median_price      price_category  \n",
       "1000883          House            1.00            100.00  100 to 120 Dollars  \n",
       "10012724     Apartment            1.00             25.00    20 to 40 Dollars  "
      ]
     },
     "execution_count": 82,
     "metadata": {},
     "output_type": "execute_result"
    }
   ],
   "source": [
    "last_df.head(2)"
   ]
  },
  {
   "cell_type": "markdown",
   "metadata": {},
   "source": [
    "I will first check the popularity of each property type by using the number of reviewers"
   ]
  },
  {
   "cell_type": "code",
   "execution_count": 106,
   "metadata": {
    "ExecuteTime": {
     "end_time": "2020-06-17T02:31:56.038941Z",
     "start_time": "2020-06-17T02:31:56.017998Z"
    }
   },
   "outputs": [],
   "source": [
    "count_popularity = last_df.groupby('property_type').agg({'reviewers_count': 'median', 'reviews_per_month': 'median'})\n",
    "\n",
    "count_popularity.sort_values(by='reviewers_count', ascending=False, inplace=True)"
   ]
  },
  {
   "cell_type": "code",
   "execution_count": 107,
   "metadata": {
    "ExecuteTime": {
     "end_time": "2020-06-17T02:31:59.529110Z",
     "start_time": "2020-06-17T02:31:59.512144Z"
    }
   },
   "outputs": [
    {
     "data": {
      "text/html": [
       "<div>\n",
       "<style scoped>\n",
       "    .dataframe tbody tr th:only-of-type {\n",
       "        vertical-align: middle;\n",
       "    }\n",
       "\n",
       "    .dataframe tbody tr th {\n",
       "        vertical-align: top;\n",
       "    }\n",
       "\n",
       "    .dataframe thead th {\n",
       "        text-align: right;\n",
       "    }\n",
       "</style>\n",
       "<table border=\"1\" class=\"dataframe\">\n",
       "  <thead>\n",
       "    <tr style=\"text-align: right;\">\n",
       "      <th></th>\n",
       "      <th>reviewers_count</th>\n",
       "      <th>reviews_per_month</th>\n",
       "    </tr>\n",
       "    <tr>\n",
       "      <th>property_type</th>\n",
       "      <th></th>\n",
       "      <th></th>\n",
       "    </tr>\n",
       "  </thead>\n",
       "  <tbody>\n",
       "    <tr>\n",
       "      <th>Camper/RV</th>\n",
       "      <td>80.00</td>\n",
       "      <td>3.69</td>\n",
       "    </tr>\n",
       "    <tr>\n",
       "      <th>Cabin</th>\n",
       "      <td>66.00</td>\n",
       "      <td>3.53</td>\n",
       "    </tr>\n",
       "    <tr>\n",
       "      <th>Other</th>\n",
       "      <td>48.50</td>\n",
       "      <td>3.50</td>\n",
       "    </tr>\n",
       "    <tr>\n",
       "      <th>Loft</th>\n",
       "      <td>39.00</td>\n",
       "      <td>3.32</td>\n",
       "    </tr>\n",
       "    <tr>\n",
       "      <th>House</th>\n",
       "      <td>25.00</td>\n",
       "      <td>2.28</td>\n",
       "    </tr>\n",
       "  </tbody>\n",
       "</table>\n",
       "</div>"
      ],
      "text/plain": [
       "               reviewers_count  reviews_per_month\n",
       "property_type                                    \n",
       "Camper/RV                80.00               3.69\n",
       "Cabin                    66.00               3.53\n",
       "Other                    48.50               3.50\n",
       "Loft                     39.00               3.32\n",
       "House                    25.00               2.28"
      ]
     },
     "execution_count": 107,
     "metadata": {},
     "output_type": "execute_result"
    }
   ],
   "source": [
    "count_popularity.head()"
   ]
  },
  {
   "cell_type": "code",
   "execution_count": 108,
   "metadata": {
    "ExecuteTime": {
     "end_time": "2020-06-17T02:32:03.715656Z",
     "start_time": "2020-06-17T02:32:03.106661Z"
    }
   },
   "outputs": [
    {
     "data": {
      "image/png": "[encoded data removed]",
      "text/plain": [
       "<Figure size 864x504 with 2 Axes>"
      ]
     },
     "metadata": {
      "needs_background": "light"
     },
     "output_type": "display_data"
    }
   ],
   "source": [
    "#Plot the above\n",
    "data = count_popularity\n",
    "\n",
    "frequencies = count_popularity['reviewers_count']\n",
    "\n",
    "#Creating a series for the data and making the index labels\n",
    "freq_series = pd.Series(frequencies)\n",
    "\n",
    "x_labels = data.index\n",
    "\n",
    "#Plot the figure\n",
    "# Plot the figure.\n",
    "plt.subplots(figsize=(12, 7))\n",
    "ax = freq_series.plot(kind='bar', legend=False, color = ['#17618C', '#62B5E5'])\n",
    "ax.set_title('Median Reviewers and Reviewes per Month for each Property Type',fontsize=12, y=1.08)\n",
    "ax.set_xlabel('')\n",
    "ax.set_ylabel('Reviewers', fontsize=12)\n",
    "ax.set_xticklabels(x_labels, fontsize=10, rotation=90)\n",
    "\n",
    "#ax.set_yticklabels(freq_series, fontsize=16, rotation=0)\n",
    "# Despine\n",
    "ax.spines['right'].set_visible(False)\n",
    "ax.spines['top'].set_visible(False)\n",
    "\n",
    "#Putting commas to thousands figures on the y axis\n",
    "ax.get_yaxis().set_major_formatter(plt.FuncFormatter(lambda x, loc: \"{:,}\".format(int(x))))\n",
    "#Set y limits\n",
    "\n",
    "#ax.set_ylim(0, 6500)\n",
    "\n",
    "def add_value_labels(ax, spacing=5):\n",
    "\n",
    "    \"\"\"Add labels to the end of each bar in a bar chart.\n",
    "    Arguments:\n",
    "        ax (matplotlib.axes.Axes): The matplotlib object containing the axes\n",
    "            of the plot to annotate.\n",
    "        spacing (int): The distance between the labels and the bars.\n",
    "    \"\"\"\n",
    "    # For each bar: Place a label\n",
    "    for patch_bar in ax.patches:\n",
    "        patch_bar.set_color('#62B5E5')\n",
    "        \n",
    "        # Get X and Y placement of label from patch_bar.\n",
    "        y_value = patch_bar.get_height()\n",
    "        x_value = patch_bar.get_x() + patch_bar.get_width() / 2\n",
    "        \n",
    "        # Number of points between bar and label. Change to your liking.\n",
    "        space = spacing\n",
    "\n",
    "        # Vertical alignment for positive values\n",
    "        va = 'bottom'\n",
    "\n",
    "        # If value of bar is negative: Place label below bar\n",
    "        if y_value < 0:\n",
    "            # Invert space to place label below\n",
    "            space *= -1\n",
    "            # Vertically align label at top\n",
    "            va = 'top'\n",
    "        # Use Y value as label and format number with no decimals\n",
    "        label = \"{:.0f}\".format(y_value)\n",
    "        #label = y_value.set_major_formatter(plt.FuncFormatter(lambda x, loc: \"{:,}\".format(int(x))))\n",
    "        \n",
    "        # Create annotation\n",
    "        ax.annotate(\n",
    "            str(\"{:,}\".format(int(label))),                      # Use `label` as label\n",
    "            (x_value, y_value),         # Place label at end of the bar\n",
    "            xytext=(1.4, space),          # Vertically shift label by `space`\n",
    "            textcoords=\"offset points\", # Interpret `xytext` as offset in points\n",
    "            ha='center',                # Horizontally center label\n",
    "            va=va,\n",
    "            color ='black', rotation=0, fontsize=10) # Vertically align label differently for\n",
    "                                        # positive and negative values.\n",
    "            \n",
    "# twin object for two different y-axis on the sample plot\n",
    "ax2=ax.twinx()\n",
    "# make a plot with different y-axis using second axis object\n",
    "ax2.plot(count_popularity.index, count_popularity[\"reviews_per_month\"], color=\"darkgreen\", marker=\"o\")\n",
    "ax2.set_ylabel(\"Reviews Per Month\",color=\"black\",fontsize=14)\n",
    "\n",
    "# Call the function above.\n",
    "add_value_labels(ax)\n",
    "plt.tight_layout()"
   ]
  },
  {
   "cell_type": "markdown",
   "metadata": {},
   "source": [
    "This chart shows that generally, Camper/RV, Cabin, and Yurt were some of the most popular property types based on the number of reviewers. The reviews per month shows a slightly different picture and can be interpreted as even if some other properties like Yurt had fewer reviewers, they were more enthusiastic and could have posted multiple reviews."
   ]
  },
  {
   "cell_type": "markdown",
   "metadata": {},
   "source": [
    "Pricing"
   ]
  },
  {
   "cell_type": "code",
   "execution_count": 109,
   "metadata": {
    "ExecuteTime": {
     "end_time": "2020-06-17T02:32:27.257397Z",
     "start_time": "2020-06-17T02:32:27.242100Z"
    }
   },
   "outputs": [],
   "source": [
    "pricing_df = pd.DataFrame(last_df.groupby('property_type')['price'] \\\n",
    "                     .median()) \\\n",
    "                     .rename(columns={'price': 'Median Price'}) \\\n",
    "                     .sort_values(by='Median Price', ascending=False)"
   ]
  },
  {
   "cell_type": "code",
   "execution_count": 110,
   "metadata": {
    "ExecuteTime": {
     "end_time": "2020-06-17T02:32:29.260200Z",
     "start_time": "2020-06-17T02:32:29.239031Z"
    }
   },
   "outputs": [
    {
     "data": {
      "text/html": [
       "<div>\n",
       "<style scoped>\n",
       "    .dataframe tbody tr th:only-of-type {\n",
       "        vertical-align: middle;\n",
       "    }\n",
       "\n",
       "    .dataframe tbody tr th {\n",
       "        vertical-align: top;\n",
       "    }\n",
       "\n",
       "    .dataframe thead th {\n",
       "        text-align: right;\n",
       "    }\n",
       "</style>\n",
       "<table border=\"1\" class=\"dataframe\">\n",
       "  <thead>\n",
       "    <tr style=\"text-align: right;\">\n",
       "      <th></th>\n",
       "      <th>Median Price</th>\n",
       "      <th>reviewers_count</th>\n",
       "      <th>reviews_per_month</th>\n",
       "    </tr>\n",
       "    <tr>\n",
       "      <th>property_type</th>\n",
       "      <th></th>\n",
       "      <th></th>\n",
       "      <th></th>\n",
       "    </tr>\n",
       "  </thead>\n",
       "  <tbody>\n",
       "    <tr>\n",
       "      <th>Camper/RV</th>\n",
       "      <td>75.00</td>\n",
       "      <td>80.00</td>\n",
       "      <td>3.69</td>\n",
       "    </tr>\n",
       "    <tr>\n",
       "      <th>Cabin</th>\n",
       "      <td>95.00</td>\n",
       "      <td>66.00</td>\n",
       "      <td>3.53</td>\n",
       "    </tr>\n",
       "    <tr>\n",
       "      <th>Other</th>\n",
       "      <td>72.50</td>\n",
       "      <td>48.50</td>\n",
       "      <td>3.50</td>\n",
       "    </tr>\n",
       "    <tr>\n",
       "      <th>Loft</th>\n",
       "      <td>102.50</td>\n",
       "      <td>39.00</td>\n",
       "      <td>3.32</td>\n",
       "    </tr>\n",
       "    <tr>\n",
       "      <th>Yurt</th>\n",
       "      <td>100.00</td>\n",
       "      <td>25.00</td>\n",
       "      <td>4.75</td>\n",
       "    </tr>\n",
       "  </tbody>\n",
       "</table>\n",
       "</div>"
      ],
      "text/plain": [
       "               Median Price  reviewers_count  reviews_per_month\n",
       "property_type                                                  \n",
       "Camper/RV             75.00            80.00               3.69\n",
       "Cabin                 95.00            66.00               3.53\n",
       "Other                 72.50            48.50               3.50\n",
       "Loft                 102.50            39.00               3.32\n",
       "Yurt                 100.00            25.00               4.75"
      ]
     },
     "execution_count": 110,
     "metadata": {},
     "output_type": "execute_result"
    }
   ],
   "source": [
    "#merge the 2 dataframes\n",
    "merged_prop_type = pricing_df.merge(count_popularity, left_index=True, right_index=True)\n",
    "merged_prop_type = merged_prop_type.sort_values(by='reviewers_count', ascending=False)\n",
    "merged_prop_type.head()"
   ]
  },
  {
   "cell_type": "code",
   "execution_count": 111,
   "metadata": {
    "ExecuteTime": {
     "end_time": "2020-06-17T02:32:39.183441Z",
     "start_time": "2020-06-17T02:32:38.529477Z"
    }
   },
   "outputs": [
    {
     "data": {
      "image/png": "[encoded data removed]",
      "text/plain": [
       "<Figure size 864x504 with 2 Axes>"
      ]
     },
     "metadata": {
      "needs_background": "light"
     },
     "output_type": "display_data"
    }
   ],
   "source": [
    "data = merged_prop_type\n",
    "\n",
    "frequencies = merged_prop_type['reviewers_count']\n",
    "\n",
    "#Creating a series for the data and making the index labels\n",
    "freq_series = pd.Series(frequencies)\n",
    "\n",
    "x_labels = data.index\n",
    "\n",
    "#Plot the figure\n",
    "# Plot the figure.\n",
    "plt.subplots(figsize=(12, 7))\n",
    "ax = freq_series.plot(kind='bar', legend=False, color = ['#17618C', '#62B5E5'])\n",
    "ax.set_title('Median Reviewers and Median Price Property Type',fontsize=12, y=1.08)\n",
    "ax.set_xlabel('')\n",
    "ax.set_ylabel('Reviewers', fontsize=12)\n",
    "ax.set_xticklabels(x_labels, fontsize=10, rotation=90)\n",
    "\n",
    "#ax.set_yticklabels(freq_series, fontsize=16, rotation=0)\n",
    "# Despine\n",
    "ax.spines['right'].set_visible(False)\n",
    "ax.spines['top'].set_visible(False)\n",
    "\n",
    "#Putting commas to thousands figures on the y axis\n",
    "ax.get_yaxis().set_major_formatter(plt.FuncFormatter(lambda x, loc: \"{:,}\".format(int(x))))\n",
    "#Set y limits\n",
    "\n",
    "#ax.set_ylim(0, 6500)\n",
    "\n",
    "def add_value_labels(ax, spacing=5):\n",
    "\n",
    "    \"\"\"Add labels to the end of each bar in a bar chart.\n",
    "    Arguments:\n",
    "        ax (matplotlib.axes.Axes): The matplotlib object containing the axes\n",
    "            of the plot to annotate.\n",
    "        spacing (int): The distance between the labels and the bars.\n",
    "    \"\"\"\n",
    "    # For each bar: Place a label\n",
    "    for patch_bar in ax.patches:\n",
    "        patch_bar.set_color('steelblue')\n",
    "        \n",
    "        # Get X and Y placement of label from patch_bar.\n",
    "        y_value = patch_bar.get_height()\n",
    "        x_value = patch_bar.get_x() + patch_bar.get_width() / 2\n",
    "        \n",
    "        # Number of points between bar and label. Change to your liking.\n",
    "        space = spacing\n",
    "\n",
    "        # Vertical alignment for positive values\n",
    "        va = 'bottom'\n",
    "\n",
    "        # If value of bar is negative: Place label below bar\n",
    "        if y_value < 0:\n",
    "            # Invert space to place label below\n",
    "            space *= -1\n",
    "            # Vertically align label at top\n",
    "            va = 'top'\n",
    "        # Use Y value as label and format number with no decimals\n",
    "        label = \"{:.0f}\".format(y_value)\n",
    "        #label = y_value.set_major_formatter(plt.FuncFormatter(lambda x, loc: \"{:,}\".format(int(x))))\n",
    "        \n",
    "        # Create annotation\n",
    "        ax.annotate(\n",
    "            str(\"{:,}\".format(int(label))),                      # Use `label` as label\n",
    "            (x_value, y_value),         # Place label at end of the bar\n",
    "            xytext=(1.4, space),          # Vertically shift label by `space`\n",
    "            textcoords=\"offset points\", # Interpret `xytext` as offset in points\n",
    "            ha='center',                # Horizontally center label\n",
    "            va=va,\n",
    "            color ='black', rotation=0, fontsize=10) # Vertically align label differently for\n",
    "                                        # positive and negative values.\n",
    "            \n",
    "# twin object for two different y-axis on the sample plot\n",
    "ax2=ax.twinx()\n",
    "# make a plot with different y-axis using second axis object\n",
    "ax2.plot(merged_prop_type.index, merged_prop_type[\"Median Price\"], color=\"g\", marker=\"o\")\n",
    "ax2.set_ylabel(\"Median Price\",color=\"black\",fontsize=14)\n",
    "\n",
    "plt.text(9,750, f\"Correlation Coeff: {round(merged_prop_type['Median Price'].corr(merged_prop_type['reviewers_count']), 2)}\")\n",
    "\n",
    "# Call the function above.\n",
    "add_value_labels(ax)\n",
    "plt.tight_layout()"
   ]
  },
  {
   "cell_type": "markdown",
   "metadata": {},
   "source": [
    "As shown in the chart, the Median Price and number of Reviewers per property type are polar oppisites. An increases in popularity of a property type has a corresponding decrease in associated price. This shows that more people are attracted to the low priced listings."
   ]
  },
  {
   "cell_type": "code",
   "execution_count": 44,
   "metadata": {
    "ExecuteTime": {
     "end_time": "2020-06-15T04:16:46.362048Z",
     "start_time": "2020-06-15T04:16:46.350487Z"
    }
   },
   "outputs": [
    {
     "data": {
      "text/plain": [
       "-0.2904479116315599"
      ]
     },
     "execution_count": 44,
     "metadata": {},
     "output_type": "execute_result"
    }
   ],
   "source": [
    "merged_prop_type['Median Price'].corr(merged_prop_type['Reviewers_Count'])"
   ]
  },
  {
   "cell_type": "markdown",
   "metadata": {},
   "source": [
    "Even the correlation coefficient above shows the negative relationship"
   ]
  },
  {
   "cell_type": "markdown",
   "metadata": {},
   "source": [
    "### Conclusion of the Analysis"
   ]
  },
  {
   "cell_type": "markdown",
   "metadata": {},
   "source": [
    "In conclusion, the AirBnB dataset has different interesting attributes that can identify quality of service of a host and the price of a listing. One of the observation is that whether a listing is made by super-host or non-super-host and the number of reviewers per listing can be used among the factors to determine the price of a listing. On the other hand, reviews per month cannot be classified among factors that can determine the price of a listing. Additionally, the faster the response of a host to a request, the higher probability that the host will offer high quality services."
   ]
  }
 ],
 "metadata": {
  "kernelspec": {
   "display_name": "Python 3",
   "language": "python",
   "name": "python3"
  },
  "language_info": {
   "codemirror_mode": {
    "name": "ipython",
    "version": 3
   },
   "file_extension": ".py",
   "mimetype": "text/x-python",
   "name": "python",
   "nbconvert_exporter": "python",
   "pygments_lexer": "ipython3",
   "version": "3.7.6"
  },
  "toc": {
   "base_numbering": 1,
   "nav_menu": {},
   "number_sections": true,
   "sideBar": true,
   "skip_h1_title": false,
   "title_cell": "Table of Contents",
   "title_sidebar": "Contents",
   "toc_cell": false,
   "toc_position": {},
   "toc_section_display": true,
   "toc_window_display": false
  }
 },
 "nbformat": 4,
 "nbformat_minor": 4
}
