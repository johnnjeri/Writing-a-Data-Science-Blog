{
 "cells": [
  {
   "cell_type": "markdown",
   "metadata": {},
   "source": [
    "**In this project, I will be using the AirBNB dataset. My objective is to understand various patterns rekated to pricing and it's relationship to various categorical variables. I will explore the following related questions**:\n",
    "\n",
    "    1. Can the response time be used as a measure of quality based on the corresponding review scores?-This can be used by future clients who want to have a quick check on the quality of service for various hosts.\n",
    "    \n",
    "    2. Do superhosts tend to charge more that the non-superhosts? -This can help prospective clients to select which type of host they would like to contact. Additionally, if there is a clear distinction in terms of pricing, it could help predict the pricing\n",
    "    \n",
    "    3. What property type are more people interested in and does it affect the pricing?-This can help prospective host to estimate the probability of demand for their proterty\n"
   ]
  },
  {
   "cell_type": "markdown",
   "metadata": {},
   "source": [
    "## Libraries"
   ]
  },
  {
   "cell_type": "code",
   "execution_count": 43,
   "metadata": {
    "ExecuteTime": {
     "end_time": "2020-06-15T23:40:55.348797Z",
     "start_time": "2020-06-15T23:40:55.341833Z"
    }
   },
   "outputs": [],
   "source": [
    "#Import libraries\n",
    "import pandas as pd\n",
    "import numpy as np\n",
    "import matplotlib.pyplot as plt\n",
    "%matplotlib inline\n",
    "pd.set_option('display.max_columns', None)\n",
    "import warnings\n",
    "warnings.filterwarnings('ignore')\n",
    "import seaborn as sns\n",
    "pd.options.display.float_format = '{:,.2f}'.format"
   ]
  },
  {
   "cell_type": "markdown",
   "metadata": {},
   "source": [
    "### Load the data"
   ]
  },
  {
   "cell_type": "code",
   "execution_count": 2,
   "metadata": {
    "ExecuteTime": {
     "end_time": "2020-06-15T23:33:58.188706Z",
     "start_time": "2020-06-15T23:33:56.981074Z"
    }
   },
   "outputs": [],
   "source": [
    "#Load the data\n",
    "listing_df = pd.read_csv('listings.csv', dtype=str)\n",
    "calendar_df = pd.read_csv('calendar.csv', dtype=str)\n",
    "reviews_df = pd.read_csv('reviews.csv', dtype=str)"
   ]
  },
  {
   "cell_type": "markdown",
   "metadata": {},
   "source": [
    "### Listing Data"
   ]
  },
  {
   "cell_type": "code",
   "execution_count": 3,
   "metadata": {
    "ExecuteTime": {
     "end_time": "2020-06-15T23:33:58.252975Z",
     "start_time": "2020-06-15T23:33:58.189702Z"
    }
   },
   "outputs": [
    {
     "name": "stdout",
     "output_type": "stream",
     "text": [
      "(3818, 92)\n"
     ]
    },
    {
     "data": {
      "text/html": [
       "<div>\n",
       "<style scoped>\n",
       "    .dataframe tbody tr th:only-of-type {\n",
       "        vertical-align: middle;\n",
       "    }\n",
       "\n",
       "    .dataframe tbody tr th {\n",
       "        vertical-align: top;\n",
       "    }\n",
       "\n",
       "    .dataframe thead th {\n",
       "        text-align: right;\n",
       "    }\n",
       "</style>\n",
       "<table border=\"1\" class=\"dataframe\">\n",
       "  <thead>\n",
       "    <tr style=\"text-align: right;\">\n",
       "      <th></th>\n",
       "      <th>id</th>\n",
       "      <th>listing_url</th>\n",
       "      <th>scrape_id</th>\n",
       "      <th>last_scraped</th>\n",
       "      <th>name</th>\n",
       "      <th>summary</th>\n",
       "      <th>space</th>\n",
       "      <th>description</th>\n",
       "      <th>experiences_offered</th>\n",
       "      <th>neighborhood_overview</th>\n",
       "      <th>notes</th>\n",
       "      <th>transit</th>\n",
       "      <th>thumbnail_url</th>\n",
       "      <th>medium_url</th>\n",
       "      <th>picture_url</th>\n",
       "      <th>xl_picture_url</th>\n",
       "      <th>host_id</th>\n",
       "      <th>host_url</th>\n",
       "      <th>host_name</th>\n",
       "      <th>host_since</th>\n",
       "      <th>host_location</th>\n",
       "      <th>host_about</th>\n",
       "      <th>host_response_time</th>\n",
       "      <th>host_response_rate</th>\n",
       "      <th>host_acceptance_rate</th>\n",
       "      <th>host_is_superhost</th>\n",
       "      <th>host_thumbnail_url</th>\n",
       "      <th>host_picture_url</th>\n",
       "      <th>host_neighbourhood</th>\n",
       "      <th>host_listings_count</th>\n",
       "      <th>host_total_listings_count</th>\n",
       "      <th>host_verifications</th>\n",
       "      <th>host_has_profile_pic</th>\n",
       "      <th>host_identity_verified</th>\n",
       "      <th>street</th>\n",
       "      <th>neighbourhood</th>\n",
       "      <th>neighbourhood_cleansed</th>\n",
       "      <th>neighbourhood_group_cleansed</th>\n",
       "      <th>city</th>\n",
       "      <th>state</th>\n",
       "      <th>zipcode</th>\n",
       "      <th>market</th>\n",
       "      <th>smart_location</th>\n",
       "      <th>country_code</th>\n",
       "      <th>country</th>\n",
       "      <th>latitude</th>\n",
       "      <th>longitude</th>\n",
       "      <th>is_location_exact</th>\n",
       "      <th>property_type</th>\n",
       "      <th>room_type</th>\n",
       "      <th>accommodates</th>\n",
       "      <th>bathrooms</th>\n",
       "      <th>bedrooms</th>\n",
       "      <th>beds</th>\n",
       "      <th>bed_type</th>\n",
       "      <th>amenities</th>\n",
       "      <th>square_feet</th>\n",
       "      <th>price</th>\n",
       "      <th>weekly_price</th>\n",
       "      <th>monthly_price</th>\n",
       "      <th>security_deposit</th>\n",
       "      <th>cleaning_fee</th>\n",
       "      <th>guests_included</th>\n",
       "      <th>extra_people</th>\n",
       "      <th>minimum_nights</th>\n",
       "      <th>maximum_nights</th>\n",
       "      <th>calendar_updated</th>\n",
       "      <th>has_availability</th>\n",
       "      <th>availability_30</th>\n",
       "      <th>availability_60</th>\n",
       "      <th>availability_90</th>\n",
       "      <th>availability_365</th>\n",
       "      <th>calendar_last_scraped</th>\n",
       "      <th>number_of_reviews</th>\n",
       "      <th>first_review</th>\n",
       "      <th>last_review</th>\n",
       "      <th>review_scores_rating</th>\n",
       "      <th>review_scores_accuracy</th>\n",
       "      <th>review_scores_cleanliness</th>\n",
       "      <th>review_scores_checkin</th>\n",
       "      <th>review_scores_communication</th>\n",
       "      <th>review_scores_location</th>\n",
       "      <th>review_scores_value</th>\n",
       "      <th>requires_license</th>\n",
       "      <th>license</th>\n",
       "      <th>jurisdiction_names</th>\n",
       "      <th>instant_bookable</th>\n",
       "      <th>cancellation_policy</th>\n",
       "      <th>require_guest_profile_picture</th>\n",
       "      <th>require_guest_phone_verification</th>\n",
       "      <th>calculated_host_listings_count</th>\n",
       "      <th>reviews_per_month</th>\n",
       "    </tr>\n",
       "  </thead>\n",
       "  <tbody>\n",
       "    <tr>\n",
       "      <th>0</th>\n",
       "      <td>241032</td>\n",
       "      <td>https://www.airbnb.com/rooms/241032</td>\n",
       "      <td>20160104002432</td>\n",
       "      <td>2016-01-04</td>\n",
       "      <td>Stylish Queen Anne Apartment</td>\n",
       "      <td>NaN</td>\n",
       "      <td>Make your self at home in this charming one-be...</td>\n",
       "      <td>Make your self at home in this charming one-be...</td>\n",
       "      <td>none</td>\n",
       "      <td>NaN</td>\n",
       "      <td>NaN</td>\n",
       "      <td>NaN</td>\n",
       "      <td>NaN</td>\n",
       "      <td>NaN</td>\n",
       "      <td>https://a1.muscache.com/ac/pictures/67560560/c...</td>\n",
       "      <td>NaN</td>\n",
       "      <td>956883</td>\n",
       "      <td>https://www.airbnb.com/users/show/956883</td>\n",
       "      <td>Maija</td>\n",
       "      <td>2011-08-11</td>\n",
       "      <td>Seattle, Washington, United States</td>\n",
       "      <td>I am an artist, interior designer, and run a s...</td>\n",
       "      <td>within a few hours</td>\n",
       "      <td>96%</td>\n",
       "      <td>100%</td>\n",
       "      <td>f</td>\n",
       "      <td>https://a0.muscache.com/ac/users/956883/profil...</td>\n",
       "      <td>https://a0.muscache.com/ac/users/956883/profil...</td>\n",
       "      <td>Queen Anne</td>\n",
       "      <td>3</td>\n",
       "      <td>3</td>\n",
       "      <td>['email', 'phone', 'reviews', 'kba']</td>\n",
       "      <td>t</td>\n",
       "      <td>t</td>\n",
       "      <td>Gilman Dr W, Seattle, WA 98119, United States</td>\n",
       "      <td>Queen Anne</td>\n",
       "      <td>West Queen Anne</td>\n",
       "      <td>Queen Anne</td>\n",
       "      <td>Seattle</td>\n",
       "      <td>WA</td>\n",
       "      <td>98119</td>\n",
       "      <td>Seattle</td>\n",
       "      <td>Seattle, WA</td>\n",
       "      <td>US</td>\n",
       "      <td>United States</td>\n",
       "      <td>47.636289038357184</td>\n",
       "      <td>-122.37102519997765</td>\n",
       "      <td>t</td>\n",
       "      <td>Apartment</td>\n",
       "      <td>Entire home/apt</td>\n",
       "      <td>4</td>\n",
       "      <td>1.0</td>\n",
       "      <td>1</td>\n",
       "      <td>1</td>\n",
       "      <td>Real Bed</td>\n",
       "      <td>{TV,\"Cable TV\",Internet,\"Wireless Internet\",\"A...</td>\n",
       "      <td>NaN</td>\n",
       "      <td>$85.00</td>\n",
       "      <td>NaN</td>\n",
       "      <td>NaN</td>\n",
       "      <td>NaN</td>\n",
       "      <td>NaN</td>\n",
       "      <td>2</td>\n",
       "      <td>$5.00</td>\n",
       "      <td>1</td>\n",
       "      <td>365</td>\n",
       "      <td>4 weeks ago</td>\n",
       "      <td>t</td>\n",
       "      <td>14</td>\n",
       "      <td>41</td>\n",
       "      <td>71</td>\n",
       "      <td>346</td>\n",
       "      <td>2016-01-04</td>\n",
       "      <td>207</td>\n",
       "      <td>2011-11-01</td>\n",
       "      <td>2016-01-02</td>\n",
       "      <td>95</td>\n",
       "      <td>10</td>\n",
       "      <td>10</td>\n",
       "      <td>10</td>\n",
       "      <td>10</td>\n",
       "      <td>9</td>\n",
       "      <td>10</td>\n",
       "      <td>f</td>\n",
       "      <td>NaN</td>\n",
       "      <td>WASHINGTON</td>\n",
       "      <td>f</td>\n",
       "      <td>moderate</td>\n",
       "      <td>f</td>\n",
       "      <td>f</td>\n",
       "      <td>2</td>\n",
       "      <td>4.07</td>\n",
       "    </tr>\n",
       "    <tr>\n",
       "      <th>1</th>\n",
       "      <td>953595</td>\n",
       "      <td>https://www.airbnb.com/rooms/953595</td>\n",
       "      <td>20160104002432</td>\n",
       "      <td>2016-01-04</td>\n",
       "      <td>Bright &amp; Airy Queen Anne Apartment</td>\n",
       "      <td>Chemically sensitive? We've removed the irrita...</td>\n",
       "      <td>Beautiful, hypoallergenic apartment in an extr...</td>\n",
       "      <td>Chemically sensitive? We've removed the irrita...</td>\n",
       "      <td>none</td>\n",
       "      <td>Queen Anne is a wonderful, truly functional vi...</td>\n",
       "      <td>What's up with the free pillows?  Our home was...</td>\n",
       "      <td>Convenient bus stops are just down the block, ...</td>\n",
       "      <td>https://a0.muscache.com/ac/pictures/14409893/f...</td>\n",
       "      <td>https://a0.muscache.com/im/pictures/14409893/f...</td>\n",
       "      <td>https://a0.muscache.com/ac/pictures/14409893/f...</td>\n",
       "      <td>https://a0.muscache.com/ac/pictures/14409893/f...</td>\n",
       "      <td>5177328</td>\n",
       "      <td>https://www.airbnb.com/users/show/5177328</td>\n",
       "      <td>Andrea</td>\n",
       "      <td>2013-02-21</td>\n",
       "      <td>Seattle, Washington, United States</td>\n",
       "      <td>Living east coast/left coast/overseas.  Time i...</td>\n",
       "      <td>within an hour</td>\n",
       "      <td>98%</td>\n",
       "      <td>100%</td>\n",
       "      <td>t</td>\n",
       "      <td>https://a0.muscache.com/ac/users/5177328/profi...</td>\n",
       "      <td>https://a0.muscache.com/ac/users/5177328/profi...</td>\n",
       "      <td>Queen Anne</td>\n",
       "      <td>6</td>\n",
       "      <td>6</td>\n",
       "      <td>['email', 'phone', 'facebook', 'linkedin', 're...</td>\n",
       "      <td>t</td>\n",
       "      <td>t</td>\n",
       "      <td>7th Avenue West, Seattle, WA 98119, United States</td>\n",
       "      <td>Queen Anne</td>\n",
       "      <td>West Queen Anne</td>\n",
       "      <td>Queen Anne</td>\n",
       "      <td>Seattle</td>\n",
       "      <td>WA</td>\n",
       "      <td>98119</td>\n",
       "      <td>Seattle</td>\n",
       "      <td>Seattle, WA</td>\n",
       "      <td>US</td>\n",
       "      <td>United States</td>\n",
       "      <td>47.63912312136253</td>\n",
       "      <td>-122.36566646439582</td>\n",
       "      <td>t</td>\n",
       "      <td>Apartment</td>\n",
       "      <td>Entire home/apt</td>\n",
       "      <td>4</td>\n",
       "      <td>1.0</td>\n",
       "      <td>1</td>\n",
       "      <td>1</td>\n",
       "      <td>Real Bed</td>\n",
       "      <td>{TV,Internet,\"Wireless Internet\",Kitchen,\"Free...</td>\n",
       "      <td>NaN</td>\n",
       "      <td>$150.00</td>\n",
       "      <td>$1,000.00</td>\n",
       "      <td>$3,000.00</td>\n",
       "      <td>$100.00</td>\n",
       "      <td>$40.00</td>\n",
       "      <td>1</td>\n",
       "      <td>$0.00</td>\n",
       "      <td>2</td>\n",
       "      <td>90</td>\n",
       "      <td>today</td>\n",
       "      <td>t</td>\n",
       "      <td>13</td>\n",
       "      <td>13</td>\n",
       "      <td>16</td>\n",
       "      <td>291</td>\n",
       "      <td>2016-01-04</td>\n",
       "      <td>43</td>\n",
       "      <td>2013-08-19</td>\n",
       "      <td>2015-12-29</td>\n",
       "      <td>96</td>\n",
       "      <td>10</td>\n",
       "      <td>10</td>\n",
       "      <td>10</td>\n",
       "      <td>10</td>\n",
       "      <td>10</td>\n",
       "      <td>10</td>\n",
       "      <td>f</td>\n",
       "      <td>NaN</td>\n",
       "      <td>WASHINGTON</td>\n",
       "      <td>f</td>\n",
       "      <td>strict</td>\n",
       "      <td>t</td>\n",
       "      <td>t</td>\n",
       "      <td>6</td>\n",
       "      <td>1.48</td>\n",
       "    </tr>\n",
       "  </tbody>\n",
       "</table>\n",
       "</div>"
      ],
      "text/plain": [
       "       id                          listing_url       scrape_id last_scraped  \\\n",
       "0  241032  https://www.airbnb.com/rooms/241032  20160104002432   2016-01-04   \n",
       "1  953595  https://www.airbnb.com/rooms/953595  20160104002432   2016-01-04   \n",
       "\n",
       "                                 name  \\\n",
       "0        Stylish Queen Anne Apartment   \n",
       "1  Bright & Airy Queen Anne Apartment   \n",
       "\n",
       "                                             summary  \\\n",
       "0                                                NaN   \n",
       "1  Chemically sensitive? We've removed the irrita...   \n",
       "\n",
       "                                               space  \\\n",
       "0  Make your self at home in this charming one-be...   \n",
       "1  Beautiful, hypoallergenic apartment in an extr...   \n",
       "\n",
       "                                         description experiences_offered  \\\n",
       "0  Make your self at home in this charming one-be...                none   \n",
       "1  Chemically sensitive? We've removed the irrita...                none   \n",
       "\n",
       "                               neighborhood_overview  \\\n",
       "0                                                NaN   \n",
       "1  Queen Anne is a wonderful, truly functional vi...   \n",
       "\n",
       "                                               notes  \\\n",
       "0                                                NaN   \n",
       "1  What's up with the free pillows?  Our home was...   \n",
       "\n",
       "                                             transit  \\\n",
       "0                                                NaN   \n",
       "1  Convenient bus stops are just down the block, ...   \n",
       "\n",
       "                                       thumbnail_url  \\\n",
       "0                                                NaN   \n",
       "1  https://a0.muscache.com/ac/pictures/14409893/f...   \n",
       "\n",
       "                                          medium_url  \\\n",
       "0                                                NaN   \n",
       "1  https://a0.muscache.com/im/pictures/14409893/f...   \n",
       "\n",
       "                                         picture_url  \\\n",
       "0  https://a1.muscache.com/ac/pictures/67560560/c...   \n",
       "1  https://a0.muscache.com/ac/pictures/14409893/f...   \n",
       "\n",
       "                                      xl_picture_url  host_id  \\\n",
       "0                                                NaN   956883   \n",
       "1  https://a0.muscache.com/ac/pictures/14409893/f...  5177328   \n",
       "\n",
       "                                    host_url host_name  host_since  \\\n",
       "0   https://www.airbnb.com/users/show/956883     Maija  2011-08-11   \n",
       "1  https://www.airbnb.com/users/show/5177328    Andrea  2013-02-21   \n",
       "\n",
       "                        host_location  \\\n",
       "0  Seattle, Washington, United States   \n",
       "1  Seattle, Washington, United States   \n",
       "\n",
       "                                          host_about  host_response_time  \\\n",
       "0  I am an artist, interior designer, and run a s...  within a few hours   \n",
       "1  Living east coast/left coast/overseas.  Time i...      within an hour   \n",
       "\n",
       "  host_response_rate host_acceptance_rate host_is_superhost  \\\n",
       "0                96%                 100%                 f   \n",
       "1                98%                 100%                 t   \n",
       "\n",
       "                                  host_thumbnail_url  \\\n",
       "0  https://a0.muscache.com/ac/users/956883/profil...   \n",
       "1  https://a0.muscache.com/ac/users/5177328/profi...   \n",
       "\n",
       "                                    host_picture_url host_neighbourhood  \\\n",
       "0  https://a0.muscache.com/ac/users/956883/profil...         Queen Anne   \n",
       "1  https://a0.muscache.com/ac/users/5177328/profi...         Queen Anne   \n",
       "\n",
       "  host_listings_count host_total_listings_count  \\\n",
       "0                   3                         3   \n",
       "1                   6                         6   \n",
       "\n",
       "                                  host_verifications host_has_profile_pic  \\\n",
       "0               ['email', 'phone', 'reviews', 'kba']                    t   \n",
       "1  ['email', 'phone', 'facebook', 'linkedin', 're...                    t   \n",
       "\n",
       "  host_identity_verified                                             street  \\\n",
       "0                      t      Gilman Dr W, Seattle, WA 98119, United States   \n",
       "1                      t  7th Avenue West, Seattle, WA 98119, United States   \n",
       "\n",
       "  neighbourhood neighbourhood_cleansed neighbourhood_group_cleansed     city  \\\n",
       "0    Queen Anne        West Queen Anne                   Queen Anne  Seattle   \n",
       "1    Queen Anne        West Queen Anne                   Queen Anne  Seattle   \n",
       "\n",
       "  state zipcode   market smart_location country_code        country  \\\n",
       "0    WA   98119  Seattle    Seattle, WA           US  United States   \n",
       "1    WA   98119  Seattle    Seattle, WA           US  United States   \n",
       "\n",
       "             latitude            longitude is_location_exact property_type  \\\n",
       "0  47.636289038357184  -122.37102519997765                 t     Apartment   \n",
       "1   47.63912312136253  -122.36566646439582                 t     Apartment   \n",
       "\n",
       "         room_type accommodates bathrooms bedrooms beds  bed_type  \\\n",
       "0  Entire home/apt            4       1.0        1    1  Real Bed   \n",
       "1  Entire home/apt            4       1.0        1    1  Real Bed   \n",
       "\n",
       "                                           amenities square_feet    price  \\\n",
       "0  {TV,\"Cable TV\",Internet,\"Wireless Internet\",\"A...         NaN   $85.00   \n",
       "1  {TV,Internet,\"Wireless Internet\",Kitchen,\"Free...         NaN  $150.00   \n",
       "\n",
       "  weekly_price monthly_price security_deposit cleaning_fee guests_included  \\\n",
       "0          NaN           NaN              NaN          NaN               2   \n",
       "1    $1,000.00     $3,000.00          $100.00       $40.00               1   \n",
       "\n",
       "  extra_people minimum_nights maximum_nights calendar_updated  \\\n",
       "0        $5.00              1            365      4 weeks ago   \n",
       "1        $0.00              2             90            today   \n",
       "\n",
       "  has_availability availability_30 availability_60 availability_90  \\\n",
       "0                t              14              41              71   \n",
       "1                t              13              13              16   \n",
       "\n",
       "  availability_365 calendar_last_scraped number_of_reviews first_review  \\\n",
       "0              346            2016-01-04               207   2011-11-01   \n",
       "1              291            2016-01-04                43   2013-08-19   \n",
       "\n",
       "  last_review review_scores_rating review_scores_accuracy  \\\n",
       "0  2016-01-02                   95                     10   \n",
       "1  2015-12-29                   96                     10   \n",
       "\n",
       "  review_scores_cleanliness review_scores_checkin review_scores_communication  \\\n",
       "0                        10                    10                          10   \n",
       "1                        10                    10                          10   \n",
       "\n",
       "  review_scores_location review_scores_value requires_license license  \\\n",
       "0                      9                  10                f     NaN   \n",
       "1                     10                  10                f     NaN   \n",
       "\n",
       "  jurisdiction_names instant_bookable cancellation_policy  \\\n",
       "0         WASHINGTON                f            moderate   \n",
       "1         WASHINGTON                f              strict   \n",
       "\n",
       "  require_guest_profile_picture require_guest_phone_verification  \\\n",
       "0                             f                                f   \n",
       "1                             t                                t   \n",
       "\n",
       "  calculated_host_listings_count reviews_per_month  \n",
       "0                              2              4.07  \n",
       "1                              6              1.48  "
      ]
     },
     "execution_count": 3,
     "metadata": {},
     "output_type": "execute_result"
    }
   ],
   "source": [
    "print(listing_df.shape)\n",
    "listing_df.head(2)"
   ]
  },
  {
   "cell_type": "code",
   "execution_count": 4,
   "metadata": {
    "ExecuteTime": {
     "end_time": "2020-06-15T23:33:58.262946Z",
     "start_time": "2020-06-15T23:33:58.253970Z"
    }
   },
   "outputs": [
    {
     "data": {
      "text/plain": [
       "(3818, 18)"
      ]
     },
     "execution_count": 4,
     "metadata": {},
     "output_type": "execute_result"
    }
   ],
   "source": [
    "#Subset to the columns needed to answer the questions\n",
    "new_df = listing_df[['id','host_response_time', 'host_response_rate', \n",
    "                    'price', 'guests_included', 'extra_people', 'minimum_nights',\n",
    "                    'number_of_reviews','review_scores_rating', 'review_scores_cleanliness', 'review_scores_checkin',\n",
    "                    'review_scores_communication', 'review_scores_location', 'review_scores_value', 'reviews_per_month',\n",
    "                    'cancellation_policy', 'host_is_superhost', 'property_type']]\n",
    "new_df.shape"
   ]
  },
  {
   "cell_type": "code",
   "execution_count": 5,
   "metadata": {
    "ExecuteTime": {
     "end_time": "2020-06-15T23:33:58.270924Z",
     "start_time": "2020-06-15T23:33:58.263975Z"
    }
   },
   "outputs": [
    {
     "data": {
      "text/plain": [
       "3818"
      ]
     },
     "execution_count": 5,
     "metadata": {},
     "output_type": "execute_result"
    }
   ],
   "source": [
    "new_df['id'].nunique()"
   ]
  },
  {
   "cell_type": "markdown",
   "metadata": {},
   "source": [
    "### Review Data"
   ]
  },
  {
   "cell_type": "code",
   "execution_count": 6,
   "metadata": {
    "ExecuteTime": {
     "end_time": "2020-06-15T23:33:58.281895Z",
     "start_time": "2020-06-15T23:33:58.271950Z"
    }
   },
   "outputs": [
    {
     "data": {
      "text/html": [
       "<div>\n",
       "<style scoped>\n",
       "    .dataframe tbody tr th:only-of-type {\n",
       "        vertical-align: middle;\n",
       "    }\n",
       "\n",
       "    .dataframe tbody tr th {\n",
       "        vertical-align: top;\n",
       "    }\n",
       "\n",
       "    .dataframe thead th {\n",
       "        text-align: right;\n",
       "    }\n",
       "</style>\n",
       "<table border=\"1\" class=\"dataframe\">\n",
       "  <thead>\n",
       "    <tr style=\"text-align: right;\">\n",
       "      <th></th>\n",
       "      <th>listing_id</th>\n",
       "      <th>id</th>\n",
       "      <th>date</th>\n",
       "      <th>reviewer_id</th>\n",
       "      <th>reviewer_name</th>\n",
       "      <th>comments</th>\n",
       "    </tr>\n",
       "  </thead>\n",
       "  <tbody>\n",
       "    <tr>\n",
       "      <th>0</th>\n",
       "      <td>7202016</td>\n",
       "      <td>38917982</td>\n",
       "      <td>2015-07-19</td>\n",
       "      <td>28943674</td>\n",
       "      <td>Bianca</td>\n",
       "      <td>Cute and cozy place. Perfect location to every...</td>\n",
       "    </tr>\n",
       "    <tr>\n",
       "      <th>1</th>\n",
       "      <td>7202016</td>\n",
       "      <td>39087409</td>\n",
       "      <td>2015-07-20</td>\n",
       "      <td>32440555</td>\n",
       "      <td>Frank</td>\n",
       "      <td>Kelly has a great room in a very central locat...</td>\n",
       "    </tr>\n",
       "  </tbody>\n",
       "</table>\n",
       "</div>"
      ],
      "text/plain": [
       "  listing_id        id        date reviewer_id reviewer_name  \\\n",
       "0    7202016  38917982  2015-07-19    28943674        Bianca   \n",
       "1    7202016  39087409  2015-07-20    32440555         Frank   \n",
       "\n",
       "                                            comments  \n",
       "0  Cute and cozy place. Perfect location to every...  \n",
       "1  Kelly has a great room in a very central locat...  "
      ]
     },
     "execution_count": 6,
     "metadata": {},
     "output_type": "execute_result"
    }
   ],
   "source": [
    "reviews_df.head(2)"
   ]
  },
  {
   "cell_type": "code",
   "execution_count": 7,
   "metadata": {
    "ExecuteTime": {
     "end_time": "2020-06-15T23:33:58.307657Z",
     "start_time": "2020-06-15T23:33:58.283889Z"
    }
   },
   "outputs": [
    {
     "data": {
      "text/html": [
       "<div>\n",
       "<style scoped>\n",
       "    .dataframe tbody tr th:only-of-type {\n",
       "        vertical-align: middle;\n",
       "    }\n",
       "\n",
       "    .dataframe tbody tr th {\n",
       "        vertical-align: top;\n",
       "    }\n",
       "\n",
       "    .dataframe thead th {\n",
       "        text-align: right;\n",
       "    }\n",
       "</style>\n",
       "<table border=\"1\" class=\"dataframe\">\n",
       "  <thead>\n",
       "    <tr style=\"text-align: right;\">\n",
       "      <th></th>\n",
       "      <th>Reviewers_Count</th>\n",
       "    </tr>\n",
       "    <tr>\n",
       "      <th>listing_id</th>\n",
       "      <th></th>\n",
       "    </tr>\n",
       "  </thead>\n",
       "  <tbody>\n",
       "    <tr>\n",
       "      <th>1000883</th>\n",
       "      <td>18</td>\n",
       "    </tr>\n",
       "    <tr>\n",
       "      <th>10012724</th>\n",
       "      <td>2</td>\n",
       "    </tr>\n",
       "    <tr>\n",
       "      <th>10020221</th>\n",
       "      <td>1</td>\n",
       "    </tr>\n",
       "    <tr>\n",
       "      <th>1002835</th>\n",
       "      <td>6</td>\n",
       "    </tr>\n",
       "    <tr>\n",
       "      <th>1003890</th>\n",
       "      <td>72</td>\n",
       "    </tr>\n",
       "  </tbody>\n",
       "</table>\n",
       "</div>"
      ],
      "text/plain": [
       "            Reviewers_Count\n",
       "listing_id                 \n",
       "1000883                  18\n",
       "10012724                  2\n",
       "10020221                  1\n",
       "1002835                   6\n",
       "1003890                  72"
      ]
     },
     "execution_count": 7,
     "metadata": {},
     "output_type": "execute_result"
    }
   ],
   "source": [
    "#Get number of reviewers per listing\n",
    "Reviewers_count_df = pd.DataFrame(reviews_df.groupby('listing_id')['reviewer_id'].count())\n",
    "\n",
    "Reviewers_count_df.rename(columns={\"reviewer_id\": \"Reviewers_Count\"}, inplace=True)\n",
    "\n",
    "Reviewers_count_df.head()"
   ]
  },
  {
   "cell_type": "code",
   "execution_count": 8,
   "metadata": {
    "ExecuteTime": {
     "end_time": "2020-06-15T23:33:58.321650Z",
     "start_time": "2020-06-15T23:33:58.308654Z"
    }
   },
   "outputs": [
    {
     "data": {
      "text/html": [
       "<div>\n",
       "<style scoped>\n",
       "    .dataframe tbody tr th:only-of-type {\n",
       "        vertical-align: middle;\n",
       "    }\n",
       "\n",
       "    .dataframe tbody tr th {\n",
       "        vertical-align: top;\n",
       "    }\n",
       "\n",
       "    .dataframe thead th {\n",
       "        text-align: right;\n",
       "    }\n",
       "</style>\n",
       "<table border=\"1\" class=\"dataframe\">\n",
       "  <thead>\n",
       "    <tr style=\"text-align: right;\">\n",
       "      <th></th>\n",
       "      <th>Reviewers_Count</th>\n",
       "    </tr>\n",
       "  </thead>\n",
       "  <tbody>\n",
       "    <tr>\n",
       "      <th>count</th>\n",
       "      <td>3191.000000</td>\n",
       "    </tr>\n",
       "    <tr>\n",
       "      <th>mean</th>\n",
       "      <td>26.590097</td>\n",
       "    </tr>\n",
       "    <tr>\n",
       "      <th>std</th>\n",
       "      <td>39.840788</td>\n",
       "    </tr>\n",
       "    <tr>\n",
       "      <th>min</th>\n",
       "      <td>1.000000</td>\n",
       "    </tr>\n",
       "    <tr>\n",
       "      <th>25%</th>\n",
       "      <td>4.000000</td>\n",
       "    </tr>\n",
       "    <tr>\n",
       "      <th>50%</th>\n",
       "      <td>13.000000</td>\n",
       "    </tr>\n",
       "    <tr>\n",
       "      <th>75%</th>\n",
       "      <td>31.000000</td>\n",
       "    </tr>\n",
       "    <tr>\n",
       "      <th>max</th>\n",
       "      <td>474.000000</td>\n",
       "    </tr>\n",
       "  </tbody>\n",
       "</table>\n",
       "</div>"
      ],
      "text/plain": [
       "       Reviewers_Count\n",
       "count      3191.000000\n",
       "mean         26.590097\n",
       "std          39.840788\n",
       "min           1.000000\n",
       "25%           4.000000\n",
       "50%          13.000000\n",
       "75%          31.000000\n",
       "max         474.000000"
      ]
     },
     "execution_count": 8,
     "metadata": {},
     "output_type": "execute_result"
    }
   ],
   "source": [
    "Reviewers_count_df.describe()"
   ]
  },
  {
   "cell_type": "code",
   "execution_count": 9,
   "metadata": {
    "ExecuteTime": {
     "end_time": "2020-06-15T23:33:58.529398Z",
     "start_time": "2020-06-15T23:33:58.324611Z"
    }
   },
   "outputs": [
    {
     "data": {
      "image/png": "[encoded data removed]",
      "text/plain": [
       "<Figure size 432x288 with 1 Axes>"
      ]
     },
     "metadata": {
      "needs_background": "light"
     },
     "output_type": "display_data"
    }
   ],
   "source": [
    "Reviewers_count_df.hist();"
   ]
  },
  {
   "cell_type": "markdown",
   "metadata": {},
   "source": [
    "Most of the listing have between 0 to 50 reviewers."
   ]
  },
  {
   "cell_type": "markdown",
   "metadata": {},
   "source": [
    "### Calendar Data"
   ]
  },
  {
   "cell_type": "code",
   "execution_count": 10,
   "metadata": {
    "ExecuteTime": {
     "end_time": "2020-06-15T23:33:58.589683Z",
     "start_time": "2020-06-15T23:33:58.531393Z"
    }
   },
   "outputs": [
    {
     "data": {
      "text/plain": [
       "3818"
      ]
     },
     "execution_count": 10,
     "metadata": {},
     "output_type": "execute_result"
    }
   ],
   "source": [
    "#Check unique listings\n",
    "calendar_df['listing_id'].nunique()"
   ]
  },
  {
   "cell_type": "code",
   "execution_count": 11,
   "metadata": {
    "ExecuteTime": {
     "end_time": "2020-06-15T23:33:58.595666Z",
     "start_time": "2020-06-15T23:33:58.590714Z"
    }
   },
   "outputs": [
    {
     "data": {
      "text/plain": [
       "(1393570, 4)"
      ]
     },
     "execution_count": 11,
     "metadata": {},
     "output_type": "execute_result"
    }
   ],
   "source": [
    "calendar_df.shape"
   ]
  },
  {
   "cell_type": "markdown",
   "metadata": {},
   "source": [
    "#### Median Price per listing"
   ]
  },
  {
   "cell_type": "markdown",
   "metadata": {},
   "source": [
    "I will get the median price per listing as a price benchmark for the analysis"
   ]
  },
  {
   "cell_type": "code",
   "execution_count": 12,
   "metadata": {
    "ExecuteTime": {
     "end_time": "2020-06-15T23:34:00.372874Z",
     "start_time": "2020-06-15T23:33:58.597662Z"
    }
   },
   "outputs": [
    {
     "name": "stdout",
     "output_type": "stream",
     "text": [
      "(934542, 5)\n"
     ]
    },
    {
     "data": {
      "text/html": [
       "<div>\n",
       "<style scoped>\n",
       "    .dataframe tbody tr th:only-of-type {\n",
       "        vertical-align: middle;\n",
       "    }\n",
       "\n",
       "    .dataframe tbody tr th {\n",
       "        vertical-align: top;\n",
       "    }\n",
       "\n",
       "    .dataframe thead th {\n",
       "        text-align: right;\n",
       "    }\n",
       "</style>\n",
       "<table border=\"1\" class=\"dataframe\">\n",
       "  <thead>\n",
       "    <tr style=\"text-align: right;\">\n",
       "      <th></th>\n",
       "      <th>listing_id</th>\n",
       "      <th>date</th>\n",
       "      <th>available</th>\n",
       "      <th>price</th>\n",
       "      <th>price_float</th>\n",
       "    </tr>\n",
       "  </thead>\n",
       "  <tbody>\n",
       "    <tr>\n",
       "      <th>0</th>\n",
       "      <td>241032</td>\n",
       "      <td>2016-01-04</td>\n",
       "      <td>t</td>\n",
       "      <td>$85.00</td>\n",
       "      <td>85.0</td>\n",
       "    </tr>\n",
       "    <tr>\n",
       "      <th>1</th>\n",
       "      <td>241032</td>\n",
       "      <td>2016-01-05</td>\n",
       "      <td>t</td>\n",
       "      <td>$85.00</td>\n",
       "      <td>85.0</td>\n",
       "    </tr>\n",
       "  </tbody>\n",
       "</table>\n",
       "</div>"
      ],
      "text/plain": [
       "  listing_id        date available   price  price_float\n",
       "0     241032  2016-01-04         t  $85.00         85.0\n",
       "1     241032  2016-01-05         t  $85.00         85.0"
      ]
     },
     "execution_count": 12,
     "metadata": {},
     "output_type": "execute_result"
    }
   ],
   "source": [
    "#Choose only the available listings\n",
    "available_listings = calendar_df[calendar_df['available']== 't']\n",
    "\n",
    "#Changing currency to float\n",
    "from re import sub\n",
    "from decimal import Decimal\n",
    "\n",
    "available_listings['price_float'] = available_listings['price'].apply(lambda x: float(Decimal(sub(r'[^\\d.]', '', x))))\n",
    "\n",
    "\n",
    "print(available_listings.shape)\n",
    "available_listings.head(2)"
   ]
  },
  {
   "cell_type": "code",
   "execution_count": 13,
   "metadata": {
    "ExecuteTime": {
     "end_time": "2020-06-15T23:34:00.538173Z",
     "start_time": "2020-06-15T23:34:00.374811Z"
    }
   },
   "outputs": [
    {
     "data": {
      "text/plain": [
       "<matplotlib.axes._subplots.AxesSubplot at 0x1f9a4a30a48>"
      ]
     },
     "execution_count": 13,
     "metadata": {},
     "output_type": "execute_result"
    },
    {
     "data": {
      "image/png": "[encoded data removed]",
      "text/plain": [
       "<Figure size 432x288 with 1 Axes>"
      ]
     },
     "metadata": {
      "needs_background": "light"
     },
     "output_type": "display_data"
    }
   ],
   "source": [
    "available_listings['price_float'].hist()"
   ]
  },
  {
   "cell_type": "code",
   "execution_count": 14,
   "metadata": {
    "ExecuteTime": {
     "end_time": "2020-06-15T23:34:00.676065Z",
     "start_time": "2020-06-15T23:34:00.540167Z"
    }
   },
   "outputs": [
    {
     "name": "stdout",
     "output_type": "stream",
     "text": [
      "(3723, 1)\n"
     ]
    },
    {
     "data": {
      "text/html": [
       "<div>\n",
       "<style scoped>\n",
       "    .dataframe tbody tr th:only-of-type {\n",
       "        vertical-align: middle;\n",
       "    }\n",
       "\n",
       "    .dataframe tbody tr th {\n",
       "        vertical-align: top;\n",
       "    }\n",
       "\n",
       "    .dataframe thead th {\n",
       "        text-align: right;\n",
       "    }\n",
       "</style>\n",
       "<table border=\"1\" class=\"dataframe\">\n",
       "  <thead>\n",
       "    <tr style=\"text-align: right;\">\n",
       "      <th></th>\n",
       "      <th>median</th>\n",
       "    </tr>\n",
       "    <tr>\n",
       "      <th>listing_id</th>\n",
       "      <th></th>\n",
       "    </tr>\n",
       "  </thead>\n",
       "  <tbody>\n",
       "    <tr>\n",
       "      <th>10000273</th>\n",
       "      <td>175.0</td>\n",
       "    </tr>\n",
       "    <tr>\n",
       "      <th>1000883</th>\n",
       "      <td>100.0</td>\n",
       "    </tr>\n",
       "  </tbody>\n",
       "</table>\n",
       "</div>"
      ],
      "text/plain": [
       "            median\n",
       "listing_id        \n",
       "10000273     175.0\n",
       "1000883      100.0"
      ]
     },
     "execution_count": 14,
     "metadata": {},
     "output_type": "execute_result"
    }
   ],
   "source": [
    "#Get the mean and median price for every listing id\n",
    "mean_median_df = available_listings.groupby('listing_id').agg({'price_float': ['median']})\n",
    "\n",
    "#Flatten the hierarchical columns\n",
    "mean_median_df.columns = mean_median_df.columns.get_level_values(1)\n",
    "\n",
    "print(mean_median_df.shape)\n",
    "\n",
    "mean_median_df.head(2)"
   ]
  },
  {
   "cell_type": "code",
   "execution_count": 15,
   "metadata": {
    "ExecuteTime": {
     "end_time": "2020-06-15T23:34:00.691986Z",
     "start_time": "2020-06-15T23:34:00.677025Z"
    }
   },
   "outputs": [
    {
     "name": "stdout",
     "output_type": "stream",
     "text": [
      "(3121, 2)\n"
     ]
    },
    {
     "data": {
      "text/html": [
       "<div>\n",
       "<style scoped>\n",
       "    .dataframe tbody tr th:only-of-type {\n",
       "        vertical-align: middle;\n",
       "    }\n",
       "\n",
       "    .dataframe tbody tr th {\n",
       "        vertical-align: top;\n",
       "    }\n",
       "\n",
       "    .dataframe thead th {\n",
       "        text-align: right;\n",
       "    }\n",
       "</style>\n",
       "<table border=\"1\" class=\"dataframe\">\n",
       "  <thead>\n",
       "    <tr style=\"text-align: right;\">\n",
       "      <th></th>\n",
       "      <th>Reviewers_Count</th>\n",
       "      <th>Median_Price</th>\n",
       "    </tr>\n",
       "    <tr>\n",
       "      <th>listing_id</th>\n",
       "      <th></th>\n",
       "      <th></th>\n",
       "    </tr>\n",
       "  </thead>\n",
       "  <tbody>\n",
       "    <tr>\n",
       "      <th>1000883</th>\n",
       "      <td>18</td>\n",
       "      <td>100.0</td>\n",
       "    </tr>\n",
       "    <tr>\n",
       "      <th>10012724</th>\n",
       "      <td>2</td>\n",
       "      <td>25.0</td>\n",
       "    </tr>\n",
       "  </tbody>\n",
       "</table>\n",
       "</div>"
      ],
      "text/plain": [
       "            Reviewers_Count  Median_Price\n",
       "listing_id                               \n",
       "1000883                  18         100.0\n",
       "10012724                  2          25.0"
      ]
     },
     "execution_count": 15,
     "metadata": {},
     "output_type": "execute_result"
    }
   ],
   "source": [
    "#Merge reviewers count and median price dataframes\n",
    "merged_df = Reviewers_count_df.merge(mean_median_df, left_index=True, right_index=True)\n",
    "\n",
    "#Rename the median column\n",
    "merged_df.rename(columns = {'median': 'Median_Price'}, inplace=True)\n",
    "print(merged_df.shape)\n",
    "merged_df.head(2)"
   ]
  },
  {
   "cell_type": "code",
   "execution_count": 16,
   "metadata": {
    "ExecuteTime": {
     "end_time": "2020-06-15T23:34:00.714977Z",
     "start_time": "2020-06-15T23:34:00.693981Z"
    }
   },
   "outputs": [
    {
     "data": {
      "text/html": [
       "<div>\n",
       "<style scoped>\n",
       "    .dataframe tbody tr th:only-of-type {\n",
       "        vertical-align: middle;\n",
       "    }\n",
       "\n",
       "    .dataframe tbody tr th {\n",
       "        vertical-align: top;\n",
       "    }\n",
       "\n",
       "    .dataframe thead th {\n",
       "        text-align: right;\n",
       "    }\n",
       "</style>\n",
       "<table border=\"1\" class=\"dataframe\">\n",
       "  <thead>\n",
       "    <tr style=\"text-align: right;\">\n",
       "      <th></th>\n",
       "      <th>Reviewers_Count</th>\n",
       "      <th>Median_Price</th>\n",
       "      <th>host_response_time</th>\n",
       "      <th>host_response_rate</th>\n",
       "      <th>price</th>\n",
       "      <th>guests_included</th>\n",
       "      <th>extra_people</th>\n",
       "      <th>minimum_nights</th>\n",
       "      <th>number_of_reviews</th>\n",
       "      <th>review_scores_rating</th>\n",
       "      <th>review_scores_cleanliness</th>\n",
       "      <th>review_scores_checkin</th>\n",
       "      <th>review_scores_communication</th>\n",
       "      <th>review_scores_location</th>\n",
       "      <th>review_scores_value</th>\n",
       "      <th>reviews_per_month</th>\n",
       "      <th>cancellation_policy</th>\n",
       "      <th>host_is_superhost</th>\n",
       "      <th>property_type</th>\n",
       "    </tr>\n",
       "  </thead>\n",
       "  <tbody>\n",
       "    <tr>\n",
       "      <th>1000883</th>\n",
       "      <td>18</td>\n",
       "      <td>100.0</td>\n",
       "      <td>within a few hours</td>\n",
       "      <td>86%</td>\n",
       "      <td>$100.00</td>\n",
       "      <td>3</td>\n",
       "      <td>$0.00</td>\n",
       "      <td>2</td>\n",
       "      <td>18</td>\n",
       "      <td>99</td>\n",
       "      <td>10</td>\n",
       "      <td>10</td>\n",
       "      <td>10</td>\n",
       "      <td>10</td>\n",
       "      <td>10</td>\n",
       "      <td>0.59</td>\n",
       "      <td>moderate</td>\n",
       "      <td>f</td>\n",
       "      <td>House</td>\n",
       "    </tr>\n",
       "    <tr>\n",
       "      <th>10012724</th>\n",
       "      <td>2</td>\n",
       "      <td>25.0</td>\n",
       "      <td>within an hour</td>\n",
       "      <td>100%</td>\n",
       "      <td>$25.00</td>\n",
       "      <td>1</td>\n",
       "      <td>$0.00</td>\n",
       "      <td>1</td>\n",
       "      <td>2</td>\n",
       "      <td>100</td>\n",
       "      <td>10</td>\n",
       "      <td>10</td>\n",
       "      <td>10</td>\n",
       "      <td>10</td>\n",
       "      <td>10</td>\n",
       "      <td>2</td>\n",
       "      <td>flexible</td>\n",
       "      <td>f</td>\n",
       "      <td>Apartment</td>\n",
       "    </tr>\n",
       "  </tbody>\n",
       "</table>\n",
       "</div>"
      ],
      "text/plain": [
       "          Reviewers_Count  Median_Price  host_response_time  \\\n",
       "1000883                18         100.0  within a few hours   \n",
       "10012724                2          25.0      within an hour   \n",
       "\n",
       "         host_response_rate    price guests_included extra_people  \\\n",
       "1000883                 86%  $100.00               3        $0.00   \n",
       "10012724               100%   $25.00               1        $0.00   \n",
       "\n",
       "         minimum_nights number_of_reviews review_scores_rating  \\\n",
       "1000883               2                18                   99   \n",
       "10012724              1                 2                  100   \n",
       "\n",
       "         review_scores_cleanliness review_scores_checkin  \\\n",
       "1000883                         10                    10   \n",
       "10012724                        10                    10   \n",
       "\n",
       "         review_scores_communication review_scores_location  \\\n",
       "1000883                           10                     10   \n",
       "10012724                          10                     10   \n",
       "\n",
       "         review_scores_value reviews_per_month cancellation_policy  \\\n",
       "1000883                   10              0.59            moderate   \n",
       "10012724                  10                 2            flexible   \n",
       "\n",
       "         host_is_superhost property_type  \n",
       "1000883                  f         House  \n",
       "10012724                 f     Apartment  "
      ]
     },
     "execution_count": 16,
     "metadata": {},
     "output_type": "execute_result"
    }
   ],
   "source": [
    "#Merge listing dataframe with the median price and reviewer count dataframe\n",
    "new_df.set_index('id', inplace=True)\n",
    "new_df_final = merged_df.merge(new_df, right_index=True, left_index=True)\n",
    "new_df_final.head(2)"
   ]
  },
  {
   "cell_type": "markdown",
   "metadata": {},
   "source": [
    "Since I will be using Host response time as a measure of quality, I will remove related null records"
   ]
  },
  {
   "cell_type": "code",
   "execution_count": 17,
   "metadata": {
    "ExecuteTime": {
     "end_time": "2020-06-15T23:34:00.726907Z",
     "start_time": "2020-06-15T23:34:00.716920Z"
    }
   },
   "outputs": [
    {
     "data": {
      "text/plain": [
       "(2831, 19)"
      ]
     },
     "execution_count": 17,
     "metadata": {},
     "output_type": "execute_result"
    }
   ],
   "source": [
    "last_df = new_df_final.dropna(subset=['host_response_time'])\n",
    "last_df.shape"
   ]
  },
  {
   "cell_type": "markdown",
   "metadata": {},
   "source": [
    "Subsetting the dataframe and retaining only listings that had more than 5 different reviewers"
   ]
  },
  {
   "cell_type": "code",
   "execution_count": 18,
   "metadata": {
    "ExecuteTime": {
     "end_time": "2020-06-15T23:34:00.739857Z",
     "start_time": "2020-06-15T23:34:00.729885Z"
    }
   },
   "outputs": [
    {
     "name": "stdout",
     "output_type": "stream",
     "text": [
      "(3121, 19)\n",
      "(2051, 19)\n"
     ]
    }
   ],
   "source": [
    "print(new_df_final.shape)\n",
    "Clean_df = last_df[last_df['Reviewers_Count']>5]\n",
    "print(Clean_df.shape)"
   ]
  },
  {
   "cell_type": "code",
   "execution_count": 19,
   "metadata": {
    "ExecuteTime": {
     "end_time": "2020-06-15T23:34:00.782796Z",
     "start_time": "2020-06-15T23:34:00.741889Z"
    }
   },
   "outputs": [
    {
     "data": {
      "text/html": [
       "<div>\n",
       "<style scoped>\n",
       "    .dataframe tbody tr th:only-of-type {\n",
       "        vertical-align: middle;\n",
       "    }\n",
       "\n",
       "    .dataframe tbody tr th {\n",
       "        vertical-align: top;\n",
       "    }\n",
       "\n",
       "    .dataframe thead th {\n",
       "        text-align: right;\n",
       "    }\n",
       "</style>\n",
       "<table border=\"1\" class=\"dataframe\">\n",
       "  <thead>\n",
       "    <tr style=\"text-align: right;\">\n",
       "      <th></th>\n",
       "      <th>Reviewers_Count</th>\n",
       "      <th>Median_Price</th>\n",
       "      <th>host_response_time</th>\n",
       "      <th>host_response_rate</th>\n",
       "      <th>price</th>\n",
       "      <th>guests_included</th>\n",
       "      <th>extra_people</th>\n",
       "      <th>minimum_nights</th>\n",
       "      <th>number_of_reviews</th>\n",
       "      <th>review_scores_rating</th>\n",
       "      <th>review_scores_cleanliness</th>\n",
       "      <th>review_scores_checkin</th>\n",
       "      <th>review_scores_communication</th>\n",
       "      <th>review_scores_location</th>\n",
       "      <th>review_scores_value</th>\n",
       "      <th>reviews_per_month</th>\n",
       "      <th>cancellation_policy</th>\n",
       "      <th>host_is_superhost</th>\n",
       "      <th>property_type</th>\n",
       "    </tr>\n",
       "  </thead>\n",
       "  <tbody>\n",
       "    <tr>\n",
       "      <th>1000883</th>\n",
       "      <td>18.0</td>\n",
       "      <td>100.0</td>\n",
       "      <td>within a few hours</td>\n",
       "      <td>86.0</td>\n",
       "      <td>100.0</td>\n",
       "      <td>3.0</td>\n",
       "      <td>0.0</td>\n",
       "      <td>2.0</td>\n",
       "      <td>18.0</td>\n",
       "      <td>99.0</td>\n",
       "      <td>10.0</td>\n",
       "      <td>10.0</td>\n",
       "      <td>10.0</td>\n",
       "      <td>10.0</td>\n",
       "      <td>10.0</td>\n",
       "      <td>0.59</td>\n",
       "      <td>moderate</td>\n",
       "      <td>f</td>\n",
       "      <td>House</td>\n",
       "    </tr>\n",
       "    <tr>\n",
       "      <th>1002835</th>\n",
       "      <td>6.0</td>\n",
       "      <td>135.0</td>\n",
       "      <td>within a day</td>\n",
       "      <td>70.0</td>\n",
       "      <td>135.0</td>\n",
       "      <td>4.0</td>\n",
       "      <td>20.0</td>\n",
       "      <td>2.0</td>\n",
       "      <td>6.0</td>\n",
       "      <td>80.0</td>\n",
       "      <td>8.0</td>\n",
       "      <td>7.0</td>\n",
       "      <td>8.0</td>\n",
       "      <td>10.0</td>\n",
       "      <td>8.0</td>\n",
       "      <td>0.31</td>\n",
       "      <td>strict</td>\n",
       "      <td>f</td>\n",
       "      <td>Apartment</td>\n",
       "    </tr>\n",
       "  </tbody>\n",
       "</table>\n",
       "</div>"
      ],
      "text/plain": [
       "         Reviewers_Count  Median_Price  host_response_time  \\\n",
       "1000883             18.0         100.0  within a few hours   \n",
       "1002835              6.0         135.0        within a day   \n",
       "\n",
       "         host_response_rate  price  guests_included  extra_people  \\\n",
       "1000883                86.0  100.0              3.0           0.0   \n",
       "1002835                70.0  135.0              4.0          20.0   \n",
       "\n",
       "         minimum_nights  number_of_reviews  review_scores_rating  \\\n",
       "1000883             2.0               18.0                  99.0   \n",
       "1002835             2.0                6.0                  80.0   \n",
       "\n",
       "         review_scores_cleanliness  review_scores_checkin  \\\n",
       "1000883                       10.0                   10.0   \n",
       "1002835                        8.0                    7.0   \n",
       "\n",
       "         review_scores_communication  review_scores_location  \\\n",
       "1000883                         10.0                    10.0   \n",
       "1002835                          8.0                    10.0   \n",
       "\n",
       "         review_scores_value  reviews_per_month cancellation_policy  \\\n",
       "1000883                 10.0               0.59            moderate   \n",
       "1002835                  8.0               0.31              strict   \n",
       "\n",
       "        host_is_superhost property_type  \n",
       "1000883                 f         House  \n",
       "1002835                 f     Apartment  "
      ]
     },
     "execution_count": 19,
     "metadata": {},
     "output_type": "execute_result"
    }
   ],
   "source": [
    "#Cleaning up the number columns: Remove percentage sign\n",
    "#host_response_rate\n",
    "Clean_df['host_response_rate'] = Clean_df['host_response_rate']. apply(lambda x: float(x.rstrip(\"%\")))\n",
    "\n",
    "#Remove $ sign\n",
    "for col in ['price', 'extra_people']:\n",
    "    Clean_df[col] = Clean_df[col].apply(lambda x: float(Decimal(sub(r'[^\\d.]', '', x))))\n",
    "\n",
    "    \n",
    "#Change columns to float\n",
    "list_float = [col for col in Clean_df.columns if col not in ['host_response_time', 'cancellation_policy', \n",
    "                                                                  'host_is_superhost', 'property_type']]\n",
    "\n",
    "for column in list_float:\n",
    "    Clean_df[column] = Clean_df[column].astype(float)\n",
    "Clean_df.head(2)"
   ]
  },
  {
   "cell_type": "markdown",
   "metadata": {},
   "source": [
    "### Business Question 1: Can the response time be used as a measure of quality based on the corresponding review scores?"
   ]
  },
  {
   "cell_type": "code",
   "execution_count": 20,
   "metadata": {
    "ExecuteTime": {
     "end_time": "2020-06-15T23:34:00.788755Z",
     "start_time": "2020-06-15T23:34:00.784737Z"
    }
   },
   "outputs": [],
   "source": [
    "cols = ['review_scores_rating',\n",
    "        'review_scores_cleanliness', 'review_scores_checkin', \n",
    "        'review_scores_communication', 'review_scores_location',\n",
    "        'review_scores_value']"
   ]
  },
  {
   "cell_type": "code",
   "execution_count": 21,
   "metadata": {
    "ExecuteTime": {
     "end_time": "2020-06-15T23:34:00.795708Z",
     "start_time": "2020-06-15T23:34:00.791720Z"
    }
   },
   "outputs": [],
   "source": [
    "#sns.pairplot(more_than_5_rev[cols]);"
   ]
  },
  {
   "cell_type": "markdown",
   "metadata": {
    "ExecuteTime": {
     "end_time": "2020-06-09T01:54:07.668633Z",
     "start_time": "2020-06-09T01:54:07.509808Z"
    }
   },
   "source": [
    "Reviews Score Rating"
   ]
  },
  {
   "cell_type": "code",
   "execution_count": 22,
   "metadata": {
    "ExecuteTime": {
     "end_time": "2020-06-15T23:34:00.805682Z",
     "start_time": "2020-06-15T23:34:00.798702Z"
    }
   },
   "outputs": [
    {
     "data": {
      "text/plain": [
       "100.0"
      ]
     },
     "execution_count": 22,
     "metadata": {},
     "output_type": "execute_result"
    }
   ],
   "source": [
    "Clean_df['review_scores_rating'].max()"
   ]
  },
  {
   "cell_type": "code",
   "execution_count": 23,
   "metadata": {
    "ExecuteTime": {
     "end_time": "2020-06-15T23:34:01.186286Z",
     "start_time": "2020-06-15T23:34:00.807676Z"
    }
   },
   "outputs": [
    {
     "data": {
      "text/html": [
       "<div>\n",
       "<style scoped>\n",
       "    .dataframe tbody tr th:only-of-type {\n",
       "        vertical-align: middle;\n",
       "    }\n",
       "\n",
       "    .dataframe tbody tr th {\n",
       "        vertical-align: top;\n",
       "    }\n",
       "\n",
       "    .dataframe thead th {\n",
       "        text-align: right;\n",
       "    }\n",
       "</style>\n",
       "<table border=\"1\" class=\"dataframe\">\n",
       "  <thead>\n",
       "    <tr style=\"text-align: right;\">\n",
       "      <th></th>\n",
       "      <th>Reviewers_Count</th>\n",
       "      <th>Median_Price</th>\n",
       "      <th>host_response_time</th>\n",
       "      <th>host_response_rate</th>\n",
       "      <th>price</th>\n",
       "      <th>guests_included</th>\n",
       "      <th>extra_people</th>\n",
       "      <th>minimum_nights</th>\n",
       "      <th>number_of_reviews</th>\n",
       "      <th>review_scores_rating</th>\n",
       "      <th>review_scores_cleanliness</th>\n",
       "      <th>review_scores_checkin</th>\n",
       "      <th>review_scores_communication</th>\n",
       "      <th>review_scores_location</th>\n",
       "      <th>review_scores_value</th>\n",
       "      <th>reviews_per_month</th>\n",
       "      <th>cancellation_policy</th>\n",
       "      <th>host_is_superhost</th>\n",
       "      <th>property_type</th>\n",
       "      <th>Average_rating</th>\n",
       "    </tr>\n",
       "  </thead>\n",
       "  <tbody>\n",
       "    <tr>\n",
       "      <th>1000883</th>\n",
       "      <td>18.0</td>\n",
       "      <td>100.0</td>\n",
       "      <td>within a few hours</td>\n",
       "      <td>86.0</td>\n",
       "      <td>100.0</td>\n",
       "      <td>3.0</td>\n",
       "      <td>0.0</td>\n",
       "      <td>2.0</td>\n",
       "      <td>18.0</td>\n",
       "      <td>0.99</td>\n",
       "      <td>1.0</td>\n",
       "      <td>1.0</td>\n",
       "      <td>1.0</td>\n",
       "      <td>1.0</td>\n",
       "      <td>1.0</td>\n",
       "      <td>0.59</td>\n",
       "      <td>moderate</td>\n",
       "      <td>f</td>\n",
       "      <td>House</td>\n",
       "      <td>0.998333</td>\n",
       "    </tr>\n",
       "    <tr>\n",
       "      <th>1002835</th>\n",
       "      <td>6.0</td>\n",
       "      <td>135.0</td>\n",
       "      <td>within a day</td>\n",
       "      <td>70.0</td>\n",
       "      <td>135.0</td>\n",
       "      <td>4.0</td>\n",
       "      <td>20.0</td>\n",
       "      <td>2.0</td>\n",
       "      <td>6.0</td>\n",
       "      <td>0.80</td>\n",
       "      <td>0.8</td>\n",
       "      <td>0.7</td>\n",
       "      <td>0.8</td>\n",
       "      <td>1.0</td>\n",
       "      <td>0.8</td>\n",
       "      <td>0.31</td>\n",
       "      <td>strict</td>\n",
       "      <td>f</td>\n",
       "      <td>Apartment</td>\n",
       "      <td>0.816667</td>\n",
       "    </tr>\n",
       "    <tr>\n",
       "      <th>1003890</th>\n",
       "      <td>72.0</td>\n",
       "      <td>99.0</td>\n",
       "      <td>within an hour</td>\n",
       "      <td>100.0</td>\n",
       "      <td>99.0</td>\n",
       "      <td>3.0</td>\n",
       "      <td>25.0</td>\n",
       "      <td>2.0</td>\n",
       "      <td>72.0</td>\n",
       "      <td>0.93</td>\n",
       "      <td>1.0</td>\n",
       "      <td>1.0</td>\n",
       "      <td>1.0</td>\n",
       "      <td>0.9</td>\n",
       "      <td>0.9</td>\n",
       "      <td>2.20</td>\n",
       "      <td>strict</td>\n",
       "      <td>f</td>\n",
       "      <td>House</td>\n",
       "      <td>0.955000</td>\n",
       "    </tr>\n",
       "    <tr>\n",
       "      <th>1009838</th>\n",
       "      <td>56.0</td>\n",
       "      <td>85.0</td>\n",
       "      <td>within a few hours</td>\n",
       "      <td>100.0</td>\n",
       "      <td>85.0</td>\n",
       "      <td>1.0</td>\n",
       "      <td>15.0</td>\n",
       "      <td>2.0</td>\n",
       "      <td>56.0</td>\n",
       "      <td>0.90</td>\n",
       "      <td>0.9</td>\n",
       "      <td>1.0</td>\n",
       "      <td>1.0</td>\n",
       "      <td>0.9</td>\n",
       "      <td>0.9</td>\n",
       "      <td>1.80</td>\n",
       "      <td>flexible</td>\n",
       "      <td>f</td>\n",
       "      <td>House</td>\n",
       "      <td>0.933333</td>\n",
       "    </tr>\n",
       "    <tr>\n",
       "      <th>1018204</th>\n",
       "      <td>79.0</td>\n",
       "      <td>69.0</td>\n",
       "      <td>within an hour</td>\n",
       "      <td>100.0</td>\n",
       "      <td>56.0</td>\n",
       "      <td>1.0</td>\n",
       "      <td>5.0</td>\n",
       "      <td>1.0</td>\n",
       "      <td>79.0</td>\n",
       "      <td>0.84</td>\n",
       "      <td>0.9</td>\n",
       "      <td>0.9</td>\n",
       "      <td>0.9</td>\n",
       "      <td>0.9</td>\n",
       "      <td>0.9</td>\n",
       "      <td>2.41</td>\n",
       "      <td>strict</td>\n",
       "      <td>f</td>\n",
       "      <td>Cabin</td>\n",
       "      <td>0.890000</td>\n",
       "    </tr>\n",
       "  </tbody>\n",
       "</table>\n",
       "</div>"
      ],
      "text/plain": [
       "         Reviewers_Count  Median_Price  host_response_time  \\\n",
       "1000883             18.0         100.0  within a few hours   \n",
       "1002835              6.0         135.0        within a day   \n",
       "1003890             72.0          99.0      within an hour   \n",
       "1009838             56.0          85.0  within a few hours   \n",
       "1018204             79.0          69.0      within an hour   \n",
       "\n",
       "         host_response_rate  price  guests_included  extra_people  \\\n",
       "1000883                86.0  100.0              3.0           0.0   \n",
       "1002835                70.0  135.0              4.0          20.0   \n",
       "1003890               100.0   99.0              3.0          25.0   \n",
       "1009838               100.0   85.0              1.0          15.0   \n",
       "1018204               100.0   56.0              1.0           5.0   \n",
       "\n",
       "         minimum_nights  number_of_reviews  review_scores_rating  \\\n",
       "1000883             2.0               18.0                  0.99   \n",
       "1002835             2.0                6.0                  0.80   \n",
       "1003890             2.0               72.0                  0.93   \n",
       "1009838             2.0               56.0                  0.90   \n",
       "1018204             1.0               79.0                  0.84   \n",
       "\n",
       "         review_scores_cleanliness  review_scores_checkin  \\\n",
       "1000883                        1.0                    1.0   \n",
       "1002835                        0.8                    0.7   \n",
       "1003890                        1.0                    1.0   \n",
       "1009838                        0.9                    1.0   \n",
       "1018204                        0.9                    0.9   \n",
       "\n",
       "         review_scores_communication  review_scores_location  \\\n",
       "1000883                          1.0                     1.0   \n",
       "1002835                          0.8                     1.0   \n",
       "1003890                          1.0                     0.9   \n",
       "1009838                          1.0                     0.9   \n",
       "1018204                          0.9                     0.9   \n",
       "\n",
       "         review_scores_value  reviews_per_month cancellation_policy  \\\n",
       "1000883                  1.0               0.59            moderate   \n",
       "1002835                  0.8               0.31              strict   \n",
       "1003890                  0.9               2.20              strict   \n",
       "1009838                  0.9               1.80            flexible   \n",
       "1018204                  0.9               2.41              strict   \n",
       "\n",
       "        host_is_superhost property_type  Average_rating  \n",
       "1000883                 f         House        0.998333  \n",
       "1002835                 f     Apartment        0.816667  \n",
       "1003890                 f         House        0.955000  \n",
       "1009838                 f         House        0.933333  \n",
       "1018204                 f         Cabin        0.890000  "
      ]
     },
     "execution_count": 23,
     "metadata": {},
     "output_type": "execute_result"
    }
   ],
   "source": [
    "#Normalize  columns and get average\n",
    "for col in cols:\n",
    "    Clean_df[col] = Clean_df[col].apply(lambda x: x/Clean_df[col].max())\n",
    "    \n",
    "#Get average of the columns above\n",
    "Clean_df['Average_rating'] = Clean_df[cols].mean(axis=1)\n",
    "Clean_df.head()"
   ]
  },
  {
   "cell_type": "code",
   "execution_count": 24,
   "metadata": {
    "ExecuteTime": {
     "end_time": "2020-06-15T23:34:01.209563Z",
     "start_time": "2020-06-15T23:34:01.186286Z"
    }
   },
   "outputs": [
    {
     "data": {
      "text/html": [
       "<div>\n",
       "<style scoped>\n",
       "    .dataframe tbody tr th:only-of-type {\n",
       "        vertical-align: middle;\n",
       "    }\n",
       "\n",
       "    .dataframe tbody tr th {\n",
       "        vertical-align: top;\n",
       "    }\n",
       "\n",
       "    .dataframe thead th {\n",
       "        text-align: right;\n",
       "    }\n",
       "</style>\n",
       "<table border=\"1\" class=\"dataframe\">\n",
       "  <thead>\n",
       "    <tr style=\"text-align: right;\">\n",
       "      <th></th>\n",
       "      <th>Average_rating</th>\n",
       "    </tr>\n",
       "    <tr>\n",
       "      <th>host_response_time</th>\n",
       "      <th></th>\n",
       "    </tr>\n",
       "  </thead>\n",
       "  <tbody>\n",
       "    <tr>\n",
       "      <th>a few days or more</th>\n",
       "      <td>0.930000</td>\n",
       "    </tr>\n",
       "    <tr>\n",
       "      <th>within a day</th>\n",
       "      <td>0.960000</td>\n",
       "    </tr>\n",
       "    <tr>\n",
       "      <th>within a few hours</th>\n",
       "      <td>0.973333</td>\n",
       "    </tr>\n",
       "    <tr>\n",
       "      <th>within an hour</th>\n",
       "      <td>0.976667</td>\n",
       "    </tr>\n",
       "  </tbody>\n",
       "</table>\n",
       "</div>"
      ],
      "text/plain": [
       "                    Average_rating\n",
       "host_response_time                \n",
       "a few days or more        0.930000\n",
       "within a day              0.960000\n",
       "within a few hours        0.973333\n",
       "within an hour            0.976667"
      ]
     },
     "execution_count": 24,
     "metadata": {},
     "output_type": "execute_result"
    }
   ],
   "source": [
    "#Get the median rating for every response category\n",
    "df_relationships = pd.DataFrame(Clean_df.groupby('host_response_time')['Average_rating'].median())\n",
    "df_relationships"
   ]
  },
  {
   "cell_type": "code",
   "execution_count": 25,
   "metadata": {
    "ExecuteTime": {
     "end_time": "2020-06-15T23:34:01.376041Z",
     "start_time": "2020-06-15T23:34:01.209563Z"
    }
   },
   "outputs": [
    {
     "data": {
      "image/png": "[encoded data removed]",
      "text/plain": [
       "<Figure size 720x432 with 1 Axes>"
      ]
     },
     "metadata": {
      "needs_background": "light"
     },
     "output_type": "display_data"
    }
   ],
   "source": [
    "\n",
    "data = df_relationships\n",
    "\n",
    "frequencies = df_relationships['Average_rating']\n",
    "\n",
    "#Creating a series for the data and making the index labels\n",
    "freq_series = pd.Series(frequencies)\n",
    "\n",
    "x_labels = data.index\n",
    "\n",
    "#Plot the figure\n",
    "# Plot the figure.\n",
    "plt.subplots(figsize=(10, 6))\n",
    "ax = freq_series.plot(kind='bar', legend=False, color = ['#17618C', '#62B5E5'])\n",
    "ax.set_title('Average Review Scores per Resposne Time Category',fontsize=12, y=1.08)\n",
    "ax.set_xlabel('')\n",
    "ax.set_ylabel('Average Review Scores', fontsize=12)\n",
    "ax.set_xticklabels(x_labels, fontsize=10, rotation=90)\n",
    "\n",
    "#ax.set_yticklabels(freq_series, fontsize=16, rotation=0)\n",
    "# Despine\n",
    "ax.spines['right'].set_visible(False)\n",
    "ax.spines['top'].set_visible(False)\n",
    "\n",
    "#Putting commas to thousands figures on the y axis\n",
    "ax.get_yaxis().set_major_formatter(plt.FuncFormatter(lambda x, loc: \"{:,}\".format(int(x))))\n",
    "#Set y limits\n",
    "\n",
    "#ax.set_ylim(0, 6500)\n",
    "\n",
    "def add_value_labels(ax, spacing=5):\n",
    "\n",
    "    \"\"\"Add labels to the end of each bar in a bar chart.\n",
    "    Arguments:\n",
    "        ax (matplotlib.axes.Axes): The matplotlib object containing the axes\n",
    "            of the plot to annotate.\n",
    "        spacing (int): The distance between the labels and the bars.\n",
    "    \"\"\"\n",
    "    # For each bar: Place a label\n",
    "    for patch_bar in ax.patches:\n",
    "        patch_bar.set_color('#62B5E5')\n",
    "\n",
    "        # Get X and Y placement of label from patch_bar.\n",
    "        y_value = patch_bar.get_height()\n",
    "        x_value = patch_bar.get_x() + patch_bar.get_width() / 2\n",
    "\n",
    "        # Number of points between bar and label. Change to your liking.\n",
    "        space = spacing\n",
    "\n",
    "        # Vertical alignment for positive values\n",
    "        va = 'bottom'\n",
    "\n",
    "        # If value of bar is negative: Place label below bar\n",
    "        if y_value < 0:\n",
    "            # Invert space to place label below\n",
    "            space *= -1\n",
    "            # Vertically align label at top\n",
    "            va = 'top'\n",
    "        # Use Y value as label and format number with no decimals\n",
    "        label = y_value\n",
    "        #label = y_value.set_major_formatter(plt.FuncFormatter(lambda x, loc: \"{:,}\".format(int(x))))\n",
    "        \n",
    "        # Create annotation\n",
    "        ax.annotate(\n",
    "            str(round(label, 4)),                      # Use `label` as label\n",
    "            (x_value, y_value),         # Place label at end of the bar\n",
    "            xytext=(1.4, space),          # Vertically shift label by `space`\n",
    "            textcoords=\"offset points\", # Interpret `xytext` as offset in points\n",
    "            ha='center',                # Horizontally center label\n",
    "            va=va,\n",
    "            color ='black', rotation=0, fontsize=10) # Vertically align label differently for\n",
    "                                        # positive and negative values.\n",
    "\n",
    "# Call the function above.\n",
    "add_value_labels(ax)\n",
    "plt.tight_layout()"
   ]
  },
  {
   "cell_type": "code",
   "execution_count": 26,
   "metadata": {
    "ExecuteTime": {
     "end_time": "2020-06-15T23:34:01.381029Z",
     "start_time": "2020-06-15T23:34:01.378036Z"
    }
   },
   "outputs": [],
   "source": [
    "# # regex plot\n",
    "# plt.figure(figsize=(13,7))\n",
    "# sns.regplot(x=more_than_5_rev['host_response_rate'], y=more_than_5_rev['Average_rating']);"
   ]
  },
  {
   "cell_type": "markdown",
   "metadata": {},
   "source": [
    "### Business Question 2: Do superhosts tend to charge more that the non-superhosts?"
   ]
  },
  {
   "cell_type": "code",
   "execution_count": 27,
   "metadata": {
    "ExecuteTime": {
     "end_time": "2020-06-15T23:34:01.402971Z",
     "start_time": "2020-06-15T23:34:01.384020Z"
    }
   },
   "outputs": [
    {
     "data": {
      "text/html": [
       "<div>\n",
       "<style scoped>\n",
       "    .dataframe tbody tr th:only-of-type {\n",
       "        vertical-align: middle;\n",
       "    }\n",
       "\n",
       "    .dataframe tbody tr th {\n",
       "        vertical-align: top;\n",
       "    }\n",
       "\n",
       "    .dataframe thead th {\n",
       "        text-align: right;\n",
       "    }\n",
       "</style>\n",
       "<table border=\"1\" class=\"dataframe\">\n",
       "  <thead>\n",
       "    <tr style=\"text-align: right;\">\n",
       "      <th></th>\n",
       "      <th>Reviewers_Count</th>\n",
       "      <th>Median_Price</th>\n",
       "      <th>host_response_time</th>\n",
       "      <th>host_response_rate</th>\n",
       "      <th>price</th>\n",
       "      <th>guests_included</th>\n",
       "      <th>extra_people</th>\n",
       "      <th>minimum_nights</th>\n",
       "      <th>number_of_reviews</th>\n",
       "      <th>review_scores_rating</th>\n",
       "      <th>review_scores_cleanliness</th>\n",
       "      <th>review_scores_checkin</th>\n",
       "      <th>review_scores_communication</th>\n",
       "      <th>review_scores_location</th>\n",
       "      <th>review_scores_value</th>\n",
       "      <th>reviews_per_month</th>\n",
       "      <th>cancellation_policy</th>\n",
       "      <th>host_is_superhost</th>\n",
       "      <th>property_type</th>\n",
       "      <th>Average_rating</th>\n",
       "    </tr>\n",
       "  </thead>\n",
       "  <tbody>\n",
       "    <tr>\n",
       "      <th>1000883</th>\n",
       "      <td>18.0</td>\n",
       "      <td>100.0</td>\n",
       "      <td>within a few hours</td>\n",
       "      <td>86.0</td>\n",
       "      <td>100.0</td>\n",
       "      <td>3.0</td>\n",
       "      <td>0.0</td>\n",
       "      <td>2.0</td>\n",
       "      <td>18.0</td>\n",
       "      <td>0.99</td>\n",
       "      <td>1.0</td>\n",
       "      <td>1.0</td>\n",
       "      <td>1.0</td>\n",
       "      <td>1.0</td>\n",
       "      <td>1.0</td>\n",
       "      <td>0.59</td>\n",
       "      <td>moderate</td>\n",
       "      <td>f</td>\n",
       "      <td>House</td>\n",
       "      <td>0.998333</td>\n",
       "    </tr>\n",
       "    <tr>\n",
       "      <th>1002835</th>\n",
       "      <td>6.0</td>\n",
       "      <td>135.0</td>\n",
       "      <td>within a day</td>\n",
       "      <td>70.0</td>\n",
       "      <td>135.0</td>\n",
       "      <td>4.0</td>\n",
       "      <td>20.0</td>\n",
       "      <td>2.0</td>\n",
       "      <td>6.0</td>\n",
       "      <td>0.80</td>\n",
       "      <td>0.8</td>\n",
       "      <td>0.7</td>\n",
       "      <td>0.8</td>\n",
       "      <td>1.0</td>\n",
       "      <td>0.8</td>\n",
       "      <td>0.31</td>\n",
       "      <td>strict</td>\n",
       "      <td>f</td>\n",
       "      <td>Apartment</td>\n",
       "      <td>0.816667</td>\n",
       "    </tr>\n",
       "  </tbody>\n",
       "</table>\n",
       "</div>"
      ],
      "text/plain": [
       "         Reviewers_Count  Median_Price  host_response_time  \\\n",
       "1000883             18.0         100.0  within a few hours   \n",
       "1002835              6.0         135.0        within a day   \n",
       "\n",
       "         host_response_rate  price  guests_included  extra_people  \\\n",
       "1000883                86.0  100.0              3.0           0.0   \n",
       "1002835                70.0  135.0              4.0          20.0   \n",
       "\n",
       "         minimum_nights  number_of_reviews  review_scores_rating  \\\n",
       "1000883             2.0               18.0                  0.99   \n",
       "1002835             2.0                6.0                  0.80   \n",
       "\n",
       "         review_scores_cleanliness  review_scores_checkin  \\\n",
       "1000883                        1.0                    1.0   \n",
       "1002835                        0.8                    0.7   \n",
       "\n",
       "         review_scores_communication  review_scores_location  \\\n",
       "1000883                          1.0                     1.0   \n",
       "1002835                          0.8                     1.0   \n",
       "\n",
       "         review_scores_value  reviews_per_month cancellation_policy  \\\n",
       "1000883                  1.0               0.59            moderate   \n",
       "1002835                  0.8               0.31              strict   \n",
       "\n",
       "        host_is_superhost property_type  Average_rating  \n",
       "1000883                 f         House        0.998333  \n",
       "1002835                 f     Apartment        0.816667  "
      ]
     },
     "execution_count": 27,
     "metadata": {},
     "output_type": "execute_result"
    }
   ],
   "source": [
    "Clean_df.head(2)"
   ]
  },
  {
   "cell_type": "code",
   "execution_count": 28,
   "metadata": {
    "ExecuteTime": {
     "end_time": "2020-06-15T23:34:01.422948Z",
     "start_time": "2020-06-15T23:34:01.404964Z"
    }
   },
   "outputs": [
    {
     "data": {
      "text/plain": [
       "f    1407\n",
       "t     644\n",
       "Name: host_is_superhost, dtype: int64"
      ]
     },
     "execution_count": 28,
     "metadata": {},
     "output_type": "execute_result"
    }
   ],
   "source": [
    "Clean_df['host_is_superhost'].value_counts()"
   ]
  },
  {
   "cell_type": "code",
   "execution_count": 29,
   "metadata": {
    "ExecuteTime": {
     "end_time": "2020-06-15T23:34:01.438874Z",
     "start_time": "2020-06-15T23:34:01.424911Z"
    }
   },
   "outputs": [
    {
     "data": {
      "text/plain": [
       "count    2051.000000\n",
       "mean      126.480010\n",
       "std        90.115228\n",
       "min        25.000000\n",
       "25%        75.000000\n",
       "50%       100.000000\n",
       "75%       150.000000\n",
       "max      1450.000000\n",
       "Name: Median_Price, dtype: float64"
      ]
     },
     "execution_count": 29,
     "metadata": {},
     "output_type": "execute_result"
    }
   ],
   "source": [
    "Clean_df['Median_Price'].describe()"
   ]
  },
  {
   "cell_type": "code",
   "execution_count": 30,
   "metadata": {
    "ExecuteTime": {
     "end_time": "2020-06-15T23:34:01.446853Z",
     "start_time": "2020-06-15T23:34:01.439871Z"
    }
   },
   "outputs": [],
   "source": [
    "#subset the 2 dataframes based on superhosts\n",
    "superhost_t_df = Clean_df[Clean_df['host_is_superhost'] == 't']\n",
    "superhost_f_df = Clean_df[Clean_df['host_is_superhost'] == 'f']"
   ]
  },
  {
   "cell_type": "code",
   "execution_count": 31,
   "metadata": {
    "ExecuteTime": {
     "end_time": "2020-06-15T23:34:01.454832Z",
     "start_time": "2020-06-15T23:34:01.447849Z"
    }
   },
   "outputs": [
    {
     "name": "stdout",
     "output_type": "stream",
     "text": [
      "Median for superhosts: 105.0\n",
      "Mean for superhosts: 131.7996894409938\n",
      "Median for non-superhosts: 100.0\n",
      "Mean for non-superhosts: 124.04513148542999\n"
     ]
    }
   ],
   "source": [
    "#Median prices for both dataframes\n",
    "print(f\"Median for superhosts: {superhost_t_df['Median_Price'].median()}\")\n",
    "print(f\"Mean for superhosts: {superhost_t_df['Median_Price'].mean()}\")\n",
    "print(f\"Median for non-superhosts: {superhost_f_df['Median_Price'].median()}\")\n",
    "print(f\"Mean for non-superhosts: {superhost_f_df['Median_Price'].mean()}\")"
   ]
  },
  {
   "cell_type": "code",
   "execution_count": 32,
   "metadata": {
    "ExecuteTime": {
     "end_time": "2020-06-15T23:34:01.624378Z",
     "start_time": "2020-06-15T23:34:01.456827Z"
    }
   },
   "outputs": [
    {
     "data": {
      "text/plain": [
       "Text(0.5, 1.0, 'Superhost vs non superhost')"
      ]
     },
     "execution_count": 32,
     "metadata": {},
     "output_type": "execute_result"
    },
    {
     "data": {
      "image/png": "[encoded data removed]",
      "text/plain": [
       "<Figure size 864x504 with 1 Axes>"
      ]
     },
     "metadata": {
      "needs_background": "light"
     },
     "output_type": "display_data"
    }
   ],
   "source": [
    "#Histogram\n",
    "\n",
    "fig, ax = plt.subplots(1, sharex='col', sharey='row', figsize=(12,7))\n",
    "#ax = ax.ravel()\n",
    "\n",
    "\n",
    "ax.hist(superhost_t_df['Median_Price'], bins=12, alpha=0.5)\n",
    "ax.hist(superhost_f_df['Median_Price'], bins=12, alpha=0.5)\n",
    "ax.set_title(\"Superhost vs non superhost\")\n",
    "#ax.legend(loc='upper left')\n"
   ]
  },
  {
   "cell_type": "markdown",
   "metadata": {},
   "source": [
    "On  a first look, it doesnt seem like there is a difference in pricing when it comes to whether a host is superhost or not. The distribution of the prices look the same for the two."
   ]
  },
  {
   "cell_type": "code",
   "execution_count": 33,
   "metadata": {
    "ExecuteTime": {
     "end_time": "2020-06-15T23:34:01.632358Z",
     "start_time": "2020-06-15T23:34:01.626374Z"
    }
   },
   "outputs": [],
   "source": [
    "def get_normalized_val_counts(df, col):\n",
    "    '''\n",
    "    INPUTS\n",
    "        df-a dataframe\n",
    "        col- a column that we want to calculate the value_counts\n",
    "    OUTPUT\n",
    "        a dataframe of value_counts of col\n",
    "    '''\n",
    "    \n",
    "    #Get the value counts of the col and edit the column names\n",
    "    val_count_df = pd.DataFrame(df[col].value_counts(dropna=False).reset_index())\n",
    "    val_count_df.rename(columns={'index': col, col: 'count'}, inplace=True)\n",
    "    val_count_df.set_index(col, inplace=True)\n",
    "    props_val_count = val_count_df/val_count_df.sum()\n",
    "    \n",
    "    return props_val_count"
   ]
  },
  {
   "cell_type": "code",
   "execution_count": 34,
   "metadata": {
    "ExecuteTime": {
     "end_time": "2020-06-15T23:34:01.646319Z",
     "start_time": "2020-06-15T23:34:01.634351Z"
    }
   },
   "outputs": [],
   "source": [
    "#Get listings for superhosts and non-superhosts\n",
    "superhosts_list = superhost_t_df.index.tolist()\n",
    "non_superhosts_list =superhost_f_df.index.unique().tolist()\n",
    "\n",
    "#\n",
    "dict_bin_cols = {'host_is_superhost': superhosts_list}\n",
    "\n",
    "def choose_col_cat(bin_col, cat_col):\n",
    "    '''\n",
    "    INPUT:\n",
    "        bin_col-a binary column that will be used to disect other categorical variables\n",
    "        cat_col - a categorical column that you want to disect\n",
    "        \n",
    "    OUTPUT: A bar presentation of valuecounts percentages of dataframes separated by the bin_col values\n",
    "    '''\n",
    "    \n",
    "    #Separate the dataframes where one bin col is present or absent\n",
    "    element_present = Clean_df[Clean_df.index.isin(dict_bin_cols[bin_col])]\n",
    "    element_absent = Clean_df[~Clean_df.index.isin(dict_bin_cols[bin_col])]\n",
    "    \n",
    "    #Create the percentages\n",
    "    element_true_perc = get_normalized_val_counts(element_present, cat_col)\n",
    "    element_false_perc = get_normalized_val_counts(element_absent, cat_col)\n",
    "    \n",
    "    #merge the 2 dataframes for comparison\n",
    "    comp_df = pd.merge(element_true_perc, element_false_perc, left_index = True, right_index=True)\n",
    "    comp_df.columns = [bin_col + '_True', bin_col + '_False']\n",
    "    comp_df['Diff_Vals'] = comp_df[bin_col + '_True'] - comp_df[bin_col + '_False']\n",
    "    #return comp_df.style.bar(subset=['Diff_Vals'], align='mid', color = ['#d65f5f', '#5fba7d'])\n",
    "    return comp_df"
   ]
  },
  {
   "cell_type": "code",
   "execution_count": 35,
   "metadata": {
    "ExecuteTime": {
     "end_time": "2020-06-15T23:34:01.663273Z",
     "start_time": "2020-06-15T23:34:01.648314Z"
    }
   },
   "outputs": [],
   "source": [
    "Clean_df['win_Median_Price'] = Clean_df['Median_Price']\n",
    "Clean_df.loc[Clean_df['win_Median_Price']>200 , 'win_Median_Price'] = 201\n",
    "\n",
    "#Create median prices category\n",
    "bins = [i for i in range(0,240,20)]\n",
    "\n",
    "names = [str(i) + \" to \" + str(bins[ind+1]) + ' Dollars' for i,ind in zip(bins, list(range(len(bins)))) if ind <10] + [\"More than 200 Dollars\"]\n",
    "\n",
    "d = dict(enumerate(names, 1))\n",
    "\n",
    "Clean_df['Price_Category'] = np.vectorize(d.get)(np.digitize(Clean_df['win_Median_Price'], bins))"
   ]
  },
  {
   "cell_type": "code",
   "execution_count": 60,
   "metadata": {
    "ExecuteTime": {
     "end_time": "2020-06-15T23:55:39.324848Z",
     "start_time": "2020-06-15T23:55:39.292903Z"
    }
   },
   "outputs": [
    {
     "data": {
      "text/html": [
       "<style  type=\"text/css\" >\n",
       "    #T_b6e35e06_af63_11ea_8ec0_b46bfc7d2dd1row0_col2 {\n",
       "            width:  10em;\n",
       "             height:  80%;\n",
       "            background:  linear-gradient(90deg, transparent 30.0%, #d65f5f 30.0%, #d65f5f 60.0%, transparent 60.0%);\n",
       "        }    #T_b6e35e06_af63_11ea_8ec0_b46bfc7d2dd1row1_col2 {\n",
       "            width:  10em;\n",
       "             height:  80%;\n",
       "            background:  linear-gradient(90deg,#d65f5f 60.0%, transparent 60.0%);\n",
       "        }    #T_b6e35e06_af63_11ea_8ec0_b46bfc7d2dd1row2_col2 {\n",
       "            width:  10em;\n",
       "             height:  80%;\n",
       "            background:  linear-gradient(90deg, transparent 60.0%, #5fba7d 60.0%, #5fba7d 80.0%, transparent 80.0%);\n",
       "        }    #T_b6e35e06_af63_11ea_8ec0_b46bfc7d2dd1row3_col2 {\n",
       "            width:  10em;\n",
       "             height:  80%;\n",
       "            background:  linear-gradient(90deg, transparent 60.0%, #5fba7d 60.0%, #5fba7d 100.0%, transparent 100.0%);\n",
       "        }    #T_b6e35e06_af63_11ea_8ec0_b46bfc7d2dd1row4_col2 {\n",
       "            width:  10em;\n",
       "             height:  80%;\n",
       "            background:  linear-gradient(90deg, transparent 60.0%, #5fba7d 60.0%, #5fba7d 70.0%, transparent 70.0%);\n",
       "        }    #T_b6e35e06_af63_11ea_8ec0_b46bfc7d2dd1row5_col2 {\n",
       "            width:  10em;\n",
       "             height:  80%;\n",
       "            background:  linear-gradient(90deg, transparent 60.0%, #5fba7d 60.0%, #5fba7d 70.0%, transparent 70.0%);\n",
       "        }    #T_b6e35e06_af63_11ea_8ec0_b46bfc7d2dd1row6_col2 {\n",
       "            width:  10em;\n",
       "             height:  80%;\n",
       "        }    #T_b6e35e06_af63_11ea_8ec0_b46bfc7d2dd1row7_col2 {\n",
       "            width:  10em;\n",
       "             height:  80%;\n",
       "            background:  linear-gradient(90deg, transparent 60.0%, #5fba7d 60.0%, #5fba7d 70.0%, transparent 70.0%);\n",
       "        }    #T_b6e35e06_af63_11ea_8ec0_b46bfc7d2dd1row8_col2 {\n",
       "            width:  10em;\n",
       "             height:  80%;\n",
       "            background:  linear-gradient(90deg, transparent 50.0%, #d65f5f 50.0%, #d65f5f 60.0%, transparent 60.0%);\n",
       "        }    #T_b6e35e06_af63_11ea_8ec0_b46bfc7d2dd1row9_col2 {\n",
       "            width:  10em;\n",
       "             height:  80%;\n",
       "        }</style><table id=\"T_b6e35e06_af63_11ea_8ec0_b46bfc7d2dd1\" ><thead>    <tr>        <th class=\"blank level0\" ></th>        <th class=\"col_heading level0 col0\" >Superhost \n",
       "(Percentage)</th>        <th class=\"col_heading level0 col1\" >Non-Superhosts \n",
       "(Percentage)</th>        <th class=\"col_heading level0 col2\" >Proportional Difference</th>    </tr>    <tr>        <th class=\"index_name level0\" >Price_Category</th>        <th class=\"blank\" ></th>        <th class=\"blank\" ></th>        <th class=\"blank\" ></th>    </tr></thead><tbody>\n",
       "                <tr>\n",
       "                        <th id=\"T_b6e35e06_af63_11ea_8ec0_b46bfc7d2dd1level0_row0\" class=\"row_heading level0 row0\" >20 to 40 Dollars</th>\n",
       "                        <td id=\"T_b6e35e06_af63_11ea_8ec0_b46bfc7d2dd1row0_col0\" class=\"data row0 col0\" >0</td>\n",
       "                        <td id=\"T_b6e35e06_af63_11ea_8ec0_b46bfc7d2dd1row0_col1\" class=\"data row0 col1\" >4</td>\n",
       "                        <td id=\"T_b6e35e06_af63_11ea_8ec0_b46bfc7d2dd1row0_col2\" class=\"data row0 col2\" >-3</td>\n",
       "            </tr>\n",
       "            <tr>\n",
       "                        <th id=\"T_b6e35e06_af63_11ea_8ec0_b46bfc7d2dd1level0_row1\" class=\"row_heading level0 row1\" >40 to 60 Dollars</th>\n",
       "                        <td id=\"T_b6e35e06_af63_11ea_8ec0_b46bfc7d2dd1row1_col0\" class=\"data row1 col0\" >6</td>\n",
       "                        <td id=\"T_b6e35e06_af63_11ea_8ec0_b46bfc7d2dd1row1_col1\" class=\"data row1 col1\" >12</td>\n",
       "                        <td id=\"T_b6e35e06_af63_11ea_8ec0_b46bfc7d2dd1row1_col2\" class=\"data row1 col2\" >-6</td>\n",
       "            </tr>\n",
       "            <tr>\n",
       "                        <th id=\"T_b6e35e06_af63_11ea_8ec0_b46bfc7d2dd1level0_row2\" class=\"row_heading level0 row2\" >60 to 80 Dollars</th>\n",
       "                        <td id=\"T_b6e35e06_af63_11ea_8ec0_b46bfc7d2dd1row2_col0\" class=\"data row2 col0\" >17</td>\n",
       "                        <td id=\"T_b6e35e06_af63_11ea_8ec0_b46bfc7d2dd1row2_col1\" class=\"data row2 col1\" >15</td>\n",
       "                        <td id=\"T_b6e35e06_af63_11ea_8ec0_b46bfc7d2dd1row2_col2\" class=\"data row2 col2\" >2</td>\n",
       "            </tr>\n",
       "            <tr>\n",
       "                        <th id=\"T_b6e35e06_af63_11ea_8ec0_b46bfc7d2dd1level0_row3\" class=\"row_heading level0 row3\" >80 to 100 Dollars</th>\n",
       "                        <td id=\"T_b6e35e06_af63_11ea_8ec0_b46bfc7d2dd1row3_col0\" class=\"data row3 col0\" >22</td>\n",
       "                        <td id=\"T_b6e35e06_af63_11ea_8ec0_b46bfc7d2dd1row3_col1\" class=\"data row3 col1\" >18</td>\n",
       "                        <td id=\"T_b6e35e06_af63_11ea_8ec0_b46bfc7d2dd1row3_col2\" class=\"data row3 col2\" >4</td>\n",
       "            </tr>\n",
       "            <tr>\n",
       "                        <th id=\"T_b6e35e06_af63_11ea_8ec0_b46bfc7d2dd1level0_row4\" class=\"row_heading level0 row4\" >100 to 120 Dollars</th>\n",
       "                        <td id=\"T_b6e35e06_af63_11ea_8ec0_b46bfc7d2dd1row4_col0\" class=\"data row4 col0\" >12</td>\n",
       "                        <td id=\"T_b6e35e06_af63_11ea_8ec0_b46bfc7d2dd1row4_col1\" class=\"data row4 col1\" >11</td>\n",
       "                        <td id=\"T_b6e35e06_af63_11ea_8ec0_b46bfc7d2dd1row4_col2\" class=\"data row4 col2\" >1</td>\n",
       "            </tr>\n",
       "            <tr>\n",
       "                        <th id=\"T_b6e35e06_af63_11ea_8ec0_b46bfc7d2dd1level0_row5\" class=\"row_heading level0 row5\" >120 to 140 Dollars</th>\n",
       "                        <td id=\"T_b6e35e06_af63_11ea_8ec0_b46bfc7d2dd1row5_col0\" class=\"data row5 col0\" >11</td>\n",
       "                        <td id=\"T_b6e35e06_af63_11ea_8ec0_b46bfc7d2dd1row5_col1\" class=\"data row5 col1\" >10</td>\n",
       "                        <td id=\"T_b6e35e06_af63_11ea_8ec0_b46bfc7d2dd1row5_col2\" class=\"data row5 col2\" >1</td>\n",
       "            </tr>\n",
       "            <tr>\n",
       "                        <th id=\"T_b6e35e06_af63_11ea_8ec0_b46bfc7d2dd1level0_row6\" class=\"row_heading level0 row6\" >140 to 160 Dollars</th>\n",
       "                        <td id=\"T_b6e35e06_af63_11ea_8ec0_b46bfc7d2dd1row6_col0\" class=\"data row6 col0\" >9</td>\n",
       "                        <td id=\"T_b6e35e06_af63_11ea_8ec0_b46bfc7d2dd1row6_col1\" class=\"data row6 col1\" >8</td>\n",
       "                        <td id=\"T_b6e35e06_af63_11ea_8ec0_b46bfc7d2dd1row6_col2\" class=\"data row6 col2\" >0</td>\n",
       "            </tr>\n",
       "            <tr>\n",
       "                        <th id=\"T_b6e35e06_af63_11ea_8ec0_b46bfc7d2dd1level0_row7\" class=\"row_heading level0 row7\" >160 to 180 Dollars</th>\n",
       "                        <td id=\"T_b6e35e06_af63_11ea_8ec0_b46bfc7d2dd1row7_col0\" class=\"data row7 col0\" >5</td>\n",
       "                        <td id=\"T_b6e35e06_af63_11ea_8ec0_b46bfc7d2dd1row7_col1\" class=\"data row7 col1\" >5</td>\n",
       "                        <td id=\"T_b6e35e06_af63_11ea_8ec0_b46bfc7d2dd1row7_col2\" class=\"data row7 col2\" >1</td>\n",
       "            </tr>\n",
       "            <tr>\n",
       "                        <th id=\"T_b6e35e06_af63_11ea_8ec0_b46bfc7d2dd1level0_row8\" class=\"row_heading level0 row8\" >180 to 200 Dollars</th>\n",
       "                        <td id=\"T_b6e35e06_af63_11ea_8ec0_b46bfc7d2dd1row8_col0\" class=\"data row8 col0\" >3</td>\n",
       "                        <td id=\"T_b6e35e06_af63_11ea_8ec0_b46bfc7d2dd1row8_col1\" class=\"data row8 col1\" >4</td>\n",
       "                        <td id=\"T_b6e35e06_af63_11ea_8ec0_b46bfc7d2dd1row8_col2\" class=\"data row8 col2\" >-1</td>\n",
       "            </tr>\n",
       "            <tr>\n",
       "                        <th id=\"T_b6e35e06_af63_11ea_8ec0_b46bfc7d2dd1level0_row9\" class=\"row_heading level0 row9\" >More than 200 Dollars</th>\n",
       "                        <td id=\"T_b6e35e06_af63_11ea_8ec0_b46bfc7d2dd1row9_col0\" class=\"data row9 col0\" >13</td>\n",
       "                        <td id=\"T_b6e35e06_af63_11ea_8ec0_b46bfc7d2dd1row9_col1\" class=\"data row9 col1\" >13</td>\n",
       "                        <td id=\"T_b6e35e06_af63_11ea_8ec0_b46bfc7d2dd1row9_col2\" class=\"data row9 col2\" >0</td>\n",
       "            </tr>\n",
       "    </tbody></table>"
      ],
      "text/plain": [
       "<pandas.io.formats.style.Styler at 0x1f9a759ce08>"
      ]
     },
     "execution_count": 60,
     "metadata": {},
     "output_type": "execute_result"
    }
   ],
   "source": [
    "price_df = choose_col_cat('host_is_superhost', 'Price_Category')\n",
    "price_df['sort'] = price_df.index\n",
    "price_df['sort'] = price_df['sort'].apply(lambda x: x.split(\" \")[0])\n",
    "price_df['sort'] = price_df['sort'].str.replace(\"More\", str(200))\n",
    "price_df['sort'] = price_df['sort'].astype(int)\n",
    "price_df = price_df.sort_values(by =['sort'], ascending=[True])\n",
    "price_df = price_df.drop('sort', axis=1)\n",
    "\n",
    "price_df = price_df.rename(columns = {'host_is_superhost_True': 'Superhost \\n(Percentage)', \n",
    "                                      'host_is_superhost_False': 'Non-Superhosts \\n(Percentage)',\n",
    "                                      'Diff_Vals': \"Proportional Difference\"})\n",
    "for col in ['Superhost \\n(Percentage)', 'Non-Superhosts \\n(Percentage)', 'Proportional Difference']:\n",
    "    price_df[col] = price_df[col].apply(lambda x: int(round((x*100),0)))\n",
    "    #price_df[col] = price_df[col]\n",
    "price_df.style.bar(subset=['Proportional Difference'], align='mid', color = ['#d65f5f', '#5fba7d'])"
   ]
  },
  {
   "cell_type": "markdown",
   "metadata": {},
   "source": [
    "Based on the above, there could be a scant evidence that superhosts tend to charge slightly higher price than non-superhosts"
   ]
  },
  {
   "cell_type": "markdown",
   "metadata": {},
   "source": [
    "### Business Question 3: What property type are more people interested in and does it affect the pricing?"
   ]
  },
  {
   "cell_type": "code",
   "execution_count": 135,
   "metadata": {
    "ExecuteTime": {
     "end_time": "2020-06-14T06:44:36.062414Z",
     "start_time": "2020-06-14T06:44:36.043370Z"
    }
   },
   "outputs": [
    {
     "data": {
      "text/html": [
       "<div>\n",
       "<style scoped>\n",
       "    .dataframe tbody tr th:only-of-type {\n",
       "        vertical-align: middle;\n",
       "    }\n",
       "\n",
       "    .dataframe tbody tr th {\n",
       "        vertical-align: top;\n",
       "    }\n",
       "\n",
       "    .dataframe thead th {\n",
       "        text-align: right;\n",
       "    }\n",
       "</style>\n",
       "<table border=\"1\" class=\"dataframe\">\n",
       "  <thead>\n",
       "    <tr style=\"text-align: right;\">\n",
       "      <th></th>\n",
       "      <th>Reviewers_Count</th>\n",
       "      <th>Median_Price</th>\n",
       "      <th>host_response_time</th>\n",
       "      <th>host_response_rate</th>\n",
       "      <th>price</th>\n",
       "      <th>guests_included</th>\n",
       "      <th>extra_people</th>\n",
       "      <th>minimum_nights</th>\n",
       "      <th>number_of_reviews</th>\n",
       "      <th>review_scores_rating</th>\n",
       "      <th>review_scores_cleanliness</th>\n",
       "      <th>review_scores_checkin</th>\n",
       "      <th>review_scores_communication</th>\n",
       "      <th>review_scores_location</th>\n",
       "      <th>review_scores_value</th>\n",
       "      <th>reviews_per_month</th>\n",
       "      <th>cancellation_policy</th>\n",
       "      <th>host_is_superhost</th>\n",
       "      <th>property_type</th>\n",
       "      <th>Average_rating</th>\n",
       "      <th>Price_Category</th>\n",
       "      <th>win_Median_Price</th>\n",
       "    </tr>\n",
       "  </thead>\n",
       "  <tbody>\n",
       "    <tr>\n",
       "      <th>1000883</th>\n",
       "      <td>18.0</td>\n",
       "      <td>100.0</td>\n",
       "      <td>within a few hours</td>\n",
       "      <td>86.0</td>\n",
       "      <td>100.0</td>\n",
       "      <td>3.0</td>\n",
       "      <td>0.0</td>\n",
       "      <td>2.0</td>\n",
       "      <td>18.0</td>\n",
       "      <td>0.99</td>\n",
       "      <td>1.0</td>\n",
       "      <td>1.0</td>\n",
       "      <td>1.0</td>\n",
       "      <td>1.0</td>\n",
       "      <td>1.0</td>\n",
       "      <td>0.59</td>\n",
       "      <td>moderate</td>\n",
       "      <td>f</td>\n",
       "      <td>House</td>\n",
       "      <td>0.998333</td>\n",
       "      <td>100 to 120 Dollars</td>\n",
       "      <td>100.0</td>\n",
       "    </tr>\n",
       "    <tr>\n",
       "      <th>1002835</th>\n",
       "      <td>6.0</td>\n",
       "      <td>135.0</td>\n",
       "      <td>within a day</td>\n",
       "      <td>70.0</td>\n",
       "      <td>135.0</td>\n",
       "      <td>4.0</td>\n",
       "      <td>20.0</td>\n",
       "      <td>2.0</td>\n",
       "      <td>6.0</td>\n",
       "      <td>0.80</td>\n",
       "      <td>0.8</td>\n",
       "      <td>0.7</td>\n",
       "      <td>0.8</td>\n",
       "      <td>1.0</td>\n",
       "      <td>0.8</td>\n",
       "      <td>0.31</td>\n",
       "      <td>strict</td>\n",
       "      <td>f</td>\n",
       "      <td>Apartment</td>\n",
       "      <td>0.816667</td>\n",
       "      <td>120 to 140 Dollars</td>\n",
       "      <td>135.0</td>\n",
       "    </tr>\n",
       "  </tbody>\n",
       "</table>\n",
       "</div>"
      ],
      "text/plain": [
       "         Reviewers_Count  Median_Price  host_response_time  \\\n",
       "1000883             18.0         100.0  within a few hours   \n",
       "1002835              6.0         135.0        within a day   \n",
       "\n",
       "         host_response_rate  price  guests_included  extra_people  \\\n",
       "1000883                86.0  100.0              3.0           0.0   \n",
       "1002835                70.0  135.0              4.0          20.0   \n",
       "\n",
       "         minimum_nights  number_of_reviews  review_scores_rating  \\\n",
       "1000883             2.0               18.0                  0.99   \n",
       "1002835             2.0                6.0                  0.80   \n",
       "\n",
       "         review_scores_cleanliness  review_scores_checkin  \\\n",
       "1000883                        1.0                    1.0   \n",
       "1002835                        0.8                    0.7   \n",
       "\n",
       "         review_scores_communication  review_scores_location  \\\n",
       "1000883                          1.0                     1.0   \n",
       "1002835                          0.8                     1.0   \n",
       "\n",
       "         review_scores_value  reviews_per_month cancellation_policy  \\\n",
       "1000883                  1.0               0.59            moderate   \n",
       "1002835                  0.8               0.31              strict   \n",
       "\n",
       "        host_is_superhost property_type  Average_rating      Price_Category  \\\n",
       "1000883                 f         House        0.998333  100 to 120 Dollars   \n",
       "1002835                 f     Apartment        0.816667  120 to 140 Dollars   \n",
       "\n",
       "         win_Median_Price  \n",
       "1000883             100.0  \n",
       "1002835             135.0  "
      ]
     },
     "execution_count": 135,
     "metadata": {},
     "output_type": "execute_result"
    }
   ],
   "source": [
    "Clean_df.head(2)"
   ]
  },
  {
   "cell_type": "markdown",
   "metadata": {},
   "source": [
    "I will first check the popularity of each property type by using the number of reviewers"
   ]
  },
  {
   "cell_type": "code",
   "execution_count": 61,
   "metadata": {
    "ExecuteTime": {
     "end_time": "2020-06-15T23:57:11.675725Z",
     "start_time": "2020-06-15T23:57:11.663145Z"
    }
   },
   "outputs": [],
   "source": [
    "count_popularity = Clean_df.groupby('property_type').agg({'Reviewers_Count': 'median', \n",
    "                                              'reviews_per_month': 'median'})\n",
    "\n",
    "count_popularity.sort_values(by='Reviewers_Count', ascending=False, inplace=True)"
   ]
  },
  {
   "cell_type": "code",
   "execution_count": 144,
   "metadata": {
    "ExecuteTime": {
     "end_time": "2020-06-14T06:49:25.390917Z",
     "start_time": "2020-06-14T06:49:25.382939Z"
    }
   },
   "outputs": [
    {
     "data": {
      "text/html": [
       "<div>\n",
       "<style scoped>\n",
       "    .dataframe tbody tr th:only-of-type {\n",
       "        vertical-align: middle;\n",
       "    }\n",
       "\n",
       "    .dataframe tbody tr th {\n",
       "        vertical-align: top;\n",
       "    }\n",
       "\n",
       "    .dataframe thead th {\n",
       "        text-align: right;\n",
       "    }\n",
       "</style>\n",
       "<table border=\"1\" class=\"dataframe\">\n",
       "  <thead>\n",
       "    <tr style=\"text-align: right;\">\n",
       "      <th></th>\n",
       "      <th>Reviewers_Count</th>\n",
       "      <th>reviews_per_month</th>\n",
       "    </tr>\n",
       "    <tr>\n",
       "      <th>property_type</th>\n",
       "      <th></th>\n",
       "      <th></th>\n",
       "    </tr>\n",
       "  </thead>\n",
       "  <tbody>\n",
       "    <tr>\n",
       "      <th>Camper/RV</th>\n",
       "      <td>80.0</td>\n",
       "      <td>3.690</td>\n",
       "    </tr>\n",
       "    <tr>\n",
       "      <th>Cabin</th>\n",
       "      <td>66.0</td>\n",
       "      <td>3.530</td>\n",
       "    </tr>\n",
       "    <tr>\n",
       "      <th>Other</th>\n",
       "      <td>48.5</td>\n",
       "      <td>3.505</td>\n",
       "    </tr>\n",
       "    <tr>\n",
       "      <th>Loft</th>\n",
       "      <td>39.0</td>\n",
       "      <td>3.320</td>\n",
       "    </tr>\n",
       "    <tr>\n",
       "      <th>House</th>\n",
       "      <td>25.0</td>\n",
       "      <td>2.280</td>\n",
       "    </tr>\n",
       "  </tbody>\n",
       "</table>\n",
       "</div>"
      ],
      "text/plain": [
       "               Reviewers_Count  reviews_per_month\n",
       "property_type                                    \n",
       "Camper/RV                 80.0              3.690\n",
       "Cabin                     66.0              3.530\n",
       "Other                     48.5              3.505\n",
       "Loft                      39.0              3.320\n",
       "House                     25.0              2.280"
      ]
     },
     "execution_count": 144,
     "metadata": {},
     "output_type": "execute_result"
    }
   ],
   "source": [
    "count_popularity.head()"
   ]
  },
  {
   "cell_type": "code",
   "execution_count": 62,
   "metadata": {
    "ExecuteTime": {
     "end_time": "2020-06-15T23:57:27.606672Z",
     "start_time": "2020-06-15T23:57:27.262223Z"
    }
   },
   "outputs": [
    {
     "data": {
      "image/png": "[encoded data removed]",
      "text/plain": [
       "<Figure size 864x504 with 2 Axes>"
      ]
     },
     "metadata": {
      "needs_background": "light"
     },
     "output_type": "display_data"
    }
   ],
   "source": [
    "data = count_popularity\n",
    "\n",
    "frequencies = count_popularity['Reviewers_Count']\n",
    "\n",
    "#Creating a series for the data and making the index labels\n",
    "freq_series = pd.Series(frequencies)\n",
    "\n",
    "x_labels = data.index\n",
    "\n",
    "#Plot the figure\n",
    "# Plot the figure.\n",
    "plt.subplots(figsize=(12, 7))\n",
    "ax = freq_series.plot(kind='bar', legend=False, color = ['#17618C', '#62B5E5'])\n",
    "ax.set_title('Median Reviewers and Reviewes per Month for each Property Type',fontsize=12, y=1.08)\n",
    "ax.set_xlabel('')\n",
    "ax.set_ylabel('Reviewers', fontsize=12)\n",
    "ax.set_xticklabels(x_labels, fontsize=10, rotation=90)\n",
    "\n",
    "#ax.set_yticklabels(freq_series, fontsize=16, rotation=0)\n",
    "# Despine\n",
    "ax.spines['right'].set_visible(False)\n",
    "ax.spines['top'].set_visible(False)\n",
    "\n",
    "#Putting commas to thousands figures on the y axis\n",
    "ax.get_yaxis().set_major_formatter(plt.FuncFormatter(lambda x, loc: \"{:,}\".format(int(x))))\n",
    "#Set y limits\n",
    "\n",
    "#ax.set_ylim(0, 6500)\n",
    "\n",
    "def add_value_labels(ax, spacing=5):\n",
    "\n",
    "    \"\"\"Add labels to the end of each bar in a bar chart.\n",
    "    Arguments:\n",
    "        ax (matplotlib.axes.Axes): The matplotlib object containing the axes\n",
    "            of the plot to annotate.\n",
    "        spacing (int): The distance between the labels and the bars.\n",
    "    \"\"\"\n",
    "    # For each bar: Place a label\n",
    "    for patch_bar in ax.patches:\n",
    "        patch_bar.set_color('#62B5E5')\n",
    "        \n",
    "        # Get X and Y placement of label from patch_bar.\n",
    "        y_value = patch_bar.get_height()\n",
    "        x_value = patch_bar.get_x() + patch_bar.get_width() / 2\n",
    "        \n",
    "        # Number of points between bar and label. Change to your liking.\n",
    "        space = spacing\n",
    "\n",
    "        # Vertical alignment for positive values\n",
    "        va = 'bottom'\n",
    "\n",
    "        # If value of bar is negative: Place label below bar\n",
    "        if y_value < 0:\n",
    "            # Invert space to place label below\n",
    "            space *= -1\n",
    "            # Vertically align label at top\n",
    "            va = 'top'\n",
    "        # Use Y value as label and format number with no decimals\n",
    "        label = \"{:.0f}\".format(y_value)\n",
    "        #label = y_value.set_major_formatter(plt.FuncFormatter(lambda x, loc: \"{:,}\".format(int(x))))\n",
    "        \n",
    "        # Create annotation\n",
    "        ax.annotate(\n",
    "            str(\"{:,}\".format(int(label))),                      # Use `label` as label\n",
    "            (x_value, y_value),         # Place label at end of the bar\n",
    "            xytext=(1.4, space),          # Vertically shift label by `space`\n",
    "            textcoords=\"offset points\", # Interpret `xytext` as offset in points\n",
    "            ha='center',                # Horizontally center label\n",
    "            va=va,\n",
    "            color ='black', rotation=0, fontsize=10) # Vertically align label differently for\n",
    "                                        # positive and negative values.\n",
    "            \n",
    "# twin object for two different y-axis on the sample plot\n",
    "ax2=ax.twinx()\n",
    "# make a plot with different y-axis using second axis object\n",
    "ax2.plot(count_popularity.index, count_popularity[\"reviews_per_month\"], color=\"darkgreen\", marker=\"o\")\n",
    "ax2.set_ylabel(\"Reviews Per Month\",color=\"black\",fontsize=14)\n",
    "\n",
    "# Call the function above.\n",
    "add_value_labels(ax)\n",
    "plt.tight_layout()"
   ]
  },
  {
   "cell_type": "markdown",
   "metadata": {},
   "source": [
    "This chart shows that generally, Camper/RV, Cabin, and Other were some of the most popular property types based on the number of reviewers. The reviews per month shows a slightly different picture and can be interpreted as even if some other properties like Yurt had fewer reviewers, they were more enthusiastic and could have posted multiple reviews."
   ]
  },
  {
   "cell_type": "markdown",
   "metadata": {},
   "source": [
    "Pricing"
   ]
  },
  {
   "cell_type": "code",
   "execution_count": 41,
   "metadata": {
    "ExecuteTime": {
     "end_time": "2020-06-15T04:16:10.336206Z",
     "start_time": "2020-06-15T04:16:10.320763Z"
    }
   },
   "outputs": [],
   "source": [
    "pricing_df = pd.DataFrame(Clean_df.groupby('property_type')['price'] \\\n",
    "                     .median()) \\\n",
    "                     .rename(columns={'price': 'Median Price'}) \\\n",
    "                     .sort_values(by='Median Price', ascending=False)"
   ]
  },
  {
   "cell_type": "code",
   "execution_count": 42,
   "metadata": {
    "ExecuteTime": {
     "end_time": "2020-06-15T04:16:13.240015Z",
     "start_time": "2020-06-15T04:16:13.216530Z"
    }
   },
   "outputs": [
    {
     "data": {
      "text/html": [
       "<div>\n",
       "<style scoped>\n",
       "    .dataframe tbody tr th:only-of-type {\n",
       "        vertical-align: middle;\n",
       "    }\n",
       "\n",
       "    .dataframe tbody tr th {\n",
       "        vertical-align: top;\n",
       "    }\n",
       "\n",
       "    .dataframe thead th {\n",
       "        text-align: right;\n",
       "    }\n",
       "</style>\n",
       "<table border=\"1\" class=\"dataframe\">\n",
       "  <thead>\n",
       "    <tr style=\"text-align: right;\">\n",
       "      <th></th>\n",
       "      <th>Median Price</th>\n",
       "      <th>Reviewers_Count</th>\n",
       "      <th>reviews_per_month</th>\n",
       "    </tr>\n",
       "    <tr>\n",
       "      <th>property_type</th>\n",
       "      <th></th>\n",
       "      <th></th>\n",
       "      <th></th>\n",
       "    </tr>\n",
       "  </thead>\n",
       "  <tbody>\n",
       "    <tr>\n",
       "      <th>Camper/RV</th>\n",
       "      <td>75.0</td>\n",
       "      <td>80.0</td>\n",
       "      <td>3.690</td>\n",
       "    </tr>\n",
       "    <tr>\n",
       "      <th>Cabin</th>\n",
       "      <td>95.0</td>\n",
       "      <td>66.0</td>\n",
       "      <td>3.530</td>\n",
       "    </tr>\n",
       "    <tr>\n",
       "      <th>Other</th>\n",
       "      <td>72.5</td>\n",
       "      <td>48.5</td>\n",
       "      <td>3.505</td>\n",
       "    </tr>\n",
       "    <tr>\n",
       "      <th>Loft</th>\n",
       "      <td>102.5</td>\n",
       "      <td>39.0</td>\n",
       "      <td>3.320</td>\n",
       "    </tr>\n",
       "    <tr>\n",
       "      <th>Yurt</th>\n",
       "      <td>100.0</td>\n",
       "      <td>25.0</td>\n",
       "      <td>4.750</td>\n",
       "    </tr>\n",
       "  </tbody>\n",
       "</table>\n",
       "</div>"
      ],
      "text/plain": [
       "               Median Price  Reviewers_Count  reviews_per_month\n",
       "property_type                                                  \n",
       "Camper/RV              75.0             80.0              3.690\n",
       "Cabin                  95.0             66.0              3.530\n",
       "Other                  72.5             48.5              3.505\n",
       "Loft                  102.5             39.0              3.320\n",
       "Yurt                  100.0             25.0              4.750"
      ]
     },
     "execution_count": 42,
     "metadata": {},
     "output_type": "execute_result"
    }
   ],
   "source": [
    "#merge the 2 dataframes\n",
    "merged_prop_type = pricing_df.merge(count_popularity, left_index=True, right_index=True)\n",
    "merged_prop_type = merged_prop_type.sort_values(by='Reviewers_Count', ascending=False)\n",
    "merged_prop_type.head()"
   ]
  },
  {
   "cell_type": "code",
   "execution_count": 43,
   "metadata": {
    "ExecuteTime": {
     "end_time": "2020-06-15T04:16:21.696008Z",
     "start_time": "2020-06-15T04:16:20.948851Z"
    }
   },
   "outputs": [
    {
     "data": {
      "image/png": "[encoded data removed]",
      "text/plain": [
       "<Figure size 864x504 with 2 Axes>"
      ]
     },
     "metadata": {
      "needs_background": "light"
     },
     "output_type": "display_data"
    }
   ],
   "source": [
    "data = merged_prop_type\n",
    "\n",
    "frequencies = merged_prop_type['Reviewers_Count']\n",
    "\n",
    "#Creating a series for the data and making the index labels\n",
    "freq_series = pd.Series(frequencies)\n",
    "\n",
    "x_labels = data.index\n",
    "\n",
    "#Plot the figure\n",
    "# Plot the figure.\n",
    "plt.subplots(figsize=(12, 7))\n",
    "ax = freq_series.plot(kind='bar', legend=False, color = ['#17618C', '#62B5E5'])\n",
    "ax.set_title('Median Reviewers and Median Price Property Type',fontsize=12, y=1.08)\n",
    "ax.set_xlabel('')\n",
    "ax.set_ylabel('Reviewers', fontsize=12)\n",
    "ax.set_xticklabels(x_labels, fontsize=10, rotation=90)\n",
    "\n",
    "#ax.set_yticklabels(freq_series, fontsize=16, rotation=0)\n",
    "# Despine\n",
    "ax.spines['right'].set_visible(False)\n",
    "ax.spines['top'].set_visible(False)\n",
    "\n",
    "#Putting commas to thousands figures on the y axis\n",
    "ax.get_yaxis().set_major_formatter(plt.FuncFormatter(lambda x, loc: \"{:,}\".format(int(x))))\n",
    "#Set y limits\n",
    "\n",
    "#ax.set_ylim(0, 6500)\n",
    "\n",
    "def add_value_labels(ax, spacing=5):\n",
    "\n",
    "    \"\"\"Add labels to the end of each bar in a bar chart.\n",
    "    Arguments:\n",
    "        ax (matplotlib.axes.Axes): The matplotlib object containing the axes\n",
    "            of the plot to annotate.\n",
    "        spacing (int): The distance between the labels and the bars.\n",
    "    \"\"\"\n",
    "    # For each bar: Place a label\n",
    "    for patch_bar in ax.patches:\n",
    "        patch_bar.set_color('steelblue')\n",
    "        \n",
    "        # Get X and Y placement of label from patch_bar.\n",
    "        y_value = patch_bar.get_height()\n",
    "        x_value = patch_bar.get_x() + patch_bar.get_width() / 2\n",
    "        \n",
    "        # Number of points between bar and label. Change to your liking.\n",
    "        space = spacing\n",
    "\n",
    "        # Vertical alignment for positive values\n",
    "        va = 'bottom'\n",
    "\n",
    "        # If value of bar is negative: Place label below bar\n",
    "        if y_value < 0:\n",
    "            # Invert space to place label below\n",
    "            space *= -1\n",
    "            # Vertically align label at top\n",
    "            va = 'top'\n",
    "        # Use Y value as label and format number with no decimals\n",
    "        label = \"{:.0f}\".format(y_value)\n",
    "        #label = y_value.set_major_formatter(plt.FuncFormatter(lambda x, loc: \"{:,}\".format(int(x))))\n",
    "        \n",
    "        # Create annotation\n",
    "        ax.annotate(\n",
    "            str(\"{:,}\".format(int(label))),                      # Use `label` as label\n",
    "            (x_value, y_value),         # Place label at end of the bar\n",
    "            xytext=(1.4, space),          # Vertically shift label by `space`\n",
    "            textcoords=\"offset points\", # Interpret `xytext` as offset in points\n",
    "            ha='center',                # Horizontally center label\n",
    "            va=va,\n",
    "            color ='black', rotation=0, fontsize=10) # Vertically align label differently for\n",
    "                                        # positive and negative values.\n",
    "            \n",
    "# twin object for two different y-axis on the sample plot\n",
    "ax2=ax.twinx()\n",
    "# make a plot with different y-axis using second axis object\n",
    "ax2.plot(merged_prop_type.index, merged_prop_type[\"Median Price\"], color=\"g\", marker=\"o\")\n",
    "ax2.set_ylabel(\"Median Price\",color=\"black\",fontsize=14)\n",
    "\n",
    "plt.text(9,750, f\"Correlation Coeff: {round(merged_prop_type['Median Price'].corr(merged_prop_type['Reviewers_Count']), 2)}\")\n",
    "\n",
    "# Call the function above.\n",
    "add_value_labels(ax)\n",
    "plt.tight_layout()"
   ]
  },
  {
   "cell_type": "markdown",
   "metadata": {},
   "source": [
    "As shown in the chart, the Median Price and number of Reviewers per property type are polar oppisites. An increases in popularity of a property type has a corresponding decrease in associated price. This shows that more people are attracted to the low priced listings."
   ]
  },
  {
   "cell_type": "code",
   "execution_count": 44,
   "metadata": {
    "ExecuteTime": {
     "end_time": "2020-06-15T04:16:46.362048Z",
     "start_time": "2020-06-15T04:16:46.350487Z"
    }
   },
   "outputs": [
    {
     "data": {
      "text/plain": [
       "-0.2904479116315599"
      ]
     },
     "execution_count": 44,
     "metadata": {},
     "output_type": "execute_result"
    }
   ],
   "source": [
    "merged_prop_type['Median Price'].corr(merged_prop_type['Reviewers_Count'])"
   ]
  },
  {
   "cell_type": "markdown",
   "metadata": {},
   "source": [
    "Even the correlation coefficient above shows the negative relationship"
   ]
  },
  {
   "cell_type": "code",
   "execution_count": null,
   "metadata": {},
   "outputs": [],
   "source": []
  }
 ],
 "metadata": {
  "kernelspec": {
   "display_name": "Python 3",
   "language": "python",
   "name": "python3"
  },
  "language_info": {
   "codemirror_mode": {
    "name": "ipython",
    "version": 3
   },
   "file_extension": ".py",
   "mimetype": "text/x-python",
   "name": "python",
   "nbconvert_exporter": "python",
   "pygments_lexer": "ipython3",
   "version": "3.7.6"
  },
  "toc": {
   "base_numbering": 1,
   "nav_menu": {},
   "number_sections": true,
   "sideBar": true,
   "skip_h1_title": false,
   "title_cell": "Table of Contents",
   "title_sidebar": "Contents",
   "toc_cell": false,
   "toc_position": {},
   "toc_section_display": true,
   "toc_window_display": false
  }
 },
 "nbformat": 4,
 "nbformat_minor": 4
}
